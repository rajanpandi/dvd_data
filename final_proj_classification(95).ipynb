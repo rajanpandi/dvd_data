{
  "cells": [
    {
      "cell_type": "markdown",
      "metadata": {
        "id": "view-in-github",
        "colab_type": "text"
      },
      "source": [
        "<a href=\"https://colab.research.google.com/github/rajanpandi/dvd_data/blob/main/final_proj_classification(95).ipynb\" target=\"_parent\"><img src=\"https://colab.research.google.com/assets/colab-badge.svg\" alt=\"Open In Colab\"/></a>"
      ]
    },
    {
      "cell_type": "markdown",
      "metadata": {
        "id": "hKClaLJMS9MJ"
      },
      "source": [
        "# **1st**"
      ]
    },
    {
      "cell_type": "code",
      "execution_count": 57,
      "metadata": {
        "id": "U8ULQXf5u5QL"
      },
      "outputs": [],
      "source": [
        "import pandas as pd"
      ]
    },
    {
      "cell_type": "code",
      "execution_count": 58,
      "metadata": {
        "id": "qXoeb6RyvQjI"
      },
      "outputs": [],
      "source": [
        "df=pd.read_csv(\"/content/combine1_data.csv\")"
      ]
    },
    {
      "cell_type": "code",
      "execution_count": 59,
      "metadata": {
        "id": "N-HzivZRvxJ7"
      },
      "outputs": [],
      "source": [
        "pd.set_option('display.max_columns',None)"
      ]
    },
    {
      "cell_type": "code",
      "execution_count": 60,
      "metadata": {
        "colab": {
          "base_uri": "https://localhost:8080/",
          "height": 187
        },
        "id": "NUIXL3UzvsVf",
        "outputId": "1f7d45da-4fd5-4621-9545-b6383f361762"
      },
      "outputs": [
        {
          "output_type": "execute_result",
          "data": {
            "text/plain": [
              "   category_id    name  film_id        title  \\\n",
              "0         11.0  Horror    749.0  Rules Human   \n",
              "\n",
              "                                         description  release_year  \\\n",
              "0  A Beautiful Epistle of a Astronaut And a Stude...        2006.0   \n",
              "\n",
              "   language_id  rental_duration  rental_rate  length  replacement_cost rating  \\\n",
              "0          1.0              6.0         4.99   153.0             19.99      R   \n",
              "\n",
              "   inventory_id  store_id  rental_id          rental_date  customer_id  \\\n",
              "0        3419.0       1.0     1520.0  2005-06-15 23:57:20        341.0   \n",
              "\n",
              "           return_date  staff_id  amount  payment_id  \\\n",
              "0  2005-06-24 23:46:20       1.0    7.99     17503.0   \n",
              "\n",
              "                 payment_date  actor_id first_name last_name  \\\n",
              "0  2007-02-15 22:25:46.996577     161.0     Harvey      Hope   \n",
              "\n",
              "                 name-2  \n",
              "0  English               "
            ],
            "text/html": [
              "\n",
              "  <div id=\"df-e9a31708-3074-4175-ab4f-503a9c008fb2\" class=\"colab-df-container\">\n",
              "    <div>\n",
              "<style scoped>\n",
              "    .dataframe tbody tr th:only-of-type {\n",
              "        vertical-align: middle;\n",
              "    }\n",
              "\n",
              "    .dataframe tbody tr th {\n",
              "        vertical-align: top;\n",
              "    }\n",
              "\n",
              "    .dataframe thead th {\n",
              "        text-align: right;\n",
              "    }\n",
              "</style>\n",
              "<table border=\"1\" class=\"dataframe\">\n",
              "  <thead>\n",
              "    <tr style=\"text-align: right;\">\n",
              "      <th></th>\n",
              "      <th>category_id</th>\n",
              "      <th>name</th>\n",
              "      <th>film_id</th>\n",
              "      <th>title</th>\n",
              "      <th>description</th>\n",
              "      <th>release_year</th>\n",
              "      <th>language_id</th>\n",
              "      <th>rental_duration</th>\n",
              "      <th>rental_rate</th>\n",
              "      <th>length</th>\n",
              "      <th>replacement_cost</th>\n",
              "      <th>rating</th>\n",
              "      <th>inventory_id</th>\n",
              "      <th>store_id</th>\n",
              "      <th>rental_id</th>\n",
              "      <th>rental_date</th>\n",
              "      <th>customer_id</th>\n",
              "      <th>return_date</th>\n",
              "      <th>staff_id</th>\n",
              "      <th>amount</th>\n",
              "      <th>payment_id</th>\n",
              "      <th>payment_date</th>\n",
              "      <th>actor_id</th>\n",
              "      <th>first_name</th>\n",
              "      <th>last_name</th>\n",
              "      <th>name-2</th>\n",
              "    </tr>\n",
              "  </thead>\n",
              "  <tbody>\n",
              "    <tr>\n",
              "      <th>0</th>\n",
              "      <td>11.0</td>\n",
              "      <td>Horror</td>\n",
              "      <td>749.0</td>\n",
              "      <td>Rules Human</td>\n",
              "      <td>A Beautiful Epistle of a Astronaut And a Stude...</td>\n",
              "      <td>2006.0</td>\n",
              "      <td>1.0</td>\n",
              "      <td>6.0</td>\n",
              "      <td>4.99</td>\n",
              "      <td>153.0</td>\n",
              "      <td>19.99</td>\n",
              "      <td>R</td>\n",
              "      <td>3419.0</td>\n",
              "      <td>1.0</td>\n",
              "      <td>1520.0</td>\n",
              "      <td>2005-06-15 23:57:20</td>\n",
              "      <td>341.0</td>\n",
              "      <td>2005-06-24 23:46:20</td>\n",
              "      <td>1.0</td>\n",
              "      <td>7.99</td>\n",
              "      <td>17503.0</td>\n",
              "      <td>2007-02-15 22:25:46.996577</td>\n",
              "      <td>161.0</td>\n",
              "      <td>Harvey</td>\n",
              "      <td>Hope</td>\n",
              "      <td>English</td>\n",
              "    </tr>\n",
              "  </tbody>\n",
              "</table>\n",
              "</div>\n",
              "    <div class=\"colab-df-buttons\">\n",
              "\n",
              "  <div class=\"colab-df-container\">\n",
              "    <button class=\"colab-df-convert\" onclick=\"convertToInteractive('df-e9a31708-3074-4175-ab4f-503a9c008fb2')\"\n",
              "            title=\"Convert this dataframe to an interactive table.\"\n",
              "            style=\"display:none;\">\n",
              "\n",
              "  <svg xmlns=\"http://www.w3.org/2000/svg\" height=\"24px\" viewBox=\"0 -960 960 960\">\n",
              "    <path d=\"M120-120v-720h720v720H120Zm60-500h600v-160H180v160Zm220 220h160v-160H400v160Zm0 220h160v-160H400v160ZM180-400h160v-160H180v160Zm440 0h160v-160H620v160ZM180-180h160v-160H180v160Zm440 0h160v-160H620v160Z\"/>\n",
              "  </svg>\n",
              "    </button>\n",
              "\n",
              "  <style>\n",
              "    .colab-df-container {\n",
              "      display:flex;\n",
              "      gap: 12px;\n",
              "    }\n",
              "\n",
              "    .colab-df-convert {\n",
              "      background-color: #E8F0FE;\n",
              "      border: none;\n",
              "      border-radius: 50%;\n",
              "      cursor: pointer;\n",
              "      display: none;\n",
              "      fill: #1967D2;\n",
              "      height: 32px;\n",
              "      padding: 0 0 0 0;\n",
              "      width: 32px;\n",
              "    }\n",
              "\n",
              "    .colab-df-convert:hover {\n",
              "      background-color: #E2EBFA;\n",
              "      box-shadow: 0px 1px 2px rgba(60, 64, 67, 0.3), 0px 1px 3px 1px rgba(60, 64, 67, 0.15);\n",
              "      fill: #174EA6;\n",
              "    }\n",
              "\n",
              "    .colab-df-buttons div {\n",
              "      margin-bottom: 4px;\n",
              "    }\n",
              "\n",
              "    [theme=dark] .colab-df-convert {\n",
              "      background-color: #3B4455;\n",
              "      fill: #D2E3FC;\n",
              "    }\n",
              "\n",
              "    [theme=dark] .colab-df-convert:hover {\n",
              "      background-color: #434B5C;\n",
              "      box-shadow: 0px 1px 3px 1px rgba(0, 0, 0, 0.15);\n",
              "      filter: drop-shadow(0px 1px 2px rgba(0, 0, 0, 0.3));\n",
              "      fill: #FFFFFF;\n",
              "    }\n",
              "  </style>\n",
              "\n",
              "    <script>\n",
              "      const buttonEl =\n",
              "        document.querySelector('#df-e9a31708-3074-4175-ab4f-503a9c008fb2 button.colab-df-convert');\n",
              "      buttonEl.style.display =\n",
              "        google.colab.kernel.accessAllowed ? 'block' : 'none';\n",
              "\n",
              "      async function convertToInteractive(key) {\n",
              "        const element = document.querySelector('#df-e9a31708-3074-4175-ab4f-503a9c008fb2');\n",
              "        const dataTable =\n",
              "          await google.colab.kernel.invokeFunction('convertToInteractive',\n",
              "                                                    [key], {});\n",
              "        if (!dataTable) return;\n",
              "\n",
              "        const docLinkHtml = 'Like what you see? Visit the ' +\n",
              "          '<a target=\"_blank\" href=https://colab.research.google.com/notebooks/data_table.ipynb>data table notebook</a>'\n",
              "          + ' to learn more about interactive tables.';\n",
              "        element.innerHTML = '';\n",
              "        dataTable['output_type'] = 'display_data';\n",
              "        await google.colab.output.renderOutput(dataTable, element);\n",
              "        const docLink = document.createElement('div');\n",
              "        docLink.innerHTML = docLinkHtml;\n",
              "        element.appendChild(docLink);\n",
              "      }\n",
              "    </script>\n",
              "  </div>\n",
              "\n",
              "\n",
              "    </div>\n",
              "  </div>\n"
            ],
            "application/vnd.google.colaboratory.intrinsic+json": {
              "type": "dataframe",
              "variable_name": "df"
            }
          },
          "metadata": {},
          "execution_count": 60
        }
      ],
      "source": [
        "df.head(1)"
      ]
    },
    {
      "cell_type": "code",
      "execution_count": 61,
      "metadata": {
        "colab": {
          "base_uri": "https://localhost:8080/"
        },
        "id": "wfcnkiCallcH",
        "outputId": "d3be9e94-6edb-4b89-825f-84e5577f7556"
      },
      "outputs": [
        {
          "output_type": "execute_result",
          "data": {
            "text/plain": [
              "array(['Horror', 'Documentary', 'New', 'Classics', 'Games', 'Sci-Fi',\n",
              "       'Foreign', 'Family', 'Travel', 'Music', 'Sports', 'Comedy',\n",
              "       'Drama', 'Action', 'Children', 'Animation', nan], dtype=object)"
            ]
          },
          "metadata": {},
          "execution_count": 61
        }
      ],
      "source": [
        "df.name.unique()"
      ]
    },
    {
      "cell_type": "code",
      "execution_count": 62,
      "metadata": {
        "id": "Kzhg6H-eluOG"
      },
      "outputs": [],
      "source": [
        "movie={'Horror':1, 'Documentary':2, 'New':3, 'Classics':4, 'Games':5, 'Sci-Fi':6,\n",
        "       'Foreign':7, 'Family':8, 'Travel':9, 'Music':10, 'Sports':11, 'Comedy':12,\n",
        "       'Drama':13, 'Action':14, 'Children':15, 'Animation':16}"
      ]
    },
    {
      "cell_type": "code",
      "execution_count": 63,
      "metadata": {
        "id": "i2j8bSwbvv3N"
      },
      "outputs": [],
      "source": [
        "df1=df.loc[:,[\"category_id\",\"rating\",\"customer_id\",\"actor_id\",\"rental_duration\",\"rental_rate\",\"length\",\"inventory_id\",\"store_id\"]]"
      ]
    },
    {
      "cell_type": "code",
      "execution_count": 64,
      "metadata": {
        "colab": {
          "base_uri": "https://localhost:8080/",
          "height": 101
        },
        "id": "nUxzXOWuwfJ2",
        "outputId": "9cc22a41-73aa-40c4-a4e7-3699c187625e"
      },
      "outputs": [
        {
          "output_type": "execute_result",
          "data": {
            "text/plain": [
              "   category_id rating  customer_id  actor_id  rental_duration  rental_rate  \\\n",
              "0         11.0      R        341.0     161.0              6.0         4.99   \n",
              "\n",
              "   length  inventory_id  store_id  \n",
              "0   153.0        3419.0       1.0  "
            ],
            "text/html": [
              "\n",
              "  <div id=\"df-8da10490-dca4-4ec6-890b-095e1ed60de6\" class=\"colab-df-container\">\n",
              "    <div>\n",
              "<style scoped>\n",
              "    .dataframe tbody tr th:only-of-type {\n",
              "        vertical-align: middle;\n",
              "    }\n",
              "\n",
              "    .dataframe tbody tr th {\n",
              "        vertical-align: top;\n",
              "    }\n",
              "\n",
              "    .dataframe thead th {\n",
              "        text-align: right;\n",
              "    }\n",
              "</style>\n",
              "<table border=\"1\" class=\"dataframe\">\n",
              "  <thead>\n",
              "    <tr style=\"text-align: right;\">\n",
              "      <th></th>\n",
              "      <th>category_id</th>\n",
              "      <th>rating</th>\n",
              "      <th>customer_id</th>\n",
              "      <th>actor_id</th>\n",
              "      <th>rental_duration</th>\n",
              "      <th>rental_rate</th>\n",
              "      <th>length</th>\n",
              "      <th>inventory_id</th>\n",
              "      <th>store_id</th>\n",
              "    </tr>\n",
              "  </thead>\n",
              "  <tbody>\n",
              "    <tr>\n",
              "      <th>0</th>\n",
              "      <td>11.0</td>\n",
              "      <td>R</td>\n",
              "      <td>341.0</td>\n",
              "      <td>161.0</td>\n",
              "      <td>6.0</td>\n",
              "      <td>4.99</td>\n",
              "      <td>153.0</td>\n",
              "      <td>3419.0</td>\n",
              "      <td>1.0</td>\n",
              "    </tr>\n",
              "  </tbody>\n",
              "</table>\n",
              "</div>\n",
              "    <div class=\"colab-df-buttons\">\n",
              "\n",
              "  <div class=\"colab-df-container\">\n",
              "    <button class=\"colab-df-convert\" onclick=\"convertToInteractive('df-8da10490-dca4-4ec6-890b-095e1ed60de6')\"\n",
              "            title=\"Convert this dataframe to an interactive table.\"\n",
              "            style=\"display:none;\">\n",
              "\n",
              "  <svg xmlns=\"http://www.w3.org/2000/svg\" height=\"24px\" viewBox=\"0 -960 960 960\">\n",
              "    <path d=\"M120-120v-720h720v720H120Zm60-500h600v-160H180v160Zm220 220h160v-160H400v160Zm0 220h160v-160H400v160ZM180-400h160v-160H180v160Zm440 0h160v-160H620v160ZM180-180h160v-160H180v160Zm440 0h160v-160H620v160Z\"/>\n",
              "  </svg>\n",
              "    </button>\n",
              "\n",
              "  <style>\n",
              "    .colab-df-container {\n",
              "      display:flex;\n",
              "      gap: 12px;\n",
              "    }\n",
              "\n",
              "    .colab-df-convert {\n",
              "      background-color: #E8F0FE;\n",
              "      border: none;\n",
              "      border-radius: 50%;\n",
              "      cursor: pointer;\n",
              "      display: none;\n",
              "      fill: #1967D2;\n",
              "      height: 32px;\n",
              "      padding: 0 0 0 0;\n",
              "      width: 32px;\n",
              "    }\n",
              "\n",
              "    .colab-df-convert:hover {\n",
              "      background-color: #E2EBFA;\n",
              "      box-shadow: 0px 1px 2px rgba(60, 64, 67, 0.3), 0px 1px 3px 1px rgba(60, 64, 67, 0.15);\n",
              "      fill: #174EA6;\n",
              "    }\n",
              "\n",
              "    .colab-df-buttons div {\n",
              "      margin-bottom: 4px;\n",
              "    }\n",
              "\n",
              "    [theme=dark] .colab-df-convert {\n",
              "      background-color: #3B4455;\n",
              "      fill: #D2E3FC;\n",
              "    }\n",
              "\n",
              "    [theme=dark] .colab-df-convert:hover {\n",
              "      background-color: #434B5C;\n",
              "      box-shadow: 0px 1px 3px 1px rgba(0, 0, 0, 0.15);\n",
              "      filter: drop-shadow(0px 1px 2px rgba(0, 0, 0, 0.3));\n",
              "      fill: #FFFFFF;\n",
              "    }\n",
              "  </style>\n",
              "\n",
              "    <script>\n",
              "      const buttonEl =\n",
              "        document.querySelector('#df-8da10490-dca4-4ec6-890b-095e1ed60de6 button.colab-df-convert');\n",
              "      buttonEl.style.display =\n",
              "        google.colab.kernel.accessAllowed ? 'block' : 'none';\n",
              "\n",
              "      async function convertToInteractive(key) {\n",
              "        const element = document.querySelector('#df-8da10490-dca4-4ec6-890b-095e1ed60de6');\n",
              "        const dataTable =\n",
              "          await google.colab.kernel.invokeFunction('convertToInteractive',\n",
              "                                                    [key], {});\n",
              "        if (!dataTable) return;\n",
              "\n",
              "        const docLinkHtml = 'Like what you see? Visit the ' +\n",
              "          '<a target=\"_blank\" href=https://colab.research.google.com/notebooks/data_table.ipynb>data table notebook</a>'\n",
              "          + ' to learn more about interactive tables.';\n",
              "        element.innerHTML = '';\n",
              "        dataTable['output_type'] = 'display_data';\n",
              "        await google.colab.output.renderOutput(dataTable, element);\n",
              "        const docLink = document.createElement('div');\n",
              "        docLink.innerHTML = docLinkHtml;\n",
              "        element.appendChild(docLink);\n",
              "      }\n",
              "    </script>\n",
              "  </div>\n",
              "\n",
              "\n",
              "    </div>\n",
              "  </div>\n"
            ],
            "application/vnd.google.colaboratory.intrinsic+json": {
              "type": "dataframe",
              "variable_name": "df1",
              "summary": "{\n  \"name\": \"df1\",\n  \"rows\": 88275,\n  \"fields\": [\n    {\n      \"column\": \"category_id\",\n      \"properties\": {\n        \"dtype\": \"number\",\n        \"std\": 4.700588778506364,\n        \"min\": 1.0,\n        \"max\": 16.0,\n        \"num_unique_values\": 16,\n        \"samples\": [\n          11.0,\n          6.0,\n          14.0\n        ],\n        \"semantic_type\": \"\",\n        \"description\": \"\"\n      }\n    },\n    {\n      \"column\": \"rating\",\n      \"properties\": {\n        \"dtype\": \"category\",\n        \"num_unique_values\": 5,\n        \"samples\": [\n          \"PG\",\n          \"NC-17\",\n          \"G\"\n        ],\n        \"semantic_type\": \"\",\n        \"description\": \"\"\n      }\n    },\n    {\n      \"column\": \"customer_id\",\n      \"properties\": {\n        \"dtype\": \"number\",\n        \"std\": 172.24406995635206,\n        \"min\": 1.0,\n        \"max\": 599.0,\n        \"num_unique_values\": 599,\n        \"samples\": [\n          455.0,\n          161.0,\n          314.0\n        ],\n        \"semantic_type\": \"\",\n        \"description\": \"\"\n      }\n    },\n    {\n      \"column\": \"actor_id\",\n      \"properties\": {\n        \"dtype\": \"number\",\n        \"std\": 56.90235539472572,\n        \"min\": 1.0,\n        \"max\": 200.0,\n        \"num_unique_values\": 200,\n        \"samples\": [\n          152.0,\n          60.0,\n          122.0\n        ],\n        \"semantic_type\": \"\",\n        \"description\": \"\"\n      }\n    },\n    {\n      \"column\": \"rental_duration\",\n      \"properties\": {\n        \"dtype\": \"number\",\n        \"std\": 1.380146606683445,\n        \"min\": 3.0,\n        \"max\": 7.0,\n        \"num_unique_values\": 5,\n        \"samples\": [\n          5.0,\n          4.0,\n          3.0\n        ],\n        \"semantic_type\": \"\",\n        \"description\": \"\"\n      }\n    },\n    {\n      \"column\": \"rental_rate\",\n      \"properties\": {\n        \"dtype\": \"number\",\n        \"std\": 1.6371328878528593,\n        \"min\": 0.99,\n        \"max\": 4.99,\n        \"num_unique_values\": 3,\n        \"samples\": [\n          4.99,\n          0.99,\n          2.99\n        ],\n        \"semantic_type\": \"\",\n        \"description\": \"\"\n      }\n    },\n    {\n      \"column\": \"length\",\n      \"properties\": {\n        \"dtype\": \"number\",\n        \"std\": 40.49899031163144,\n        \"min\": 46.0,\n        \"max\": 185.0,\n        \"num_unique_values\": 140,\n        \"samples\": [\n          133.0,\n          126.0,\n          103.0\n        ],\n        \"semantic_type\": \"\",\n        \"description\": \"\"\n      }\n    },\n    {\n      \"column\": \"inventory_id\",\n      \"properties\": {\n        \"dtype\": \"number\",\n        \"std\": 1321.180706959626,\n        \"min\": 1.0,\n        \"max\": 4581.0,\n        \"num_unique_values\": 4581,\n        \"samples\": [\n          765.0,\n          2673.0,\n          106.0\n        ],\n        \"semantic_type\": \"\",\n        \"description\": \"\"\n      }\n    },\n    {\n      \"column\": \"store_id\",\n      \"properties\": {\n        \"dtype\": \"number\",\n        \"std\": 0.4999312499227248,\n        \"min\": 1.0,\n        \"max\": 2.0,\n        \"num_unique_values\": 2,\n        \"samples\": [\n          2.0,\n          1.0\n        ],\n        \"semantic_type\": \"\",\n        \"description\": \"\"\n      }\n    }\n  ]\n}"
            }
          },
          "metadata": {},
          "execution_count": 64
        }
      ],
      "source": [
        "df1.head(1)"
      ]
    },
    {
      "cell_type": "code",
      "execution_count": 65,
      "metadata": {
        "colab": {
          "base_uri": "https://localhost:8080/",
          "height": 366
        },
        "id": "G4TD4lYNwjNh",
        "outputId": "d75232ed-d20f-4ab2-a350-ce21f92e03e6"
      },
      "outputs": [
        {
          "output_type": "execute_result",
          "data": {
            "text/plain": [
              "category_id        float64\n",
              "rating              object\n",
              "customer_id        float64\n",
              "actor_id           float64\n",
              "rental_duration    float64\n",
              "rental_rate        float64\n",
              "length             float64\n",
              "inventory_id       float64\n",
              "store_id           float64\n",
              "dtype: object"
            ],
            "text/html": [
              "<div>\n",
              "<style scoped>\n",
              "    .dataframe tbody tr th:only-of-type {\n",
              "        vertical-align: middle;\n",
              "    }\n",
              "\n",
              "    .dataframe tbody tr th {\n",
              "        vertical-align: top;\n",
              "    }\n",
              "\n",
              "    .dataframe thead th {\n",
              "        text-align: right;\n",
              "    }\n",
              "</style>\n",
              "<table border=\"1\" class=\"dataframe\">\n",
              "  <thead>\n",
              "    <tr style=\"text-align: right;\">\n",
              "      <th></th>\n",
              "      <th>0</th>\n",
              "    </tr>\n",
              "  </thead>\n",
              "  <tbody>\n",
              "    <tr>\n",
              "      <th>category_id</th>\n",
              "      <td>float64</td>\n",
              "    </tr>\n",
              "    <tr>\n",
              "      <th>rating</th>\n",
              "      <td>object</td>\n",
              "    </tr>\n",
              "    <tr>\n",
              "      <th>customer_id</th>\n",
              "      <td>float64</td>\n",
              "    </tr>\n",
              "    <tr>\n",
              "      <th>actor_id</th>\n",
              "      <td>float64</td>\n",
              "    </tr>\n",
              "    <tr>\n",
              "      <th>rental_duration</th>\n",
              "      <td>float64</td>\n",
              "    </tr>\n",
              "    <tr>\n",
              "      <th>rental_rate</th>\n",
              "      <td>float64</td>\n",
              "    </tr>\n",
              "    <tr>\n",
              "      <th>length</th>\n",
              "      <td>float64</td>\n",
              "    </tr>\n",
              "    <tr>\n",
              "      <th>inventory_id</th>\n",
              "      <td>float64</td>\n",
              "    </tr>\n",
              "    <tr>\n",
              "      <th>store_id</th>\n",
              "      <td>float64</td>\n",
              "    </tr>\n",
              "  </tbody>\n",
              "</table>\n",
              "</div><br><label><b>dtype:</b> object</label>"
            ]
          },
          "metadata": {},
          "execution_count": 65
        }
      ],
      "source": [
        "df1.dtypes"
      ]
    },
    {
      "cell_type": "code",
      "source": [
        "df1.store_id.value_counts()"
      ],
      "metadata": {
        "colab": {
          "base_uri": "https://localhost:8080/",
          "height": 178
        },
        "id": "b0Vxyz_dQPSD",
        "outputId": "8ae841bb-42d8-41ad-98c2-b95522a8d4e3"
      },
      "execution_count": 116,
      "outputs": [
        {
          "output_type": "execute_result",
          "data": {
            "text/plain": [
              "store_id\n",
              "1    44735\n",
              "0    43245\n",
              "Name: count, dtype: int64"
            ],
            "text/html": [
              "<div>\n",
              "<style scoped>\n",
              "    .dataframe tbody tr th:only-of-type {\n",
              "        vertical-align: middle;\n",
              "    }\n",
              "\n",
              "    .dataframe tbody tr th {\n",
              "        vertical-align: top;\n",
              "    }\n",
              "\n",
              "    .dataframe thead th {\n",
              "        text-align: right;\n",
              "    }\n",
              "</style>\n",
              "<table border=\"1\" class=\"dataframe\">\n",
              "  <thead>\n",
              "    <tr style=\"text-align: right;\">\n",
              "      <th></th>\n",
              "      <th>count</th>\n",
              "    </tr>\n",
              "    <tr>\n",
              "      <th>store_id</th>\n",
              "      <th></th>\n",
              "    </tr>\n",
              "  </thead>\n",
              "  <tbody>\n",
              "    <tr>\n",
              "      <th>1</th>\n",
              "      <td>44735</td>\n",
              "    </tr>\n",
              "    <tr>\n",
              "      <th>0</th>\n",
              "      <td>43245</td>\n",
              "    </tr>\n",
              "  </tbody>\n",
              "</table>\n",
              "</div><br><label><b>dtype:</b> int64</label>"
            ]
          },
          "metadata": {},
          "execution_count": 116
        }
      ]
    },
    {
      "cell_type": "code",
      "execution_count": 66,
      "metadata": {
        "colab": {
          "base_uri": "https://localhost:8080/",
          "height": 366
        },
        "id": "EcW887CcwmxW",
        "outputId": "d0f5804d-8c18-45aa-afe7-616cbd3c943f"
      },
      "outputs": [
        {
          "output_type": "execute_result",
          "data": {
            "text/plain": [
              "category_id          5\n",
              "rating               5\n",
              "customer_id        231\n",
              "actor_id            45\n",
              "rental_duration      5\n",
              "rental_rate          5\n",
              "length               5\n",
              "inventory_id       221\n",
              "store_id           221\n",
              "dtype: int64"
            ],
            "text/html": [
              "<div>\n",
              "<style scoped>\n",
              "    .dataframe tbody tr th:only-of-type {\n",
              "        vertical-align: middle;\n",
              "    }\n",
              "\n",
              "    .dataframe tbody tr th {\n",
              "        vertical-align: top;\n",
              "    }\n",
              "\n",
              "    .dataframe thead th {\n",
              "        text-align: right;\n",
              "    }\n",
              "</style>\n",
              "<table border=\"1\" class=\"dataframe\">\n",
              "  <thead>\n",
              "    <tr style=\"text-align: right;\">\n",
              "      <th></th>\n",
              "      <th>0</th>\n",
              "    </tr>\n",
              "  </thead>\n",
              "  <tbody>\n",
              "    <tr>\n",
              "      <th>category_id</th>\n",
              "      <td>5</td>\n",
              "    </tr>\n",
              "    <tr>\n",
              "      <th>rating</th>\n",
              "      <td>5</td>\n",
              "    </tr>\n",
              "    <tr>\n",
              "      <th>customer_id</th>\n",
              "      <td>231</td>\n",
              "    </tr>\n",
              "    <tr>\n",
              "      <th>actor_id</th>\n",
              "      <td>45</td>\n",
              "    </tr>\n",
              "    <tr>\n",
              "      <th>rental_duration</th>\n",
              "      <td>5</td>\n",
              "    </tr>\n",
              "    <tr>\n",
              "      <th>rental_rate</th>\n",
              "      <td>5</td>\n",
              "    </tr>\n",
              "    <tr>\n",
              "      <th>length</th>\n",
              "      <td>5</td>\n",
              "    </tr>\n",
              "    <tr>\n",
              "      <th>inventory_id</th>\n",
              "      <td>221</td>\n",
              "    </tr>\n",
              "    <tr>\n",
              "      <th>store_id</th>\n",
              "      <td>221</td>\n",
              "    </tr>\n",
              "  </tbody>\n",
              "</table>\n",
              "</div><br><label><b>dtype:</b> int64</label>"
            ]
          },
          "metadata": {},
          "execution_count": 66
        }
      ],
      "source": [
        "df1.isnull().sum()"
      ]
    },
    {
      "cell_type": "code",
      "execution_count": 67,
      "metadata": {
        "id": "xEOCdl82wr_Q"
      },
      "outputs": [],
      "source": [
        "df1.dropna(inplace=True)"
      ]
    },
    {
      "cell_type": "code",
      "execution_count": 68,
      "metadata": {
        "colab": {
          "base_uri": "https://localhost:8080/"
        },
        "id": "WKHia5FlwvJF",
        "outputId": "8b7ab187-3484-491c-cef6-c51ef1a2285f"
      },
      "outputs": [
        {
          "output_type": "execute_result",
          "data": {
            "text/plain": [
              "24"
            ]
          },
          "metadata": {},
          "execution_count": 68
        }
      ],
      "source": [
        "df1.duplicated().sum()"
      ]
    },
    {
      "cell_type": "code",
      "execution_count": 69,
      "metadata": {
        "id": "n6cMTyQ2wyTY"
      },
      "outputs": [],
      "source": [
        "df1.drop_duplicates(inplace=True)"
      ]
    },
    {
      "cell_type": "code",
      "execution_count": 70,
      "metadata": {
        "colab": {
          "base_uri": "https://localhost:8080/"
        },
        "id": "00p9mwUDw076",
        "outputId": "ca935fab-00c1-45c1-b959-b4eefd0c7843"
      },
      "outputs": [
        {
          "output_type": "execute_result",
          "data": {
            "text/plain": [
              "(87980, 9)"
            ]
          },
          "metadata": {},
          "execution_count": 70
        }
      ],
      "source": [
        "df1.shape"
      ]
    },
    {
      "cell_type": "code",
      "execution_count": 71,
      "metadata": {
        "id": "Tp6zMXajw3tR"
      },
      "outputs": [],
      "source": [
        "from sklearn.preprocessing import LabelEncoder\n",
        "le=LabelEncoder()"
      ]
    },
    {
      "cell_type": "code",
      "execution_count": 72,
      "metadata": {
        "id": "HLSnIq8Iw8AQ"
      },
      "outputs": [],
      "source": [
        "for i in df1.columns:\n",
        "  df1[i]=le.fit_transform(df1[i])"
      ]
    },
    {
      "cell_type": "code",
      "execution_count": 73,
      "metadata": {
        "id": "5IsjQo8Pw_8n"
      },
      "outputs": [],
      "source": [
        "x=df1.drop(\"category_id\",axis=1)\n",
        "y=df1[\"category_id\"]"
      ]
    },
    {
      "cell_type": "code",
      "execution_count": 74,
      "metadata": {
        "colab": {
          "base_uri": "https://localhost:8080/"
        },
        "id": "1_kvXG8Bjzu0",
        "outputId": "4aa83635-c1f6-4a06-d6d7-b25acd83a78a"
      },
      "outputs": [
        {
          "output_type": "execute_result",
          "data": {
            "text/plain": [
              "Index(['rating', 'customer_id', 'actor_id', 'rental_duration', 'rental_rate',\n",
              "       'length', 'inventory_id', 'store_id'],\n",
              "      dtype='object')"
            ]
          },
          "metadata": {},
          "execution_count": 74
        }
      ],
      "source": [
        "x.columns"
      ]
    },
    {
      "cell_type": "code",
      "execution_count": 75,
      "metadata": {
        "id": "t-l6SposxI1I"
      },
      "outputs": [],
      "source": [
        "from keras.utils import to_categorical\n",
        "y_new=to_categorical(y)"
      ]
    },
    {
      "cell_type": "code",
      "execution_count": 76,
      "metadata": {
        "colab": {
          "base_uri": "https://localhost:8080/"
        },
        "id": "R1WHtUnvxb2Y",
        "outputId": "3a881de5-27d7-42c6-d190-7d76848b9285"
      },
      "outputs": [
        {
          "output_type": "execute_result",
          "data": {
            "text/plain": [
              "(87980, 16)"
            ]
          },
          "metadata": {},
          "execution_count": 76
        }
      ],
      "source": [
        "y_new.shape"
      ]
    },
    {
      "cell_type": "code",
      "execution_count": 77,
      "metadata": {
        "id": "nofidcmWxewd"
      },
      "outputs": [],
      "source": [
        "from sklearn.preprocessing import StandardScaler\n",
        "sc=StandardScaler()\n",
        "x_scaler=sc.fit_transform(x)"
      ]
    },
    {
      "cell_type": "code",
      "execution_count": 78,
      "metadata": {
        "colab": {
          "base_uri": "https://localhost:8080/"
        },
        "id": "fDwfnH1Dxpsl",
        "outputId": "fac3d5de-9be9-4a23-9748-9dfd4622c621"
      },
      "outputs": [
        {
          "output_type": "execute_result",
          "data": {
            "text/plain": [
              "array([[ 1.41055496,  0.25435651,  1.05529736, ...,  0.93570764,\n",
              "         0.85160478, -1.01708154],\n",
              "       [ 1.41055496,  0.25435651,  0.45775759, ...,  0.93570764,\n",
              "         0.85160478, -1.01708154],\n",
              "       [ 1.41055496,  0.25435651, -0.42097737, ...,  0.93570764,\n",
              "         0.85160478, -1.01708154],\n",
              "       ...,\n",
              "       [-1.49263831, -1.23183946, -0.22765568, ..., -0.89146716,\n",
              "         1.61236693, -1.01708154],\n",
              "       [-1.49263831, -1.23183946, -0.40340267, ..., -0.89146716,\n",
              "         1.61236693, -1.01708154],\n",
              "       [-1.49263831, -1.23183946, -1.51060871, ..., -0.89146716,\n",
              "         1.61236693, -1.01708154]])"
            ]
          },
          "metadata": {},
          "execution_count": 78
        }
      ],
      "source": [
        "x_scaler"
      ]
    },
    {
      "cell_type": "code",
      "execution_count": 79,
      "metadata": {
        "id": "Vy1mmxcGxxB2"
      },
      "outputs": [],
      "source": [
        "from sklearn.model_selection import train_test_split\n",
        "x_train,x_test,y_train,y_test=train_test_split(x_scaler,y_new,test_size=0.25,random_state=0)"
      ]
    },
    {
      "cell_type": "code",
      "execution_count": 80,
      "metadata": {
        "colab": {
          "base_uri": "https://localhost:8080/"
        },
        "id": "BYoywMRVLDZF",
        "outputId": "ce583676-7eda-4440-e36f-08de400deca6"
      },
      "outputs": [
        {
          "output_type": "execute_result",
          "data": {
            "text/plain": [
              "(65985, 8)"
            ]
          },
          "metadata": {},
          "execution_count": 80
        }
      ],
      "source": [
        "x_train.shape"
      ]
    },
    {
      "cell_type": "code",
      "execution_count": 81,
      "metadata": {
        "id": "dKv2Xw_cyAN4"
      },
      "outputs": [],
      "source": [
        "from tensorflow.keras.models import Sequential\n",
        "from tensorflow.keras.layers import Dense,LeakyReLU\n",
        "import tensorflow as tf"
      ]
    },
    {
      "cell_type": "code",
      "execution_count": 82,
      "metadata": {
        "colab": {
          "base_uri": "https://localhost:8080/"
        },
        "id": "L9p2OeFAyC2N",
        "outputId": "088ac26f-3ad2-4a78-87e8-6423c0f53eb3"
      },
      "outputs": [
        {
          "output_type": "stream",
          "name": "stderr",
          "text": [
            "/usr/local/lib/python3.10/dist-packages/keras/src/layers/core/dense.py:87: UserWarning: Do not pass an `input_shape`/`input_dim` argument to a layer. When using Sequential models, prefer using an `Input(shape)` object as the first layer in the model instead.\n",
            "  super().__init__(activity_regularizer=activity_regularizer, **kwargs)\n"
          ]
        }
      ],
      "source": [
        "from tensorflow.keras.models import Sequential\n",
        "from tensorflow.keras.layers import Dense\n",
        "import tensorflow as tf\n",
        "model = Sequential()\n",
        "#input dimension 8 neuron - developer scope\n",
        "model.add(Dense(512,input_dim = x_train.shape[1],activation='tanh')) #hidden layer1\n",
        "model.add(Dense(512,activation='tanh')) #hidden layer2\n",
        "model.add(Dense(256,activation='tanh')) #hidden layer3\n",
        "model.add(Dense(128,activation='tanh')) #hidden layer3\n",
        "model.add(Dense(64,activation='tanh')) #hidden layer3\n",
        "model.add(Dense(64,activation='tanh')) #hidden layer3\n",
        "model.add(Dense(32,activation='tanh')) #hidden layer3\n",
        "model.add(Dense(32,activation='tanh')) #hidden layer3\n",
        "\n",
        "model.add(Dense(16,activation=\"softmax\")) #output layer\n",
        "model.compile(loss=\"categorical_crossentropy\",optimizer=\"adam\",metrics=[tf.keras.metrics.F1Score(),\"accuracy\",tf.keras.metrics.Precision(),tf.keras.metrics.Recall()])"
      ]
    },
    {
      "cell_type": "code",
      "execution_count": 83,
      "metadata": {
        "colab": {
          "base_uri": "https://localhost:8080/"
        },
        "collapsed": true,
        "id": "Y2NP115xzeZR",
        "outputId": "a563492a-4ca0-428d-e83d-6746e2232e69"
      },
      "outputs": [
        {
          "output_type": "stream",
          "name": "stdout",
          "text": [
            "Epoch 1/5\n",
            "\u001b[1m1650/1650\u001b[0m \u001b[32m━━━━━━━━━━━━━━━━━━━━\u001b[0m\u001b[37m\u001b[0m \u001b[1m27s\u001b[0m 13ms/step - accuracy: 0.2958 - f1_score: 0.2842 - loss: 2.2711 - precision_1: 0.5744 - recall_1: 0.0808 - val_accuracy: 0.8544 - val_f1_score: 0.8518 - val_loss: 0.5527 - val_precision_1: 0.9094 - val_recall_1: 0.7830\n",
            "Epoch 2/5\n",
            "\u001b[1m1650/1650\u001b[0m \u001b[32m━━━━━━━━━━━━━━━━━━━━\u001b[0m\u001b[37m\u001b[0m \u001b[1m39s\u001b[0m 12ms/step - accuracy: 0.8980 - f1_score: 0.8958 - loss: 0.3829 - precision_1: 0.9305 - recall_1: 0.8639 - val_accuracy: 0.9481 - val_f1_score: 0.9470 - val_loss: 0.1756 - val_precision_1: 0.9544 - val_recall_1: 0.9398\n",
            "Epoch 3/5\n",
            "\u001b[1m1650/1650\u001b[0m \u001b[32m━━━━━━━━━━━━━━━━━━━━\u001b[0m\u001b[37m\u001b[0m \u001b[1m23s\u001b[0m 13ms/step - accuracy: 0.9414 - f1_score: 0.9401 - loss: 0.2076 - precision_1: 0.9506 - recall_1: 0.9313 - val_accuracy: 0.9513 - val_f1_score: 0.9497 - val_loss: 0.1658 - val_precision_1: 0.9563 - val_recall_1: 0.9446\n",
            "Epoch 4/5\n",
            "\u001b[1m1650/1650\u001b[0m \u001b[32m━━━━━━━━━━━━━━━━━━━━\u001b[0m\u001b[37m\u001b[0m \u001b[1m38s\u001b[0m 12ms/step - accuracy: 0.9502 - f1_score: 0.9491 - loss: 0.1680 - precision_1: 0.9571 - recall_1: 0.9441 - val_accuracy: 0.9675 - val_f1_score: 0.9664 - val_loss: 0.1041 - val_precision_1: 0.9709 - val_recall_1: 0.9650\n",
            "Epoch 5/5\n",
            "\u001b[1m1650/1650\u001b[0m \u001b[32m━━━━━━━━━━━━━━━━━━━━\u001b[0m\u001b[37m\u001b[0m \u001b[1m20s\u001b[0m 12ms/step - accuracy: 0.9572 - f1_score: 0.9559 - loss: 0.1420 - precision_1: 0.9615 - recall_1: 0.9522 - val_accuracy: 0.9686 - val_f1_score: 0.9678 - val_loss: 0.1028 - val_precision_1: 0.9722 - val_recall_1: 0.9643\n"
          ]
        }
      ],
      "source": [
        "result=model.fit(x_train,y_train,epochs=5,validation_split=.2,batch_size=32,verbose=1)"
      ]
    },
    {
      "cell_type": "code",
      "execution_count": 84,
      "metadata": {
        "colab": {
          "base_uri": "https://localhost:8080/",
          "height": 349
        },
        "id": "4JwDtZkQOfdG",
        "outputId": "8328a5c4-341a-4410-ca12-1a9d1f689b9d"
      },
      "outputs": [
        {
          "output_type": "display_data",
          "data": {
            "text/plain": [
              "<Figure size 1200x600 with 2 Axes>"
            ],
            "image/png": "[encoded data removed]"
          },
          "metadata": {}
        }
      ],
      "source": [
        "# Create a DataFrame from the training history\n",
        "result_df1 = pd.DataFrame(result.history)\n",
        "\n",
        "import matplotlib.pyplot as plt\n",
        "\n",
        "# Determine the number of epochs based on the length of accuracy data\n",
        "epochs = range(1, len(result_df1[\"accuracy\"]) + 1)\n",
        "\n",
        "# Plot training and validation accuracy\n",
        "plt.figure(figsize=(12, 6))\n",
        "\n",
        "# Plot accuracy\n",
        "plt.subplot(1, 2, 1)\n",
        "plt.plot(epochs, result_df1[\"accuracy\"], label=\"Train Accuracy\")\n",
        "plt.plot(epochs, result_df1[\"val_accuracy\"], label=\"Validation Accuracy\")\n",
        "plt.title(\"Model Accuracy\")\n",
        "plt.xlabel(\"Epochs\")\n",
        "plt.ylabel(\"Accuracy\")\n",
        "plt.legend()\n",
        "\n",
        "# Plot training and validation loss\n",
        "plt.subplot(1, 2, 2)\n",
        "plt.plot(epochs, result_df1[\"loss\"], label=\"Train Loss\")\n",
        "plt.plot(epochs, result_df1[\"val_loss\"], label=\"Validation Loss\")\n",
        "plt.title(\"Model Loss\")\n",
        "plt.xlabel(\"Epochs\")\n",
        "plt.ylabel(\"Loss\")\n",
        "plt.legend()\n",
        "\n",
        "# Show the plots\n",
        "plt.tight_layout()\n",
        "plt.show()\n"
      ]
    },
    {
      "cell_type": "code",
      "execution_count": 85,
      "metadata": {
        "colab": {
          "base_uri": "https://localhost:8080/"
        },
        "id": "NGXCO1ZwPB3k",
        "outputId": "44c30c6c-cdd5-41b9-9b33-31d1f72b36b1"
      },
      "outputs": [
        {
          "output_type": "stream",
          "name": "stdout",
          "text": [
            "\u001b[1m688/688\u001b[0m \u001b[32m━━━━━━━━━━━━━━━━━━━━\u001b[0m\u001b[37m\u001b[0m \u001b[1m4s\u001b[0m 5ms/step - accuracy: 0.9683 - f1_score: 0.9673 - loss: 0.1079 - precision_1: 0.9728 - recall_1: 0.9654\n"
          ]
        },
        {
          "output_type": "execute_result",
          "data": {
            "text/plain": [
              "[0.10423155128955841,\n",
              " <tf.Tensor: shape=(16,), dtype=float32, numpy=\n",
              " array([0.96876943, 0.9764997 , 0.95805734, 0.9593496 , 0.9593073 ,\n",
              "        0.9591195 , 0.9986944 , 0.95695835, 0.9598553 , 0.9667406 ,\n",
              "        0.9678456 , 0.9638766 , 0.9662479 , 0.98954195, 0.9872241 ,\n",
              "        0.95185804], dtype=float32)>,\n",
              " 0.9689929485321045,\n",
              " 0.9731549620628357,\n",
              " 0.9658104181289673]"
            ]
          },
          "metadata": {},
          "execution_count": 85
        }
      ],
      "source": [
        "eval = model.evaluate(x_test,y_test)\n",
        "eval"
      ]
    },
    {
      "cell_type": "code",
      "execution_count": 86,
      "metadata": {
        "colab": {
          "base_uri": "https://localhost:8080/"
        },
        "id": "Rh7lG6GDP12M",
        "outputId": "62381cce-a71e-41f4-b154-f43d47a315fd"
      },
      "outputs": [
        {
          "output_type": "stream",
          "name": "stdout",
          "text": [
            "\u001b[1m688/688\u001b[0m \u001b[32m━━━━━━━━━━━━━━━━━━━━\u001b[0m\u001b[37m\u001b[0m \u001b[1m2s\u001b[0m 3ms/step\n"
          ]
        },
        {
          "output_type": "execute_result",
          "data": {
            "text/plain": [
              "array([[7.90995080e-04, 2.75409457e-05, 1.15015905e-06, 2.65192671e-06,\n",
              "        1.01549495e-06, 9.98762131e-01, 4.21151242e-07, 2.64238683e-04,\n",
              "        8.97918007e-09, 5.60954823e-06, 2.46711406e-05, 4.30520402e-08,\n",
              "        1.80887264e-06, 7.48906896e-05, 1.47883411e-05, 2.80779568e-05],\n",
              "       [1.95377324e-05, 1.32377545e-05, 9.96489465e-01, 1.74009416e-04,\n",
              "        1.43550453e-04, 2.23695466e-07, 1.07019201e-04, 3.78729254e-07,\n",
              "        2.12427136e-03, 4.36285262e-07, 4.14330338e-04, 4.32660250e-04,\n",
              "        3.41035360e-07, 7.90548002e-05, 1.39767351e-07, 1.28610918e-06]],\n",
              "      dtype=float32)"
            ]
          },
          "metadata": {},
          "execution_count": 86
        }
      ],
      "source": [
        "yp=model.predict(x_test)\n",
        "yp[:2]"
      ]
    },
    {
      "cell_type": "code",
      "execution_count": 87,
      "metadata": {
        "colab": {
          "base_uri": "https://localhost:8080/",
          "height": 206
        },
        "id": "gWX3GLgfQY2q",
        "outputId": "6fe24ce7-de80-40ff-ba0f-d2940f15fd8b"
      },
      "outputs": [
        {
          "output_type": "execute_result",
          "data": {
            "text/plain": [
              "    0    1    2    3    4    5    6    7    8    9    10   11   12   13   14  \\\n",
              "0  0.0  0.0  0.0  0.0  0.0  1.0  0.0  0.0  0.0  0.0  0.0  0.0  0.0  0.0  0.0   \n",
              "1  0.0  0.0  1.0  0.0  0.0  0.0  0.0  0.0  0.0  0.0  0.0  0.0  0.0  0.0  0.0   \n",
              "2  0.0  0.0  0.0  0.0  0.0  0.0  0.0  0.0  0.0  0.0  1.0  0.0  0.0  0.0  0.0   \n",
              "3  0.0  0.0  0.0  0.0  1.0  0.0  0.0  0.0  0.0  0.0  0.0  0.0  0.0  0.0  0.0   \n",
              "4  0.0  0.0  0.0  0.0  0.0  0.0  0.0  0.0  0.0  0.0  0.0  0.0  0.0  1.0  0.0   \n",
              "\n",
              "    15  \n",
              "0  0.0  \n",
              "1  0.0  \n",
              "2  0.0  \n",
              "3  0.0  \n",
              "4  0.0  "
            ],
            "text/html": [
              "\n",
              "  <div id=\"df-bba34786-8da7-4a4b-a8b0-f8232f157dfb\" class=\"colab-df-container\">\n",
              "    <div>\n",
              "<style scoped>\n",
              "    .dataframe tbody tr th:only-of-type {\n",
              "        vertical-align: middle;\n",
              "    }\n",
              "\n",
              "    .dataframe tbody tr th {\n",
              "        vertical-align: top;\n",
              "    }\n",
              "\n",
              "    .dataframe thead th {\n",
              "        text-align: right;\n",
              "    }\n",
              "</style>\n",
              "<table border=\"1\" class=\"dataframe\">\n",
              "  <thead>\n",
              "    <tr style=\"text-align: right;\">\n",
              "      <th></th>\n",
              "      <th>0</th>\n",
              "      <th>1</th>\n",
              "      <th>2</th>\n",
              "      <th>3</th>\n",
              "      <th>4</th>\n",
              "      <th>5</th>\n",
              "      <th>6</th>\n",
              "      <th>7</th>\n",
              "      <th>8</th>\n",
              "      <th>9</th>\n",
              "      <th>10</th>\n",
              "      <th>11</th>\n",
              "      <th>12</th>\n",
              "      <th>13</th>\n",
              "      <th>14</th>\n",
              "      <th>15</th>\n",
              "    </tr>\n",
              "  </thead>\n",
              "  <tbody>\n",
              "    <tr>\n",
              "      <th>0</th>\n",
              "      <td>0.0</td>\n",
              "      <td>0.0</td>\n",
              "      <td>0.0</td>\n",
              "      <td>0.0</td>\n",
              "      <td>0.0</td>\n",
              "      <td>1.0</td>\n",
              "      <td>0.0</td>\n",
              "      <td>0.0</td>\n",
              "      <td>0.0</td>\n",
              "      <td>0.0</td>\n",
              "      <td>0.0</td>\n",
              "      <td>0.0</td>\n",
              "      <td>0.0</td>\n",
              "      <td>0.0</td>\n",
              "      <td>0.0</td>\n",
              "      <td>0.0</td>\n",
              "    </tr>\n",
              "    <tr>\n",
              "      <th>1</th>\n",
              "      <td>0.0</td>\n",
              "      <td>0.0</td>\n",
              "      <td>1.0</td>\n",
              "      <td>0.0</td>\n",
              "      <td>0.0</td>\n",
              "      <td>0.0</td>\n",
              "      <td>0.0</td>\n",
              "      <td>0.0</td>\n",
              "      <td>0.0</td>\n",
              "      <td>0.0</td>\n",
              "      <td>0.0</td>\n",
              "      <td>0.0</td>\n",
              "      <td>0.0</td>\n",
              "      <td>0.0</td>\n",
              "      <td>0.0</td>\n",
              "      <td>0.0</td>\n",
              "    </tr>\n",
              "    <tr>\n",
              "      <th>2</th>\n",
              "      <td>0.0</td>\n",
              "      <td>0.0</td>\n",
              "      <td>0.0</td>\n",
              "      <td>0.0</td>\n",
              "      <td>0.0</td>\n",
              "      <td>0.0</td>\n",
              "      <td>0.0</td>\n",
              "      <td>0.0</td>\n",
              "      <td>0.0</td>\n",
              "      <td>0.0</td>\n",
              "      <td>1.0</td>\n",
              "      <td>0.0</td>\n",
              "      <td>0.0</td>\n",
              "      <td>0.0</td>\n",
              "      <td>0.0</td>\n",
              "      <td>0.0</td>\n",
              "    </tr>\n",
              "    <tr>\n",
              "      <th>3</th>\n",
              "      <td>0.0</td>\n",
              "      <td>0.0</td>\n",
              "      <td>0.0</td>\n",
              "      <td>0.0</td>\n",
              "      <td>1.0</td>\n",
              "      <td>0.0</td>\n",
              "      <td>0.0</td>\n",
              "      <td>0.0</td>\n",
              "      <td>0.0</td>\n",
              "      <td>0.0</td>\n",
              "      <td>0.0</td>\n",
              "      <td>0.0</td>\n",
              "      <td>0.0</td>\n",
              "      <td>0.0</td>\n",
              "      <td>0.0</td>\n",
              "      <td>0.0</td>\n",
              "    </tr>\n",
              "    <tr>\n",
              "      <th>4</th>\n",
              "      <td>0.0</td>\n",
              "      <td>0.0</td>\n",
              "      <td>0.0</td>\n",
              "      <td>0.0</td>\n",
              "      <td>0.0</td>\n",
              "      <td>0.0</td>\n",
              "      <td>0.0</td>\n",
              "      <td>0.0</td>\n",
              "      <td>0.0</td>\n",
              "      <td>0.0</td>\n",
              "      <td>0.0</td>\n",
              "      <td>0.0</td>\n",
              "      <td>0.0</td>\n",
              "      <td>1.0</td>\n",
              "      <td>0.0</td>\n",
              "      <td>0.0</td>\n",
              "    </tr>\n",
              "  </tbody>\n",
              "</table>\n",
              "</div>\n",
              "    <div class=\"colab-df-buttons\">\n",
              "\n",
              "  <div class=\"colab-df-container\">\n",
              "    <button class=\"colab-df-convert\" onclick=\"convertToInteractive('df-bba34786-8da7-4a4b-a8b0-f8232f157dfb')\"\n",
              "            title=\"Convert this dataframe to an interactive table.\"\n",
              "            style=\"display:none;\">\n",
              "\n",
              "  <svg xmlns=\"http://www.w3.org/2000/svg\" height=\"24px\" viewBox=\"0 -960 960 960\">\n",
              "    <path d=\"M120-120v-720h720v720H120Zm60-500h600v-160H180v160Zm220 220h160v-160H400v160Zm0 220h160v-160H400v160ZM180-400h160v-160H180v160Zm440 0h160v-160H620v160ZM180-180h160v-160H180v160Zm440 0h160v-160H620v160Z\"/>\n",
              "  </svg>\n",
              "    </button>\n",
              "\n",
              "  <style>\n",
              "    .colab-df-container {\n",
              "      display:flex;\n",
              "      gap: 12px;\n",
              "    }\n",
              "\n",
              "    .colab-df-convert {\n",
              "      background-color: #E8F0FE;\n",
              "      border: none;\n",
              "      border-radius: 50%;\n",
              "      cursor: pointer;\n",
              "      display: none;\n",
              "      fill: #1967D2;\n",
              "      height: 32px;\n",
              "      padding: 0 0 0 0;\n",
              "      width: 32px;\n",
              "    }\n",
              "\n",
              "    .colab-df-convert:hover {\n",
              "      background-color: #E2EBFA;\n",
              "      box-shadow: 0px 1px 2px rgba(60, 64, 67, 0.3), 0px 1px 3px 1px rgba(60, 64, 67, 0.15);\n",
              "      fill: #174EA6;\n",
              "    }\n",
              "\n",
              "    .colab-df-buttons div {\n",
              "      margin-bottom: 4px;\n",
              "    }\n",
              "\n",
              "    [theme=dark] .colab-df-convert {\n",
              "      background-color: #3B4455;\n",
              "      fill: #D2E3FC;\n",
              "    }\n",
              "\n",
              "    [theme=dark] .colab-df-convert:hover {\n",
              "      background-color: #434B5C;\n",
              "      box-shadow: 0px 1px 3px 1px rgba(0, 0, 0, 0.15);\n",
              "      filter: drop-shadow(0px 1px 2px rgba(0, 0, 0, 0.3));\n",
              "      fill: #FFFFFF;\n",
              "    }\n",
              "  </style>\n",
              "\n",
              "    <script>\n",
              "      const buttonEl =\n",
              "        document.querySelector('#df-bba34786-8da7-4a4b-a8b0-f8232f157dfb button.colab-df-convert');\n",
              "      buttonEl.style.display =\n",
              "        google.colab.kernel.accessAllowed ? 'block' : 'none';\n",
              "\n",
              "      async function convertToInteractive(key) {\n",
              "        const element = document.querySelector('#df-bba34786-8da7-4a4b-a8b0-f8232f157dfb');\n",
              "        const dataTable =\n",
              "          await google.colab.kernel.invokeFunction('convertToInteractive',\n",
              "                                                    [key], {});\n",
              "        if (!dataTable) return;\n",
              "\n",
              "        const docLinkHtml = 'Like what you see? Visit the ' +\n",
              "          '<a target=\"_blank\" href=https://colab.research.google.com/notebooks/data_table.ipynb>data table notebook</a>'\n",
              "          + ' to learn more about interactive tables.';\n",
              "        element.innerHTML = '';\n",
              "        dataTable['output_type'] = 'display_data';\n",
              "        await google.colab.output.renderOutput(dataTable, element);\n",
              "        const docLink = document.createElement('div');\n",
              "        docLink.innerHTML = docLinkHtml;\n",
              "        element.appendChild(docLink);\n",
              "      }\n",
              "    </script>\n",
              "  </div>\n",
              "\n",
              "\n",
              "<div id=\"df-d5defcce-f34d-4d9a-b61b-83ff82206966\">\n",
              "  <button class=\"colab-df-quickchart\" onclick=\"quickchart('df-d5defcce-f34d-4d9a-b61b-83ff82206966')\"\n",
              "            title=\"Suggest charts\"\n",
              "            style=\"display:none;\">\n",
              "\n",
              "<svg xmlns=\"http://www.w3.org/2000/svg\" height=\"24px\"viewBox=\"0 0 24 24\"\n",
              "     width=\"24px\">\n",
              "    <g>\n",
              "        <path d=\"M19 3H5c-1.1 0-2 .9-2 2v14c0 1.1.9 2 2 2h14c1.1 0 2-.9 2-2V5c0-1.1-.9-2-2-2zM9 17H7v-7h2v7zm4 0h-2V7h2v10zm4 0h-2v-4h2v4z\"/>\n",
              "    </g>\n",
              "</svg>\n",
              "  </button>\n",
              "\n",
              "<style>\n",
              "  .colab-df-quickchart {\n",
              "      --bg-color: #E8F0FE;\n",
              "      --fill-color: #1967D2;\n",
              "      --hover-bg-color: #E2EBFA;\n",
              "      --hover-fill-color: #174EA6;\n",
              "      --disabled-fill-color: #AAA;\n",
              "      --disabled-bg-color: #DDD;\n",
              "  }\n",
              "\n",
              "  [theme=dark] .colab-df-quickchart {\n",
              "      --bg-color: #3B4455;\n",
              "      --fill-color: #D2E3FC;\n",
              "      --hover-bg-color: #434B5C;\n",
              "      --hover-fill-color: #FFFFFF;\n",
              "      --disabled-bg-color: #3B4455;\n",
              "      --disabled-fill-color: #666;\n",
              "  }\n",
              "\n",
              "  .colab-df-quickchart {\n",
              "    background-color: var(--bg-color);\n",
              "    border: none;\n",
              "    border-radius: 50%;\n",
              "    cursor: pointer;\n",
              "    display: none;\n",
              "    fill: var(--fill-color);\n",
              "    height: 32px;\n",
              "    padding: 0;\n",
              "    width: 32px;\n",
              "  }\n",
              "\n",
              "  .colab-df-quickchart:hover {\n",
              "    background-color: var(--hover-bg-color);\n",
              "    box-shadow: 0 1px 2px rgba(60, 64, 67, 0.3), 0 1px 3px 1px rgba(60, 64, 67, 0.15);\n",
              "    fill: var(--button-hover-fill-color);\n",
              "  }\n",
              "\n",
              "  .colab-df-quickchart-complete:disabled,\n",
              "  .colab-df-quickchart-complete:disabled:hover {\n",
              "    background-color: var(--disabled-bg-color);\n",
              "    fill: var(--disabled-fill-color);\n",
              "    box-shadow: none;\n",
              "  }\n",
              "\n",
              "  .colab-df-spinner {\n",
              "    border: 2px solid var(--fill-color);\n",
              "    border-color: transparent;\n",
              "    border-bottom-color: var(--fill-color);\n",
              "    animation:\n",
              "      spin 1s steps(1) infinite;\n",
              "  }\n",
              "\n",
              "  @keyframes spin {\n",
              "    0% {\n",
              "      border-color: transparent;\n",
              "      border-bottom-color: var(--fill-color);\n",
              "      border-left-color: var(--fill-color);\n",
              "    }\n",
              "    20% {\n",
              "      border-color: transparent;\n",
              "      border-left-color: var(--fill-color);\n",
              "      border-top-color: var(--fill-color);\n",
              "    }\n",
              "    30% {\n",
              "      border-color: transparent;\n",
              "      border-left-color: var(--fill-color);\n",
              "      border-top-color: var(--fill-color);\n",
              "      border-right-color: var(--fill-color);\n",
              "    }\n",
              "    40% {\n",
              "      border-color: transparent;\n",
              "      border-right-color: var(--fill-color);\n",
              "      border-top-color: var(--fill-color);\n",
              "    }\n",
              "    60% {\n",
              "      border-color: transparent;\n",
              "      border-right-color: var(--fill-color);\n",
              "    }\n",
              "    80% {\n",
              "      border-color: transparent;\n",
              "      border-right-color: var(--fill-color);\n",
              "      border-bottom-color: var(--fill-color);\n",
              "    }\n",
              "    90% {\n",
              "      border-color: transparent;\n",
              "      border-bottom-color: var(--fill-color);\n",
              "    }\n",
              "  }\n",
              "</style>\n",
              "\n",
              "  <script>\n",
              "    async function quickchart(key) {\n",
              "      const quickchartButtonEl =\n",
              "        document.querySelector('#' + key + ' button');\n",
              "      quickchartButtonEl.disabled = true;  // To prevent multiple clicks.\n",
              "      quickchartButtonEl.classList.add('colab-df-spinner');\n",
              "      try {\n",
              "        const charts = await google.colab.kernel.invokeFunction(\n",
              "            'suggestCharts', [key], {});\n",
              "      } catch (error) {\n",
              "        console.error('Error during call to suggestCharts:', error);\n",
              "      }\n",
              "      quickchartButtonEl.classList.remove('colab-df-spinner');\n",
              "      quickchartButtonEl.classList.add('colab-df-quickchart-complete');\n",
              "    }\n",
              "    (() => {\n",
              "      let quickchartButtonEl =\n",
              "        document.querySelector('#df-d5defcce-f34d-4d9a-b61b-83ff82206966 button');\n",
              "      quickchartButtonEl.style.display =\n",
              "        google.colab.kernel.accessAllowed ? 'block' : 'none';\n",
              "    })();\n",
              "  </script>\n",
              "</div>\n",
              "\n",
              "    </div>\n",
              "  </div>\n"
            ],
            "application/vnd.google.colaboratory.intrinsic+json": {
              "type": "dataframe",
              "summary": "{\n  \"name\": \"df_pred[:5]\",\n  \"rows\": 5,\n  \"fields\": [\n    {\n      \"column\": 0,\n      \"properties\": {\n        \"dtype\": \"float32\",\n        \"num_unique_values\": 1,\n        \"samples\": [\n          0.0\n        ],\n        \"semantic_type\": \"\",\n        \"description\": \"\"\n      }\n    },\n    {\n      \"column\": 1,\n      \"properties\": {\n        \"dtype\": \"float32\",\n        \"num_unique_values\": 1,\n        \"samples\": [\n          0.0\n        ],\n        \"semantic_type\": \"\",\n        \"description\": \"\"\n      }\n    },\n    {\n      \"column\": 2,\n      \"properties\": {\n        \"dtype\": \"float32\",\n        \"num_unique_values\": 2,\n        \"samples\": [\n          1.0\n        ],\n        \"semantic_type\": \"\",\n        \"description\": \"\"\n      }\n    },\n    {\n      \"column\": 3,\n      \"properties\": {\n        \"dtype\": \"float32\",\n        \"num_unique_values\": 1,\n        \"samples\": [\n          0.0\n        ],\n        \"semantic_type\": \"\",\n        \"description\": \"\"\n      }\n    },\n    {\n      \"column\": 4,\n      \"properties\": {\n        \"dtype\": \"float32\",\n        \"num_unique_values\": 2,\n        \"samples\": [\n          1.0\n        ],\n        \"semantic_type\": \"\",\n        \"description\": \"\"\n      }\n    },\n    {\n      \"column\": 5,\n      \"properties\": {\n        \"dtype\": \"float32\",\n        \"num_unique_values\": 2,\n        \"samples\": [\n          0.0\n        ],\n        \"semantic_type\": \"\",\n        \"description\": \"\"\n      }\n    },\n    {\n      \"column\": 6,\n      \"properties\": {\n        \"dtype\": \"float32\",\n        \"num_unique_values\": 1,\n        \"samples\": [\n          0.0\n        ],\n        \"semantic_type\": \"\",\n        \"description\": \"\"\n      }\n    },\n    {\n      \"column\": 7,\n      \"properties\": {\n        \"dtype\": \"float32\",\n        \"num_unique_values\": 1,\n        \"samples\": [\n          0.0\n        ],\n        \"semantic_type\": \"\",\n        \"description\": \"\"\n      }\n    },\n    {\n      \"column\": 8,\n      \"properties\": {\n        \"dtype\": \"float32\",\n        \"num_unique_values\": 1,\n        \"samples\": [\n          0.0\n        ],\n        \"semantic_type\": \"\",\n        \"description\": \"\"\n      }\n    },\n    {\n      \"column\": 9,\n      \"properties\": {\n        \"dtype\": \"float32\",\n        \"num_unique_values\": 1,\n        \"samples\": [\n          0.0\n        ],\n        \"semantic_type\": \"\",\n        \"description\": \"\"\n      }\n    },\n    {\n      \"column\": 10,\n      \"properties\": {\n        \"dtype\": \"float32\",\n        \"num_unique_values\": 2,\n        \"samples\": [\n          1.0\n        ],\n        \"semantic_type\": \"\",\n        \"description\": \"\"\n      }\n    },\n    {\n      \"column\": 11,\n      \"properties\": {\n        \"dtype\": \"float32\",\n        \"num_unique_values\": 1,\n        \"samples\": [\n          0.0\n        ],\n        \"semantic_type\": \"\",\n        \"description\": \"\"\n      }\n    },\n    {\n      \"column\": 12,\n      \"properties\": {\n        \"dtype\": \"float32\",\n        \"num_unique_values\": 1,\n        \"samples\": [\n          0.0\n        ],\n        \"semantic_type\": \"\",\n        \"description\": \"\"\n      }\n    },\n    {\n      \"column\": 13,\n      \"properties\": {\n        \"dtype\": \"float32\",\n        \"num_unique_values\": 2,\n        \"samples\": [\n          1.0\n        ],\n        \"semantic_type\": \"\",\n        \"description\": \"\"\n      }\n    },\n    {\n      \"column\": 14,\n      \"properties\": {\n        \"dtype\": \"float32\",\n        \"num_unique_values\": 1,\n        \"samples\": [\n          0.0\n        ],\n        \"semantic_type\": \"\",\n        \"description\": \"\"\n      }\n    },\n    {\n      \"column\": 15,\n      \"properties\": {\n        \"dtype\": \"float32\",\n        \"num_unique_values\": 1,\n        \"samples\": [\n          0.0\n        ],\n        \"semantic_type\": \"\",\n        \"description\": \"\"\n      }\n    }\n  ]\n}"
            }
          },
          "metadata": {},
          "execution_count": 87
        }
      ],
      "source": [
        "import pandas as pd\n",
        "import numpy as np\n",
        "\n",
        "# Example of how y_pred is generated (based on previous steps)\n",
        "y_pred = []\n",
        "\n",
        "for i in yp:\n",
        "    temp = np.zeros_like(i)  # Create a zero array\n",
        "    max_index = np.argmax(i)  # Find the index of the max value\n",
        "    temp[max_index] = 1  # Set the max value to 1\n",
        "    y_pred.append(temp)  # Append the modified array\n",
        "\n",
        "# Convert the list of arrays to a numpy array\n",
        "y_pred = np.array(y_pred)\n",
        "\n",
        "# Convert the numpy array to a Pandas DataFrame\n",
        "df_pred = pd.DataFrame(y_pred)\n",
        "\n",
        "# Output the DataFrame\n",
        "df_pred[:5]\n"
      ]
    },
    {
      "cell_type": "code",
      "execution_count": 88,
      "metadata": {
        "colab": {
          "base_uri": "https://localhost:8080/"
        },
        "id": "z0JiEcpdQAst",
        "outputId": "a364d961-538f-4306-e899-e35a5918ae50"
      },
      "outputs": [
        {
          "output_type": "stream",
          "name": "stdout",
          "text": [
            "              precision    recall  f1-score   support\n",
            "\n",
            "           0       0.97      0.97      0.97      1607\n",
            "           1       0.97      0.98      0.98      1605\n",
            "           2       0.98      0.93      0.96      1395\n",
            "           3       0.93      1.00      0.96      1244\n",
            "           4       0.97      0.95      0.96      1162\n",
            "           5       0.96      0.96      0.96      1588\n",
            "           6       1.00      1.00      1.00      1530\n",
            "           7       0.98      0.93      0.96      1429\n",
            "           8       0.95      0.97      0.96      1364\n",
            "           9       0.98      0.95      0.97      1147\n",
            "          10       0.95      0.99      0.97      1215\n",
            "          11       0.95      0.98      0.96      1122\n",
            "          12       0.98      0.96      0.97      1287\n",
            "          13       0.99      0.99      0.99      1381\n",
            "          14       0.98      1.00      0.99      1707\n",
            "          15       0.97      0.93      0.95      1212\n",
            "\n",
            "   micro avg       0.97      0.97      0.97     21995\n",
            "   macro avg       0.97      0.97      0.97     21995\n",
            "weighted avg       0.97      0.97      0.97     21995\n",
            " samples avg       0.97      0.97      0.97     21995\n",
            "\n"
          ]
        }
      ],
      "source": [
        "from sklearn.metrics import confusion_matrix,classification_report\n",
        "print(classification_report(y_test,y_pred))"
      ]
    },
    {
      "cell_type": "code",
      "execution_count": 89,
      "metadata": {
        "colab": {
          "base_uri": "https://localhost:8080/"
        },
        "id": "GbQW0JwSQjCO",
        "outputId": "d7035d64-33e9-42a7-dd87-d534c116f523"
      },
      "outputs": [
        {
          "output_type": "execute_result",
          "data": {
            "text/plain": [
              "0.9689929529438509"
            ]
          },
          "metadata": {},
          "execution_count": 89
        }
      ],
      "source": [
        "from sklearn.metrics import accuracy_score\n",
        "accuracy_score(y_test,y_pred)"
      ]
    },
    {
      "cell_type": "code",
      "execution_count": 90,
      "metadata": {
        "id": "c-8oIp08a-68"
      },
      "outputs": [],
      "source": [
        "# import pickle\n",
        "# filename = 'finalized_model.sav'\n",
        "# pickle.dump(model, open(filename, 'wb'))\n"
      ]
    },
    {
      "cell_type": "code",
      "execution_count": 91,
      "metadata": {
        "id": "Ek1F9Ntxdwhm"
      },
      "outputs": [],
      "source": [
        "# load_model = pickle.load(open('finalized_model.sav', 'rb'))"
      ]
    },
    {
      "cell_type": "code",
      "execution_count": 92,
      "metadata": {
        "colab": {
          "base_uri": "https://localhost:8080/",
          "height": 161
        },
        "id": "TQ9DKgafmcp_",
        "outputId": "61134a0c-6df6-44d0-83eb-5c9994e2dc4a"
      },
      "outputs": [
        {
          "output_type": "stream",
          "name": "stdout",
          "text": [
            "\u001b[1m1/1\u001b[0m \u001b[32m━━━━━━━━━━━━━━━━━━━━\u001b[0m\u001b[37m\u001b[0m \u001b[1m0s\u001b[0m 23ms/step\n"
          ]
        },
        {
          "output_type": "stream",
          "name": "stderr",
          "text": [
            "/usr/local/lib/python3.10/dist-packages/sklearn/base.py:493: UserWarning: X does not have valid feature names, but StandardScaler was fitted with feature names\n",
            "  warnings.warn(\n"
          ]
        },
        {
          "output_type": "execute_result",
          "data": {
            "text/plain": [
              "  Predicted Movie Category\n",
              "0                   Sports"
            ],
            "text/html": [
              "\n",
              "  <div id=\"df-2a0b0d16-b249-4de6-afb3-c129768aac5a\" class=\"colab-df-container\">\n",
              "    <div>\n",
              "<style scoped>\n",
              "    .dataframe tbody tr th:only-of-type {\n",
              "        vertical-align: middle;\n",
              "    }\n",
              "\n",
              "    .dataframe tbody tr th {\n",
              "        vertical-align: top;\n",
              "    }\n",
              "\n",
              "    .dataframe thead th {\n",
              "        text-align: right;\n",
              "    }\n",
              "</style>\n",
              "<table border=\"1\" class=\"dataframe\">\n",
              "  <thead>\n",
              "    <tr style=\"text-align: right;\">\n",
              "      <th></th>\n",
              "      <th>Predicted Movie Category</th>\n",
              "    </tr>\n",
              "  </thead>\n",
              "  <tbody>\n",
              "    <tr>\n",
              "      <th>0</th>\n",
              "      <td>Sports</td>\n",
              "    </tr>\n",
              "  </tbody>\n",
              "</table>\n",
              "</div>\n",
              "    <div class=\"colab-df-buttons\">\n",
              "\n",
              "  <div class=\"colab-df-container\">\n",
              "    <button class=\"colab-df-convert\" onclick=\"convertToInteractive('df-2a0b0d16-b249-4de6-afb3-c129768aac5a')\"\n",
              "            title=\"Convert this dataframe to an interactive table.\"\n",
              "            style=\"display:none;\">\n",
              "\n",
              "  <svg xmlns=\"http://www.w3.org/2000/svg\" height=\"24px\" viewBox=\"0 -960 960 960\">\n",
              "    <path d=\"M120-120v-720h720v720H120Zm60-500h600v-160H180v160Zm220 220h160v-160H400v160Zm0 220h160v-160H400v160ZM180-400h160v-160H180v160Zm440 0h160v-160H620v160ZM180-180h160v-160H180v160Zm440 0h160v-160H620v160Z\"/>\n",
              "  </svg>\n",
              "    </button>\n",
              "\n",
              "  <style>\n",
              "    .colab-df-container {\n",
              "      display:flex;\n",
              "      gap: 12px;\n",
              "    }\n",
              "\n",
              "    .colab-df-convert {\n",
              "      background-color: #E8F0FE;\n",
              "      border: none;\n",
              "      border-radius: 50%;\n",
              "      cursor: pointer;\n",
              "      display: none;\n",
              "      fill: #1967D2;\n",
              "      height: 32px;\n",
              "      padding: 0 0 0 0;\n",
              "      width: 32px;\n",
              "    }\n",
              "\n",
              "    .colab-df-convert:hover {\n",
              "      background-color: #E2EBFA;\n",
              "      box-shadow: 0px 1px 2px rgba(60, 64, 67, 0.3), 0px 1px 3px 1px rgba(60, 64, 67, 0.15);\n",
              "      fill: #174EA6;\n",
              "    }\n",
              "\n",
              "    .colab-df-buttons div {\n",
              "      margin-bottom: 4px;\n",
              "    }\n",
              "\n",
              "    [theme=dark] .colab-df-convert {\n",
              "      background-color: #3B4455;\n",
              "      fill: #D2E3FC;\n",
              "    }\n",
              "\n",
              "    [theme=dark] .colab-df-convert:hover {\n",
              "      background-color: #434B5C;\n",
              "      box-shadow: 0px 1px 3px 1px rgba(0, 0, 0, 0.15);\n",
              "      filter: drop-shadow(0px 1px 2px rgba(0, 0, 0, 0.3));\n",
              "      fill: #FFFFFF;\n",
              "    }\n",
              "  </style>\n",
              "\n",
              "    <script>\n",
              "      const buttonEl =\n",
              "        document.querySelector('#df-2a0b0d16-b249-4de6-afb3-c129768aac5a button.colab-df-convert');\n",
              "      buttonEl.style.display =\n",
              "        google.colab.kernel.accessAllowed ? 'block' : 'none';\n",
              "\n",
              "      async function convertToInteractive(key) {\n",
              "        const element = document.querySelector('#df-2a0b0d16-b249-4de6-afb3-c129768aac5a');\n",
              "        const dataTable =\n",
              "          await google.colab.kernel.invokeFunction('convertToInteractive',\n",
              "                                                    [key], {});\n",
              "        if (!dataTable) return;\n",
              "\n",
              "        const docLinkHtml = 'Like what you see? Visit the ' +\n",
              "          '<a target=\"_blank\" href=https://colab.research.google.com/notebooks/data_table.ipynb>data table notebook</a>'\n",
              "          + ' to learn more about interactive tables.';\n",
              "        element.innerHTML = '';\n",
              "        dataTable['output_type'] = 'display_data';\n",
              "        await google.colab.output.renderOutput(dataTable, element);\n",
              "        const docLink = document.createElement('div');\n",
              "        docLink.innerHTML = docLinkHtml;\n",
              "        element.appendChild(docLink);\n",
              "      }\n",
              "    </script>\n",
              "  </div>\n",
              "\n",
              "\n",
              "  <div id=\"id_04de0957-4b8f-4ab4-81d4-950c2560917b\">\n",
              "    <style>\n",
              "      .colab-df-generate {\n",
              "        background-color: #E8F0FE;\n",
              "        border: none;\n",
              "        border-radius: 50%;\n",
              "        cursor: pointer;\n",
              "        display: none;\n",
              "        fill: #1967D2;\n",
              "        height: 32px;\n",
              "        padding: 0 0 0 0;\n",
              "        width: 32px;\n",
              "      }\n",
              "\n",
              "      .colab-df-generate:hover {\n",
              "        background-color: #E2EBFA;\n",
              "        box-shadow: 0px 1px 2px rgba(60, 64, 67, 0.3), 0px 1px 3px 1px rgba(60, 64, 67, 0.15);\n",
              "        fill: #174EA6;\n",
              "      }\n",
              "\n",
              "      [theme=dark] .colab-df-generate {\n",
              "        background-color: #3B4455;\n",
              "        fill: #D2E3FC;\n",
              "      }\n",
              "\n",
              "      [theme=dark] .colab-df-generate:hover {\n",
              "        background-color: #434B5C;\n",
              "        box-shadow: 0px 1px 3px 1px rgba(0, 0, 0, 0.15);\n",
              "        filter: drop-shadow(0px 1px 2px rgba(0, 0, 0, 0.3));\n",
              "        fill: #FFFFFF;\n",
              "      }\n",
              "    </style>\n",
              "    <button class=\"colab-df-generate\" onclick=\"generateWithVariable('df_pred')\"\n",
              "            title=\"Generate code using this dataframe.\"\n",
              "            style=\"display:none;\">\n",
              "\n",
              "  <svg xmlns=\"http://www.w3.org/2000/svg\" height=\"24px\"viewBox=\"0 0 24 24\"\n",
              "       width=\"24px\">\n",
              "    <path d=\"M7,19H8.4L18.45,9,17,7.55,7,17.6ZM5,21V16.75L18.45,3.32a2,2,0,0,1,2.83,0l1.4,1.43a1.91,1.91,0,0,1,.58,1.4,1.91,1.91,0,0,1-.58,1.4L9.25,21ZM18.45,9,17,7.55Zm-12,3A5.31,5.31,0,0,0,4.9,8.1,5.31,5.31,0,0,0,1,6.5,5.31,5.31,0,0,0,4.9,4.9,5.31,5.31,0,0,0,6.5,1,5.31,5.31,0,0,0,8.1,4.9,5.31,5.31,0,0,0,12,6.5,5.46,5.46,0,0,0,6.5,12Z\"/>\n",
              "  </svg>\n",
              "    </button>\n",
              "    <script>\n",
              "      (() => {\n",
              "      const buttonEl =\n",
              "        document.querySelector('#id_04de0957-4b8f-4ab4-81d4-950c2560917b button.colab-df-generate');\n",
              "      buttonEl.style.display =\n",
              "        google.colab.kernel.accessAllowed ? 'block' : 'none';\n",
              "\n",
              "      buttonEl.onclick = () => {\n",
              "        google.colab.notebook.generateWithVariable('df_pred');\n",
              "      }\n",
              "      })();\n",
              "    </script>\n",
              "  </div>\n",
              "\n",
              "    </div>\n",
              "  </div>\n"
            ],
            "application/vnd.google.colaboratory.intrinsic+json": {
              "type": "dataframe",
              "variable_name": "df_pred",
              "summary": "{\n  \"name\": \"df_pred\",\n  \"rows\": 1,\n  \"fields\": [\n    {\n      \"column\": \"Predicted Movie Category\",\n      \"properties\": {\n        \"dtype\": \"string\",\n        \"num_unique_values\": 1,\n        \"samples\": [\n          \"Sports\"\n        ],\n        \"semantic_type\": \"\",\n        \"description\": \"\"\n      }\n    }\n  ]\n}"
            }
          },
          "metadata": {},
          "execution_count": 92
        }
      ],
      "source": [
        "# Input data\n",
        "input_data = (4, 340, 160, 3, 2, 107, 3410, 0)\n",
        "input_data_as_numpy_array = np.asarray(input_data)\n",
        "\n",
        "# Standardize the input data\n",
        "input_data_reshaped = input_data_as_numpy_array.reshape(1, -1)\n",
        "input_data_standardized = sc.transform(input_data_reshaped)\n",
        "\n",
        "# Make prediction\n",
        "prediction = model.predict(input_data_standardized)\n",
        "\n",
        "# Initialize an empty list to hold the one-hot encoded predictions\n",
        "y_pred = []\n",
        "\n",
        "# Movie categories mapping\n",
        "movie = {\n",
        "    'Horror': 1, 'Documentary': 2, 'New': 3, 'Classics': 4, 'Games': 5,\n",
        "    'Sci-Fi': 6, 'Foreign': 7, 'Family': 8, 'Travel': 9, 'Music': 10,\n",
        "    'Sports': 11, 'Comedy': 12, 'Drama': 13, 'Action': 14, 'Children': 15,\n",
        "    'Animation': 16\n",
        "}\n",
        "\n",
        "# Process predictions to get one-hot encoding\n",
        "for i in prediction:\n",
        "    max_index = np.argmax(i)  # Find the index of the max value\n",
        "    y_pred.append(max_index)  # Append the index of the predicted category\n",
        "\n",
        "# Convert to numpy array\n",
        "y_pred = np.array(y_pred)\n",
        "\n",
        "# Map indices back to movie names\n",
        "predicted_categories = [list(movie.keys())[list(movie.values()).index(index + 1)] for index in y_pred]\n",
        "\n",
        "# Create a DataFrame to show the results\n",
        "df_pred = pd.DataFrame(predicted_categories, columns=['Predicted Movie Category'])\n",
        "\n",
        "# Output the DataFrame\n",
        "df_pred"
      ]
    },
    {
      "cell_type": "code",
      "source": [
        "tf.keras.models.save_model(model, 'my_model.hdf5')"
      ],
      "metadata": {
        "colab": {
          "base_uri": "https://localhost:8080/"
        },
        "id": "ODCAP52p7nZv",
        "outputId": "ab9b01d9-425d-4212-9c93-c7ffd25af346"
      },
      "execution_count": 96,
      "outputs": [
        {
          "output_type": "stream",
          "name": "stderr",
          "text": [
            "WARNING:absl:You are saving your model as an HDF5 file via `model.save()` or `keras.saving.save_model(model)`. This file format is considered legacy. We recommend using instead the native Keras format, e.g. `model.save('my_model.keras')` or `keras.saving.save_model(model, 'my_model.keras')`. \n"
          ]
        }
      ]
    },
    {
      "cell_type": "code",
      "execution_count": 97,
      "metadata": {
        "colab": {
          "base_uri": "https://localhost:8080/"
        },
        "id": "cben2xcnSaxO",
        "outputId": "8eebc405-8d7c-4504-a804-ca25e0805f94"
      },
      "outputs": [
        {
          "output_type": "stream",
          "name": "stderr",
          "text": [
            "WARNING:absl:You are saving your model as an HDF5 file via `model.save()` or `keras.saving.save_model(model)`. This file format is considered legacy. We recommend using instead the native Keras format, e.g. `model.save('my_model.keras')` or `keras.saving.save_model(model, 'my_model.keras')`. \n"
          ]
        }
      ],
      "source": [
        "model.save(\"finalized_model.h5\")"
      ]
    },
    {
      "cell_type": "code",
      "source": [
        "#exsiting model handling\n",
        "from keras.models import load_model\n",
        "new_model = load_model(\"/content/finalized_model.h5\")\n",
        "new_model.predict(x_test)"
      ],
      "metadata": {
        "colab": {
          "base_uri": "https://localhost:8080/"
        },
        "id": "QY5RC0COG_lq",
        "outputId": "8f46a980-1b54-41f2-b4a7-093ea804acec"
      },
      "execution_count": 98,
      "outputs": [
        {
          "output_type": "stream",
          "name": "stderr",
          "text": [
            "WARNING:absl:Compiled the loaded model, but the compiled metrics have yet to be built. `model.compile_metrics` will be empty until you train or evaluate the model.\n"
          ]
        },
        {
          "output_type": "stream",
          "name": "stdout",
          "text": [
            "\u001b[1m688/688\u001b[0m \u001b[32m━━━━━━━━━━━━━━━━━━━━\u001b[0m\u001b[37m\u001b[0m \u001b[1m2s\u001b[0m 3ms/step\n"
          ]
        },
        {
          "output_type": "execute_result",
          "data": {
            "text/plain": [
              "array([[7.90995080e-04, 2.75409457e-05, 1.15015905e-06, ...,\n",
              "        7.48906896e-05, 1.47883411e-05, 2.80779568e-05],\n",
              "       [1.95377324e-05, 1.32377545e-05, 9.96489465e-01, ...,\n",
              "        7.90548002e-05, 1.39767351e-07, 1.28610918e-06],\n",
              "       [1.00301253e-03, 4.69874794e-05, 4.75944573e-04, ...,\n",
              "        2.06843698e-08, 1.65220308e-06, 2.00581169e-04],\n",
              "       ...,\n",
              "       [8.68064404e-01, 1.21687399e-05, 1.91244617e-05, ...,\n",
              "        9.91854724e-03, 1.00501608e-02, 2.76867067e-03],\n",
              "       [6.33312436e-03, 1.98177759e-06, 3.53430444e-03, ...,\n",
              "        2.56194524e-03, 8.14155283e-06, 3.43858666e-08],\n",
              "       [2.75329803e-03, 1.77174479e-05, 1.61486457e-06, ...,\n",
              "        2.56787142e-04, 8.29092622e-01, 5.62732760e-03]], dtype=float32)"
            ]
          },
          "metadata": {},
          "execution_count": 98
        }
      ]
    },
    {
      "cell_type": "code",
      "execution_count": 99,
      "metadata": {
        "colab": {
          "base_uri": "https://localhost:8080/"
        },
        "id": "So0T4YIpVBlg",
        "outputId": "e0f1819f-a3ce-49d7-c746-73109a5b9c9b"
      },
      "outputs": [
        {
          "output_type": "stream",
          "name": "stdout",
          "text": [
            "Requirement already satisfied: streamlit in /usr/local/lib/python3.10/dist-packages (1.39.0)\n",
            "Requirement already satisfied: altair<6,>=4.0 in /usr/local/lib/python3.10/dist-packages (from streamlit) (4.2.2)\n",
            "Requirement already satisfied: blinker<2,>=1.0.0 in /usr/lib/python3/dist-packages (from streamlit) (1.4)\n",
            "Requirement already satisfied: cachetools<6,>=4.0 in /usr/local/lib/python3.10/dist-packages (from streamlit) (5.5.0)\n",
            "Requirement already satisfied: click<9,>=7.0 in /usr/local/lib/python3.10/dist-packages (from streamlit) (8.1.7)\n",
            "Requirement already satisfied: numpy<3,>=1.20 in /usr/local/lib/python3.10/dist-packages (from streamlit) (1.26.4)\n",
            "Requirement already satisfied: packaging<25,>=20 in /usr/local/lib/python3.10/dist-packages (from streamlit) (24.1)\n",
            "Requirement already satisfied: pandas<3,>=1.4.0 in /usr/local/lib/python3.10/dist-packages (from streamlit) (2.2.2)\n",
            "Requirement already satisfied: pillow<11,>=7.1.0 in /usr/local/lib/python3.10/dist-packages (from streamlit) (10.4.0)\n",
            "Requirement already satisfied: protobuf<6,>=3.20 in /usr/local/lib/python3.10/dist-packages (from streamlit) (3.20.3)\n",
            "Requirement already satisfied: pyarrow>=7.0 in /usr/local/lib/python3.10/dist-packages (from streamlit) (16.1.0)\n",
            "Requirement already satisfied: requests<3,>=2.27 in /usr/local/lib/python3.10/dist-packages (from streamlit) (2.32.3)\n",
            "Requirement already satisfied: rich<14,>=10.14.0 in /usr/local/lib/python3.10/dist-packages (from streamlit) (13.9.2)\n",
            "Requirement already satisfied: tenacity<10,>=8.1.0 in /usr/local/lib/python3.10/dist-packages (from streamlit) (9.0.0)\n",
            "Requirement already satisfied: toml<2,>=0.10.1 in /usr/local/lib/python3.10/dist-packages (from streamlit) (0.10.2)\n",
            "Requirement already satisfied: typing-extensions<5,>=4.3.0 in /usr/local/lib/python3.10/dist-packages (from streamlit) (4.12.2)\n",
            "Requirement already satisfied: gitpython!=3.1.19,<4,>=3.0.7 in /usr/local/lib/python3.10/dist-packages (from streamlit) (3.1.43)\n",
            "Requirement already satisfied: pydeck<1,>=0.8.0b4 in /usr/local/lib/python3.10/dist-packages (from streamlit) (0.9.1)\n",
            "Requirement already satisfied: tornado<7,>=6.0.3 in /usr/local/lib/python3.10/dist-packages (from streamlit) (6.3.3)\n",
            "Requirement already satisfied: watchdog<6,>=2.1.5 in /usr/local/lib/python3.10/dist-packages (from streamlit) (5.0.3)\n",
            "Requirement already satisfied: entrypoints in /usr/local/lib/python3.10/dist-packages (from altair<6,>=4.0->streamlit) (0.4)\n",
            "Requirement already satisfied: jinja2 in /usr/local/lib/python3.10/dist-packages (from altair<6,>=4.0->streamlit) (3.1.4)\n",
            "Requirement already satisfied: jsonschema>=3.0 in /usr/local/lib/python3.10/dist-packages (from altair<6,>=4.0->streamlit) (4.23.0)\n",
            "Requirement already satisfied: toolz in /usr/local/lib/python3.10/dist-packages (from altair<6,>=4.0->streamlit) (0.12.1)\n",
            "Requirement already satisfied: gitdb<5,>=4.0.1 in /usr/local/lib/python3.10/dist-packages (from gitpython!=3.1.19,<4,>=3.0.7->streamlit) (4.0.11)\n",
            "Requirement already satisfied: python-dateutil>=2.8.2 in /usr/local/lib/python3.10/dist-packages (from pandas<3,>=1.4.0->streamlit) (2.8.2)\n",
            "Requirement already satisfied: pytz>=2020.1 in /usr/local/lib/python3.10/dist-packages (from pandas<3,>=1.4.0->streamlit) (2024.2)\n",
            "Requirement already satisfied: tzdata>=2022.7 in /usr/local/lib/python3.10/dist-packages (from pandas<3,>=1.4.0->streamlit) (2024.2)\n",
            "Requirement already satisfied: charset-normalizer<4,>=2 in /usr/local/lib/python3.10/dist-packages (from requests<3,>=2.27->streamlit) (3.3.2)\n",
            "Requirement already satisfied: idna<4,>=2.5 in /usr/local/lib/python3.10/dist-packages (from requests<3,>=2.27->streamlit) (3.10)\n",
            "Requirement already satisfied: urllib3<3,>=1.21.1 in /usr/local/lib/python3.10/dist-packages (from requests<3,>=2.27->streamlit) (2.2.3)\n",
            "Requirement already satisfied: certifi>=2017.4.17 in /usr/local/lib/python3.10/dist-packages (from requests<3,>=2.27->streamlit) (2024.8.30)\n",
            "Requirement already satisfied: markdown-it-py>=2.2.0 in /usr/local/lib/python3.10/dist-packages (from rich<14,>=10.14.0->streamlit) (3.0.0)\n",
            "Requirement already satisfied: pygments<3.0.0,>=2.13.0 in /usr/local/lib/python3.10/dist-packages (from rich<14,>=10.14.0->streamlit) (2.18.0)\n",
            "Requirement already satisfied: smmap<6,>=3.0.1 in /usr/local/lib/python3.10/dist-packages (from gitdb<5,>=4.0.1->gitpython!=3.1.19,<4,>=3.0.7->streamlit) (5.0.1)\n",
            "Requirement already satisfied: MarkupSafe>=2.0 in /usr/local/lib/python3.10/dist-packages (from jinja2->altair<6,>=4.0->streamlit) (2.1.5)\n",
            "Requirement already satisfied: attrs>=22.2.0 in /usr/local/lib/python3.10/dist-packages (from jsonschema>=3.0->altair<6,>=4.0->streamlit) (24.2.0)\n",
            "Requirement already satisfied: jsonschema-specifications>=2023.03.6 in /usr/local/lib/python3.10/dist-packages (from jsonschema>=3.0->altair<6,>=4.0->streamlit) (2023.12.1)\n",
            "Requirement already satisfied: referencing>=0.28.4 in /usr/local/lib/python3.10/dist-packages (from jsonschema>=3.0->altair<6,>=4.0->streamlit) (0.35.1)\n",
            "Requirement already satisfied: rpds-py>=0.7.1 in /usr/local/lib/python3.10/dist-packages (from jsonschema>=3.0->altair<6,>=4.0->streamlit) (0.20.0)\n",
            "Requirement already satisfied: mdurl~=0.1 in /usr/local/lib/python3.10/dist-packages (from markdown-it-py>=2.2.0->rich<14,>=10.14.0->streamlit) (0.1.2)\n",
            "Requirement already satisfied: six>=1.5 in /usr/local/lib/python3.10/dist-packages (from python-dateutil>=2.8.2->pandas<3,>=1.4.0->streamlit) (1.16.0)\n"
          ]
        }
      ],
      "source": [
        "pip install streamlit"
      ]
    },
    {
      "cell_type": "code",
      "source": [
        "model.save('/content/my_model.keras')  # Save the model in the native Keras format\n"
      ],
      "metadata": {
        "id": "MCMqMNw_UsQ3"
      },
      "execution_count": 120,
      "outputs": []
    },
    {
      "cell_type": "code",
      "source": [
        "import tensorflow as tf\n",
        "print(tf.__version__)\n"
      ],
      "metadata": {
        "colab": {
          "base_uri": "https://localhost:8080/"
        },
        "id": "6oR2c5seUVqz",
        "outputId": "45ff8096-ec09-4755-b7a3-6d7e2f00e608"
      },
      "execution_count": 118,
      "outputs": [
        {
          "output_type": "stream",
          "name": "stdout",
          "text": [
            "2.17.0\n"
          ]
        }
      ]
    },
    {
      "cell_type": "code",
      "source": [
        "model.save('/content/my_model.hdf5')\n"
      ],
      "metadata": {
        "colab": {
          "base_uri": "https://localhost:8080/"
        },
        "id": "a__y9kVHUh1Q",
        "outputId": "74a95c7a-7c0c-40c4-9455-435d15e4f572"
      },
      "execution_count": 119,
      "outputs": [
        {
          "output_type": "stream",
          "name": "stderr",
          "text": [
            "WARNING:absl:You are saving your model as an HDF5 file via `model.save()` or `keras.saving.save_model(model)`. This file format is considered legacy. We recommend using instead the native Keras format, e.g. `model.save('my_model.keras')` or `keras.saving.save_model(model, 'my_model.keras')`. \n"
          ]
        }
      ]
    },
    {
      "cell_type": "code",
      "execution_count": 103,
      "metadata": {
        "colab": {
          "base_uri": "https://localhost:8080/"
        },
        "id": "yJmTz0f3VD76",
        "outputId": "416922b0-e4b2-41aa-e399-f7e8af185ae1"
      },
      "outputs": [
        {
          "output_type": "stream",
          "name": "stdout",
          "text": [
            "34.80.249.53\n"
          ]
        }
      ],
      "source": [
        "!wget -q -O - ipv4.icanhazip.com"
      ]
    },
    {
      "cell_type": "code",
      "execution_count": 121,
      "metadata": {
        "colab": {
          "base_uri": "https://localhost:8080/"
        },
        "id": "KtPMN7BaVGTp",
        "outputId": "939afbd2-c513-4078-8eb1-8194b1aa42ce"
      },
      "outputs": [
        {
          "output_type": "stream",
          "name": "stdout",
          "text": [
            "\n",
            "Collecting usage statistics. To deactivate, set browser.gatherUsageStats to false.\n",
            "\u001b[0m\n",
            "\u001b[0m\n",
            "\u001b[34m\u001b[1m  You can now view your Streamlit app in your browser.\u001b[0m\n",
            "\u001b[0m\n",
            "\u001b[34m  Local URL: \u001b[0m\u001b[1mhttp://localhost:8501\u001b[0m\n",
            "\u001b[34m  Network URL: \u001b[0m\u001b[1mhttp://172.28.0.12:8501\u001b[0m\n",
            "\u001b[34m  External URL: \u001b[0m\u001b[1mhttp://34.80.249.53:8501\u001b[0m\n",
            "\u001b[0m\n",
            "your url is: https://public-walls-lick.loca.lt\n",
            "2024-10-11 16:05:38.841722: E external/local_xla/xla/stream_executor/cuda/cuda_fft.cc:485] Unable to register cuFFT factory: Attempting to register factory for plugin cuFFT when one has already been registered\n",
            "2024-10-11 16:05:38.868588: E external/local_xla/xla/stream_executor/cuda/cuda_dnn.cc:8454] Unable to register cuDNN factory: Attempting to register factory for plugin cuDNN when one has already been registered\n",
            "2024-10-11 16:05:38.876983: E external/local_xla/xla/stream_executor/cuda/cuda_blas.cc:1452] Unable to register cuBLAS factory: Attempting to register factory for plugin cuBLAS when one has already been registered\n",
            "2024-10-11 16:05:40.306153: W tensorflow/compiler/tf2tensorrt/utils/py_utils.cc:38] TF-TRT Warning: Could not find TensorRT\n",
            "/usr/local/lib/python3.10/dist-packages/keras/src/saving/saving_lib.py:576: UserWarning: Skipping variable loading for optimizer 'rmsprop', because it has 20 variables whereas the saved optimizer has 38 variables. \n",
            "  saveable.load_own_variables(weights_store.get(inner_path))\n",
            "2024-10-11 16:05:57.309 Uncaught app exception\n",
            "Traceback (most recent call last):\n",
            "  File \"/usr/local/lib/python3.10/dist-packages/streamlit/runtime/scriptrunner/exec_code.py\", line 88, in exec_func_with_error_handling\n",
            "    result = func()\n",
            "  File \"/usr/local/lib/python3.10/dist-packages/streamlit/runtime/scriptrunner/script_runner.py\", line 579, in code_to_exec\n",
            "    exec(code, module.__dict__)\n",
            "  File \"/content/app1.py\", line 14, in <module>\n",
            "    model = load_model()\n",
            "  File \"/content/app1.py\", line 8, in load_model\n",
            "    model = tf.keras.models.load_model('/content/my_model.keras')\n",
            "  File \"/usr/local/lib/python3.10/dist-packages/keras/src/saving/saving_api.py\", line 182, in load_model\n",
            "    return saving_lib.load_model(\n",
            "  File \"/usr/local/lib/python3.10/dist-packages/keras/src/saving/saving_lib.py\", line 237, in load_model\n",
            "    return _load_model_from_fileobj(\n",
            "  File \"/usr/local/lib/python3.10/dist-packages/keras/src/saving/saving_lib.py\", line 314, in _load_model_from_fileobj\n",
            "    model = _model_from_config(\n",
            "  File \"/usr/local/lib/python3.10/dist-packages/keras/src/saving/saving_lib.py\", line 303, in _model_from_config\n",
            "    model = deserialize_keras_object(\n",
            "  File \"/usr/local/lib/python3.10/dist-packages/keras/src/saving/serialization_lib.py\", line 718, in deserialize_keras_object\n",
            "    instance = cls.from_config(inner_config)\n",
            "  File \"/usr/local/lib/python3.10/dist-packages/keras/src/models/sequential.py\", line 347, in from_config\n",
            "    layer = serialization_lib.deserialize_keras_object(\n",
            "  File \"/usr/local/lib/python3.10/dist-packages/keras/src/saving/serialization_lib.py\", line 730, in deserialize_keras_object\n",
            "    instance.build_from_config(build_config)\n",
            "  File \"/usr/local/lib/python3.10/dist-packages/keras/src/layers/layer.py\", line 432, in build_from_config\n",
            "    self.build(config[\"input_shape\"])\n",
            "  File \"/usr/local/lib/python3.10/dist-packages/keras/src/layers/layer.py\", line 223, in build_wrapper\n",
            "    with obj._open_name_scope():\n",
            "  File \"/usr/local/lib/python3.10/dist-packages/keras/src/backend/tensorflow/core.py\", line 448, in __exit__\n",
            "    super().__exit__(*args, **kwargs)\n",
            "  File \"/usr/local/lib/python3.10/dist-packages/keras/src/backend/common/name_scope.py\", line 61, in __exit__\n",
            "    name_scope_stack.pop()\n",
            "IndexError: pop from empty list\n",
            "WARNING:absl:Compiled the loaded model, but the compiled metrics have yet to be built. `model.compile_metrics` will be empty until you train or evaluate the model.\n",
            "2024-10-11 16:06:32.201 Uncaught app exception\n",
            "Traceback (most recent call last):\n",
            "  File \"/usr/local/lib/python3.10/dist-packages/keras/src/layers/layer.py\", line 225, in build_wrapper\n",
            "    original_build_method(*args, **kwargs)\n",
            "  File \"/usr/local/lib/python3.10/dist-packages/keras/src/models/sequential.py\", line 183, in build\n",
            "    x = layer(x)\n",
            "  File \"/usr/local/lib/python3.10/dist-packages/keras/src/utils/traceback_utils.py\", line 122, in error_handler\n",
            "    raise e.with_traceback(filtered_tb) from None\n",
            "  File \"/usr/local/lib/python3.10/dist-packages/keras/src/backend/common/name_scope.py\", line 61, in __exit__\n",
            "    name_scope_stack.pop()\n",
            "IndexError: pop from empty list\n",
            "\n",
            "During handling of the above exception, another exception occurred:\n",
            "\n",
            "Traceback (most recent call last):\n",
            "  File \"/usr/local/lib/python3.10/dist-packages/streamlit/runtime/scriptrunner/exec_code.py\", line 88, in exec_func_with_error_handling\n",
            "    result = func()\n",
            "  File \"/usr/local/lib/python3.10/dist-packages/streamlit/runtime/scriptrunner/script_runner.py\", line 579, in code_to_exec\n",
            "    exec(code, module.__dict__)\n",
            "  File \"/content/app1.py\", line 17, in <module>\n",
            "    model = load_model()\n",
            "  File \"/content/app1.py\", line 10, in load_model\n",
            "    model = tf.keras.models.load_model('/content/my_model.hdf5')\n",
            "  File \"/usr/local/lib/python3.10/dist-packages/keras/src/saving/saving_api.py\", line 189, in load_model\n",
            "    return legacy_h5_format.load_model_from_hdf5(\n",
            "  File \"/usr/local/lib/python3.10/dist-packages/keras/src/legacy/saving/legacy_h5_format.py\", line 133, in load_model_from_hdf5\n",
            "    model = saving_utils.model_from_config(\n",
            "  File \"/usr/local/lib/python3.10/dist-packages/keras/src/legacy/saving/saving_utils.py\", line 85, in model_from_config\n",
            "    return serialization.deserialize_keras_object(\n",
            "  File \"/usr/local/lib/python3.10/dist-packages/keras/src/legacy/saving/serialization.py\", line 495, in deserialize_keras_object\n",
            "    deserialized_obj = cls.from_config(\n",
            "  File \"/usr/local/lib/python3.10/dist-packages/keras/src/models/sequential.py\", line 351, in from_config\n",
            "    model.add(layer)\n",
            "  File \"/usr/local/lib/python3.10/dist-packages/keras/src/models/sequential.py\", line 120, in add\n",
            "    self._maybe_rebuild()\n",
            "  File \"/usr/local/lib/python3.10/dist-packages/keras/src/models/sequential.py\", line 139, in _maybe_rebuild\n",
            "    self.build(input_shape)\n",
            "  File \"/usr/local/lib/python3.10/dist-packages/keras/src/layers/layer.py\", line 223, in build_wrapper\n",
            "    with obj._open_name_scope():\n",
            "  File \"/usr/local/lib/python3.10/dist-packages/keras/src/backend/tensorflow/core.py\", line 448, in __exit__\n",
            "    super().__exit__(*args, **kwargs)\n",
            "  File \"/usr/local/lib/python3.10/dist-packages/keras/src/backend/common/name_scope.py\", line 61, in __exit__\n",
            "    name_scope_stack.pop()\n",
            "IndexError: pop from empty list\n",
            "2024-10-11 16:06:32.601 Uncaught app exception\n",
            "Traceback (most recent call last):\n",
            "  File \"/usr/local/lib/python3.10/dist-packages/keras/src/layers/layer.py\", line 225, in build_wrapper\n",
            "    original_build_method(*args, **kwargs)\n",
            "  File \"/usr/local/lib/python3.10/dist-packages/keras/src/models/sequential.py\", line 183, in build\n",
            "    x = layer(x)\n",
            "  File \"/usr/local/lib/python3.10/dist-packages/keras/src/utils/traceback_utils.py\", line 122, in error_handler\n",
            "    raise e.with_traceback(filtered_tb) from None\n",
            "  File \"/usr/local/lib/python3.10/dist-packages/keras/src/backend/common/name_scope.py\", line 61, in __exit__\n",
            "    name_scope_stack.pop()\n",
            "IndexError: pop from empty list\n",
            "\n",
            "During handling of the above exception, another exception occurred:\n",
            "\n",
            "Traceback (most recent call last):\n",
            "  File \"/usr/local/lib/python3.10/dist-packages/streamlit/runtime/scriptrunner/exec_code.py\", line 88, in exec_func_with_error_handling\n",
            "    result = func()\n",
            "  File \"/usr/local/lib/python3.10/dist-packages/streamlit/runtime/scriptrunner/script_runner.py\", line 579, in code_to_exec\n",
            "    exec(code, module.__dict__)\n",
            "  File \"/content/app1.py\", line 17, in <module>\n",
            "    model = load_model()\n",
            "  File \"/content/app1.py\", line 10, in load_model\n",
            "    model = tf.keras.models.load_model('/content/my_model.hdf5')\n",
            "  File \"/usr/local/lib/python3.10/dist-packages/keras/src/saving/saving_api.py\", line 189, in load_model\n",
            "    return legacy_h5_format.load_model_from_hdf5(\n",
            "  File \"/usr/local/lib/python3.10/dist-packages/keras/src/legacy/saving/legacy_h5_format.py\", line 133, in load_model_from_hdf5\n",
            "    model = saving_utils.model_from_config(\n",
            "  File \"/usr/local/lib/python3.10/dist-packages/keras/src/legacy/saving/saving_utils.py\", line 85, in model_from_config\n",
            "    return serialization.deserialize_keras_object(\n",
            "  File \"/usr/local/lib/python3.10/dist-packages/keras/src/legacy/saving/serialization.py\", line 495, in deserialize_keras_object\n",
            "    deserialized_obj = cls.from_config(\n",
            "  File \"/usr/local/lib/python3.10/dist-packages/keras/src/models/sequential.py\", line 351, in from_config\n",
            "    model.add(layer)\n",
            "  File \"/usr/local/lib/python3.10/dist-packages/keras/src/models/sequential.py\", line 120, in add\n",
            "    self._maybe_rebuild()\n",
            "  File \"/usr/local/lib/python3.10/dist-packages/keras/src/models/sequential.py\", line 139, in _maybe_rebuild\n",
            "    self.build(input_shape)\n",
            "  File \"/usr/local/lib/python3.10/dist-packages/keras/src/layers/layer.py\", line 223, in build_wrapper\n",
            "    with obj._open_name_scope():\n",
            "  File \"/usr/local/lib/python3.10/dist-packages/keras/src/backend/tensorflow/core.py\", line 448, in __exit__\n",
            "    super().__exit__(*args, **kwargs)\n",
            "  File \"/usr/local/lib/python3.10/dist-packages/keras/src/backend/common/name_scope.py\", line 61, in __exit__\n",
            "    name_scope_stack.pop()\n",
            "IndexError: pop from empty list\n",
            "2024-10-11 16:06:32.602 Uncaught app exception\n",
            "Traceback (most recent call last):\n",
            "  File \"/usr/local/lib/python3.10/dist-packages/keras/src/layers/layer.py\", line 225, in build_wrapper\n",
            "    original_build_method(*args, **kwargs)\n",
            "  File \"/usr/local/lib/python3.10/dist-packages/keras/src/models/sequential.py\", line 183, in build\n",
            "    x = layer(x)\n",
            "  File \"/usr/local/lib/python3.10/dist-packages/keras/src/utils/traceback_utils.py\", line 122, in error_handler\n",
            "    raise e.with_traceback(filtered_tb) from None\n",
            "  File \"/usr/local/lib/python3.10/dist-packages/keras/src/backend/common/name_scope.py\", line 61, in __exit__\n",
            "    name_scope_stack.pop()\n",
            "IndexError: pop from empty list\n",
            "\n",
            "During handling of the above exception, another exception occurred:\n",
            "\n",
            "Traceback (most recent call last):\n",
            "  File \"/usr/local/lib/python3.10/dist-packages/streamlit/runtime/scriptrunner/exec_code.py\", line 88, in exec_func_with_error_handling\n",
            "    result = func()\n",
            "  File \"/usr/local/lib/python3.10/dist-packages/streamlit/runtime/scriptrunner/script_runner.py\", line 579, in code_to_exec\n",
            "    exec(code, module.__dict__)\n",
            "  File \"/content/app1.py\", line 17, in <module>\n",
            "    model = load_model()\n",
            "  File \"/content/app1.py\", line 10, in load_model\n",
            "    model = tf.keras.models.load_model('/content/my_model.hdf5')\n",
            "  File \"/usr/local/lib/python3.10/dist-packages/keras/src/saving/saving_api.py\", line 189, in load_model\n",
            "    return legacy_h5_format.load_model_from_hdf5(\n",
            "  File \"/usr/local/lib/python3.10/dist-packages/keras/src/legacy/saving/legacy_h5_format.py\", line 133, in load_model_from_hdf5\n",
            "    model = saving_utils.model_from_config(\n",
            "  File \"/usr/local/lib/python3.10/dist-packages/keras/src/legacy/saving/saving_utils.py\", line 85, in model_from_config\n",
            "    return serialization.deserialize_keras_object(\n",
            "  File \"/usr/local/lib/python3.10/dist-packages/keras/src/legacy/saving/serialization.py\", line 495, in deserialize_keras_object\n",
            "    deserialized_obj = cls.from_config(\n",
            "  File \"/usr/local/lib/python3.10/dist-packages/keras/src/models/sequential.py\", line 351, in from_config\n",
            "    model.add(layer)\n",
            "  File \"/usr/local/lib/python3.10/dist-packages/keras/src/models/sequential.py\", line 120, in add\n",
            "    self._maybe_rebuild()\n",
            "  File \"/usr/local/lib/python3.10/dist-packages/keras/src/models/sequential.py\", line 139, in _maybe_rebuild\n",
            "    self.build(input_shape)\n",
            "  File \"/usr/local/lib/python3.10/dist-packages/keras/src/layers/layer.py\", line 223, in build_wrapper\n",
            "    with obj._open_name_scope():\n",
            "  File \"/usr/local/lib/python3.10/dist-packages/keras/src/backend/tensorflow/core.py\", line 448, in __exit__\n",
            "    super().__exit__(*args, **kwargs)\n",
            "  File \"/usr/local/lib/python3.10/dist-packages/keras/src/backend/common/name_scope.py\", line 61, in __exit__\n",
            "    name_scope_stack.pop()\n",
            "IndexError: pop from empty list\n",
            "WARNING:absl:Compiled the loaded model, but the compiled metrics have yet to be built. `model.compile_metrics` will be empty until you train or evaluate the model.\n",
            "WARNING:absl:Compiled the loaded model, but the compiled metrics have yet to be built. `model.compile_metrics` will be empty until you train or evaluate the model.\n",
            "WARNING:absl:Compiled the loaded model, but the compiled metrics have yet to be built. `model.compile_metrics` will be empty until you train or evaluate the model.\n",
            "WARNING:absl:Compiled the loaded model, but the compiled metrics have yet to be built. `model.compile_metrics` will be empty until you train or evaluate the model.\n",
            "WARNING:absl:Compiled the loaded model, but the compiled metrics have yet to be built. `model.compile_metrics` will be empty until you train or evaluate the model.\n",
            "WARNING:absl:Compiled the loaded model, but the compiled metrics have yet to be built. `model.compile_metrics` will be empty until you train or evaluate the model.\n",
            "WARNING:absl:Compiled the loaded model, but the compiled metrics have yet to be built. `model.compile_metrics` will be empty until you train or evaluate the model.\n",
            "WARNING:absl:Compiled the loaded model, but the compiled metrics have yet to be built. `model.compile_metrics` will be empty until you train or evaluate the model.\n",
            "WARNING:absl:Compiled the loaded model, but the compiled metrics have yet to be built. `model.compile_metrics` will be empty until you train or evaluate the model.\n",
            "WARNING:absl:Compiled the loaded model, but the compiled metrics have yet to be built. `model.compile_metrics` will be empty until you train or evaluate the model.\n",
            "2024-10-11 16:07:54.957 Uncaught app exception\n",
            "Traceback (most recent call last):\n",
            "  File \"/usr/local/lib/python3.10/dist-packages/streamlit/runtime/scriptrunner/exec_code.py\", line 88, in exec_func_with_error_handling\n",
            "    result = func()\n",
            "  File \"/usr/local/lib/python3.10/dist-packages/streamlit/runtime/scriptrunner/script_runner.py\", line 579, in code_to_exec\n",
            "    exec(code, module.__dict__)\n",
            "  File \"/content/app1.py\", line 91, in <module>\n",
            "    main()\n",
            "  File \"/content/app1.py\", line 85, in main\n",
            "    result = predict(input_data)\n",
            "  File \"/content/app1.py\", line 19, in predict\n",
            "    input_data_standardized = sc.transform(input_data_reshaped)  # Apply standardization if needed\n",
            "  File \"/usr/local/lib/python3.10/dist-packages/sklearn/utils/_set_output.py\", line 316, in wrapped\n",
            "    data_to_wrap = f(self, X, *args, **kwargs)\n",
            "  File \"/usr/local/lib/python3.10/dist-packages/sklearn/preprocessing/_data.py\", line 1042, in transform\n",
            "    check_is_fitted(self)\n",
            "  File \"/usr/local/lib/python3.10/dist-packages/sklearn/utils/validation.py\", line 1661, in check_is_fitted\n",
            "    raise NotFittedError(msg % {\"name\": type(estimator).__name__})\n",
            "sklearn.exceptions.NotFittedError: This StandardScaler instance is not fitted yet. Call 'fit' with appropriate arguments before using this estimator.\n",
            "WARNING:absl:Compiled the loaded model, but the compiled metrics have yet to be built. `model.compile_metrics` will be empty until you train or evaluate the model.\n",
            "WARNING:absl:Compiled the loaded model, but the compiled metrics have yet to be built. `model.compile_metrics` will be empty until you train or evaluate the model.\n",
            "\u001b[1m1/1\u001b[0m \u001b[32m━━━━━━━━━━━━━━━━━━━━\u001b[0m\u001b[37m\u001b[0m \u001b[1m0s\u001b[0m 95ms/step\n",
            "WARNING:absl:Compiled the loaded model, but the compiled metrics have yet to be built. `model.compile_metrics` will be empty until you train or evaluate the model.\n",
            "WARNING:absl:Compiled the loaded model, but the compiled metrics have yet to be built. `model.compile_metrics` will be empty until you train or evaluate the model.\n",
            "WARNING:absl:Compiled the loaded model, but the compiled metrics have yet to be built. `model.compile_metrics` will be empty until you train or evaluate the model.\n",
            "WARNING:absl:Compiled the loaded model, but the compiled metrics have yet to be built. `model.compile_metrics` will be empty until you train or evaluate the model.\n",
            "WARNING:absl:Compiled the loaded model, but the compiled metrics have yet to be built. `model.compile_metrics` will be empty until you train or evaluate the model.\n",
            "WARNING:absl:Compiled the loaded model, but the compiled metrics have yet to be built. `model.compile_metrics` will be empty until you train or evaluate the model.\n",
            "\u001b[1m1/1\u001b[0m \u001b[32m━━━━━━━━━━━━━━━━━━━━\u001b[0m\u001b[37m\u001b[0m \u001b[1m0s\u001b[0m 94ms/step\n",
            "WARNING:absl:Compiled the loaded model, but the compiled metrics have yet to be built. `model.compile_metrics` will be empty until you train or evaluate the model.\n",
            "WARNING:absl:Compiled the loaded model, but the compiled metrics have yet to be built. `model.compile_metrics` will be empty until you train or evaluate the model.\n",
            "WARNING:absl:Compiled the loaded model, but the compiled metrics have yet to be built. `model.compile_metrics` will be empty until you train or evaluate the model.\n",
            "WARNING:absl:Compiled the loaded model, but the compiled metrics have yet to be built. `model.compile_metrics` will be empty until you train or evaluate the model.\n",
            "WARNING:absl:Compiled the loaded model, but the compiled metrics have yet to be built. `model.compile_metrics` will be empty until you train or evaluate the model.\n",
            "WARNING:absl:Compiled the loaded model, but the compiled metrics have yet to be built. `model.compile_metrics` will be empty until you train or evaluate the model.\n",
            "\u001b[1m1/1\u001b[0m \u001b[32m━━━━━━━━━━━━━━━━━━━━\u001b[0m\u001b[37m\u001b[0m \u001b[1m0s\u001b[0m 144ms/step\n",
            "\u001b[34m  Stopping...\u001b[0m\n",
            "^C\n"
          ]
        }
      ],
      "source": [
        "! streamlit run app1.py & npx localtunnel --port 8501"
      ]
    },
    {
      "cell_type": "markdown",
      "metadata": {
        "id": "Cq6svn2fQmMy"
      },
      "source": [
        "# **Drop_out**"
      ]
    },
    {
      "cell_type": "code",
      "execution_count": null,
      "metadata": {
        "colab": {
          "base_uri": "https://localhost:8080/"
        },
        "id": "f_gJzDqABRIc",
        "outputId": "927b6813-84d3-492f-c373-f16baf80ae4e"
      },
      "outputs": [
        {
          "name": "stderr",
          "output_type": "stream",
          "text": [
            "/usr/local/lib/python3.10/dist-packages/keras/src/layers/core/dense.py:87: UserWarning: Do not pass an `input_shape`/`input_dim` argument to a layer. When using Sequential models, prefer using an `Input(shape)` object as the first layer in the model instead.\n",
            "  super().__init__(activity_regularizer=activity_regularizer, **kwargs)\n"
          ]
        }
      ],
      "source": [
        "from tensorflow.keras.layers import Dropout\n",
        "from tensorflow.keras.optimizers import Adam\n",
        "model1 = Sequential()\n",
        "#input dimension 8 neuron - developer scope\n",
        "model1.add(Dense(128,input_dim = x_train.shape[1],activation=\"relu\"))\n",
        "model1.add(Dropout(0.3))\n",
        "model1.add(Dense(64,input_dim = x_train.shape[1],activation=\"relu\"))\n",
        "model1.add(Dropout(0.3))\n",
        "model1.add(Dense(32,input_dim = x_train.shape[1],activation=\"relu\"))\n",
        "\n",
        "\n",
        "model1.add(Dense(16,activation=\"softmax\")) #output layer\n",
        "model1.compile(loss=\"categorical_crossentropy\",optimizer=Adam(learning_rate=0.001),metrics=[tf.keras.metrics.F1Score(),\"accuracy\",tf.keras.metrics.Precision(),tf.keras.metrics.Recall()])"
      ]
    },
    {
      "cell_type": "code",
      "execution_count": null,
      "metadata": {
        "colab": {
          "base_uri": "https://localhost:8080/"
        },
        "collapsed": true,
        "id": "BEg5-ug-BeVb",
        "outputId": "820a7b8d-7d9c-4b2f-eac4-17efc790a1c3"
      },
      "outputs": [
        {
          "name": "stdout",
          "output_type": "stream",
          "text": [
            "Epoch 1/5\n",
            "\u001b[1m1056/1056\u001b[0m \u001b[32m━━━━━━━━━━━━━━━━━━━━\u001b[0m\u001b[37m\u001b[0m \u001b[1m9s\u001b[0m 6ms/step - accuracy: 0.1031 - f1_score: 0.0769 - loss: 2.7277 - precision_2: 0.0773 - recall_2: 3.3845e-05 - val_accuracy: 0.1958 - val_f1_score: 0.1662 - val_loss: 2.5375 - val_precision_2: 0.0000e+00 - val_recall_2: 0.0000e+00\n",
            "Epoch 2/5\n",
            "\u001b[1m1056/1056\u001b[0m \u001b[32m━━━━━━━━━━━━━━━━━━━━\u001b[0m\u001b[37m\u001b[0m \u001b[1m8s\u001b[0m 3ms/step - accuracy: 0.1820 - f1_score: 0.1626 - loss: 2.5558 - precision_2: 0.3971 - recall_2: 0.0023 - val_accuracy: 0.2719 - val_f1_score: 0.2552 - val_loss: 2.3333 - val_precision_2: 0.6190 - val_recall_2: 0.0020\n",
            "Epoch 3/5\n",
            "\u001b[1m1056/1056\u001b[0m \u001b[32m━━━━━━━━━━━━━━━━━━━━\u001b[0m\u001b[37m\u001b[0m \u001b[1m3s\u001b[0m 3ms/step - accuracy: 0.2204 - f1_score: 0.2086 - loss: 2.4223 - precision_2: 0.5007 - recall_2: 0.0107 - val_accuracy: 0.3408 - val_f1_score: 0.3248 - val_loss: 2.1671 - val_precision_2: 0.8309 - val_recall_2: 0.0130\n",
            "Epoch 4/5\n",
            "\u001b[1m1056/1056\u001b[0m \u001b[32m━━━━━━━━━━━━━━━━━━━━\u001b[0m\u001b[37m\u001b[0m \u001b[1m6s\u001b[0m 4ms/step - accuracy: 0.2582 - f1_score: 0.2482 - loss: 2.3033 - precision_2: 0.5797 - recall_2: 0.0227 - val_accuracy: 0.3965 - val_f1_score: 0.3891 - val_loss: 2.0097 - val_precision_2: 0.7949 - val_recall_2: 0.0214\n",
            "Epoch 5/5\n",
            "\u001b[1m1056/1056\u001b[0m \u001b[32m━━━━━━━━━━━━━━━━━━━━\u001b[0m\u001b[37m\u001b[0m \u001b[1m5s\u001b[0m 3ms/step - accuracy: 0.2910 - f1_score: 0.2809 - loss: 2.2084 - precision_2: 0.5870 - recall_2: 0.0384 - val_accuracy: 0.4443 - val_f1_score: 0.4343 - val_loss: 1.8845 - val_precision_2: 0.8069 - val_recall_2: 0.0516\n"
          ]
        }
      ],
      "source": [
        "result1=model1.fit(x_train,y_train,epochs=5,validation_split=.2,batch_size=50,verbose=1)"
      ]
    },
    {
      "cell_type": "code",
      "execution_count": null,
      "metadata": {
        "colab": {
          "base_uri": "https://localhost:8080/"
        },
        "id": "0Fr36y7ZQ_J-",
        "outputId": "68a09dc0-e593-490e-a9d6-21e7b951ef6b"
      },
      "outputs": [
        {
          "name": "stdout",
          "output_type": "stream",
          "text": [
            "Epoch 1/50\n",
            "\u001b[1m1056/1056\u001b[0m \u001b[32m━━━━━━━━━━━━━━━━━━━━\u001b[0m\u001b[37m\u001b[0m \u001b[1m9s\u001b[0m 8ms/step - accuracy: 0.3133 - f1_score: 0.3053 - loss: 2.1406 - precision_2: 0.6173 - recall_2: 0.0535 - val_accuracy: 0.4788 - val_f1_score: 0.4692 - val_loss: 1.7805 - val_precision_2: 0.8307 - val_recall_2: 0.0721\n",
            "Epoch 2/50\n",
            "\u001b[1m1056/1056\u001b[0m \u001b[32m━━━━━━━━━━━━━━━━━━━━\u001b[0m\u001b[37m\u001b[0m \u001b[1m5s\u001b[0m 3ms/step - accuracy: 0.3312 - f1_score: 0.3221 - loss: 2.0755 - precision_2: 0.6249 - recall_2: 0.0704 - val_accuracy: 0.5136 - val_f1_score: 0.5050 - val_loss: 1.7032 - val_precision_2: 0.8600 - val_recall_2: 0.0889\n",
            "Epoch 3/50\n",
            "\u001b[1m1056/1056\u001b[0m \u001b[32m━━━━━━━━━━━━━━━━━━━━\u001b[0m\u001b[37m\u001b[0m \u001b[1m4s\u001b[0m 4ms/step - accuracy: 0.3517 - f1_score: 0.3440 - loss: 2.0143 - precision_2: 0.6407 - recall_2: 0.0873 - val_accuracy: 0.5333 - val_f1_score: 0.5228 - val_loss: 1.6088 - val_precision_2: 0.8478 - val_recall_2: 0.1397\n",
            "Epoch 4/50\n",
            "\u001b[1m1056/1056\u001b[0m \u001b[32m━━━━━━━━━━━━━━━━━━━━\u001b[0m\u001b[37m\u001b[0m \u001b[1m5s\u001b[0m 5ms/step - accuracy: 0.3629 - f1_score: 0.3560 - loss: 1.9768 - precision_2: 0.6427 - recall_2: 0.1002 - val_accuracy: 0.5686 - val_f1_score: 0.5594 - val_loss: 1.5298 - val_precision_2: 0.8636 - val_recall_2: 0.1737\n",
            "Epoch 5/50\n",
            "\u001b[1m1056/1056\u001b[0m \u001b[32m━━━━━━━━━━━━━━━━━━━━\u001b[0m\u001b[37m\u001b[0m \u001b[1m9s\u001b[0m 4ms/step - accuracy: 0.3788 - f1_score: 0.3716 - loss: 1.9293 - precision_2: 0.6546 - recall_2: 0.1177 - val_accuracy: 0.5916 - val_f1_score: 0.5830 - val_loss: 1.4679 - val_precision_2: 0.8960 - val_recall_2: 0.2003\n",
            "Epoch 6/50\n",
            "\u001b[1m1056/1056\u001b[0m \u001b[32m━━━━━━━━━━━━━━━━━━━━\u001b[0m\u001b[37m\u001b[0m \u001b[1m5s\u001b[0m 5ms/step - accuracy: 0.3913 - f1_score: 0.3846 - loss: 1.8910 - precision_2: 0.6603 - recall_2: 0.1285 - val_accuracy: 0.6020 - val_f1_score: 0.5938 - val_loss: 1.4219 - val_precision_2: 0.8931 - val_recall_2: 0.2172\n",
            "Epoch 7/50\n",
            "\u001b[1m1056/1056\u001b[0m \u001b[32m━━━━━━━━━━━━━━━━━━━━\u001b[0m\u001b[37m\u001b[0m \u001b[1m3s\u001b[0m 3ms/step - accuracy: 0.3980 - f1_score: 0.3911 - loss: 1.8655 - precision_2: 0.6620 - recall_2: 0.1388 - val_accuracy: 0.6316 - val_f1_score: 0.6236 - val_loss: 1.3747 - val_precision_2: 0.8991 - val_recall_2: 0.2308\n",
            "Epoch 8/50\n",
            "\u001b[1m1056/1056\u001b[0m \u001b[32m━━━━━━━━━━━━━━━━━━━━\u001b[0m\u001b[37m\u001b[0m \u001b[1m4s\u001b[0m 3ms/step - accuracy: 0.4120 - f1_score: 0.4062 - loss: 1.8165 - precision_2: 0.6860 - recall_2: 0.1576 - val_accuracy: 0.6307 - val_f1_score: 0.6213 - val_loss: 1.3189 - val_precision_2: 0.9024 - val_recall_2: 0.2697\n",
            "Epoch 9/50\n",
            "\u001b[1m1056/1056\u001b[0m \u001b[32m━━━━━━━━━━━━━━━━━━━━\u001b[0m\u001b[37m\u001b[0m \u001b[1m4s\u001b[0m 4ms/step - accuracy: 0.4161 - f1_score: 0.4085 - loss: 1.7943 - precision_2: 0.6815 - recall_2: 0.1700 - val_accuracy: 0.6595 - val_f1_score: 0.6515 - val_loss: 1.2883 - val_precision_2: 0.9177 - val_recall_2: 0.2823\n",
            "Epoch 10/50\n",
            "\u001b[1m1056/1056\u001b[0m \u001b[32m━━━━━━━━━━━━━━━━━━━━\u001b[0m\u001b[37m\u001b[0m \u001b[1m5s\u001b[0m 4ms/step - accuracy: 0.4285 - f1_score: 0.4232 - loss: 1.7695 - precision_2: 0.6871 - recall_2: 0.1785 - val_accuracy: 0.6597 - val_f1_score: 0.6523 - val_loss: 1.2420 - val_precision_2: 0.9211 - val_recall_2: 0.3116\n",
            "Epoch 11/50\n",
            "\u001b[1m1056/1056\u001b[0m \u001b[32m━━━━━━━━━━━━━━━━━━━━\u001b[0m\u001b[37m\u001b[0m \u001b[1m5s\u001b[0m 4ms/step - accuracy: 0.4370 - f1_score: 0.4314 - loss: 1.7475 - precision_2: 0.7029 - recall_2: 0.1906 - val_accuracy: 0.6774 - val_f1_score: 0.6700 - val_loss: 1.2106 - val_precision_2: 0.9102 - val_recall_2: 0.3332\n",
            "Epoch 12/50\n",
            "\u001b[1m1056/1056\u001b[0m \u001b[32m━━━━━━━━━━━━━━━━━━━━\u001b[0m\u001b[37m\u001b[0m \u001b[1m5s\u001b[0m 5ms/step - accuracy: 0.4447 - f1_score: 0.4386 - loss: 1.7168 - precision_2: 0.6979 - recall_2: 0.2029 - val_accuracy: 0.6871 - val_f1_score: 0.6785 - val_loss: 1.1725 - val_precision_2: 0.9110 - val_recall_2: 0.3567\n",
            "Epoch 13/50\n",
            "\u001b[1m1056/1056\u001b[0m \u001b[32m━━━━━━━━━━━━━━━━━━━━\u001b[0m\u001b[37m\u001b[0m \u001b[1m4s\u001b[0m 4ms/step - accuracy: 0.4512 - f1_score: 0.4460 - loss: 1.7009 - precision_2: 0.6947 - recall_2: 0.2071 - val_accuracy: 0.6880 - val_f1_score: 0.6823 - val_loss: 1.1455 - val_precision_2: 0.9143 - val_recall_2: 0.3661\n",
            "Epoch 14/50\n",
            "\u001b[1m1056/1056\u001b[0m \u001b[32m━━━━━━━━━━━━━━━━━━━━\u001b[0m\u001b[37m\u001b[0m \u001b[1m5s\u001b[0m 4ms/step - accuracy: 0.4597 - f1_score: 0.4550 - loss: 1.6814 - precision_2: 0.7036 - recall_2: 0.2177 - val_accuracy: 0.7085 - val_f1_score: 0.7028 - val_loss: 1.1209 - val_precision_2: 0.9219 - val_recall_2: 0.3686\n",
            "Epoch 15/50\n",
            "\u001b[1m1056/1056\u001b[0m \u001b[32m━━━━━━━━━━━━━━━━━━━━\u001b[0m\u001b[37m\u001b[0m \u001b[1m5s\u001b[0m 5ms/step - accuracy: 0.4633 - f1_score: 0.4575 - loss: 1.6651 - precision_2: 0.7055 - recall_2: 0.2253 - val_accuracy: 0.7048 - val_f1_score: 0.6979 - val_loss: 1.0902 - val_precision_2: 0.9233 - val_recall_2: 0.3957\n",
            "Epoch 16/50\n",
            "\u001b[1m1056/1056\u001b[0m \u001b[32m━━━━━━━━━━━━━━━━━━━━\u001b[0m\u001b[37m\u001b[0m \u001b[1m4s\u001b[0m 4ms/step - accuracy: 0.4657 - f1_score: 0.4604 - loss: 1.6541 - precision_2: 0.7069 - recall_2: 0.2349 - val_accuracy: 0.7190 - val_f1_score: 0.7128 - val_loss: 1.0859 - val_precision_2: 0.9246 - val_recall_2: 0.3941\n",
            "Epoch 17/50\n",
            "\u001b[1m1056/1056\u001b[0m \u001b[32m━━━━━━━━━━━━━━━━━━━━\u001b[0m\u001b[37m\u001b[0m \u001b[1m4s\u001b[0m 3ms/step - accuracy: 0.4674 - f1_score: 0.4615 - loss: 1.6479 - precision_2: 0.7023 - recall_2: 0.2348 - val_accuracy: 0.7173 - val_f1_score: 0.7124 - val_loss: 1.0473 - val_precision_2: 0.9320 - val_recall_2: 0.4327\n",
            "Epoch 18/50\n",
            "\u001b[1m1056/1056\u001b[0m \u001b[32m━━━━━━━━━━━━━━━━━━━━\u001b[0m\u001b[37m\u001b[0m \u001b[1m4s\u001b[0m 4ms/step - accuracy: 0.4789 - f1_score: 0.4739 - loss: 1.6144 - precision_2: 0.7125 - recall_2: 0.2496 - val_accuracy: 0.7181 - val_f1_score: 0.7130 - val_loss: 1.0340 - val_precision_2: 0.9190 - val_recall_2: 0.4341\n",
            "Epoch 19/50\n",
            "\u001b[1m1056/1056\u001b[0m \u001b[32m━━━━━━━━━━━━━━━━━━━━\u001b[0m\u001b[37m\u001b[0m \u001b[1m5s\u001b[0m 4ms/step - accuracy: 0.4747 - f1_score: 0.4695 - loss: 1.6228 - precision_2: 0.7075 - recall_2: 0.2478 - val_accuracy: 0.7327 - val_f1_score: 0.7266 - val_loss: 1.0154 - val_precision_2: 0.9294 - val_recall_2: 0.4492\n",
            "Epoch 20/50\n",
            "\u001b[1m1056/1056\u001b[0m \u001b[32m━━━━━━━━━━━━━━━━━━━━\u001b[0m\u001b[37m\u001b[0m \u001b[1m4s\u001b[0m 3ms/step - accuracy: 0.4836 - f1_score: 0.4787 - loss: 1.5988 - precision_2: 0.7130 - recall_2: 0.2599 - val_accuracy: 0.7373 - val_f1_score: 0.7335 - val_loss: 1.0131 - val_precision_2: 0.9205 - val_recall_2: 0.4481\n",
            "Epoch 21/50\n",
            "\u001b[1m1056/1056\u001b[0m \u001b[32m━━━━━━━━━━━━━━━━━━━━\u001b[0m\u001b[37m\u001b[0m \u001b[1m6s\u001b[0m 4ms/step - accuracy: 0.4864 - f1_score: 0.4818 - loss: 1.5930 - precision_2: 0.7111 - recall_2: 0.2606 - val_accuracy: 0.7487 - val_f1_score: 0.7451 - val_loss: 0.9845 - val_precision_2: 0.9242 - val_recall_2: 0.4740\n",
            "Epoch 22/50\n",
            "\u001b[1m1056/1056\u001b[0m \u001b[32m━━━━━━━━━━━━━━━━━━━━\u001b[0m\u001b[37m\u001b[0m \u001b[1m5s\u001b[0m 4ms/step - accuracy: 0.4860 - f1_score: 0.4807 - loss: 1.5900 - precision_2: 0.7092 - recall_2: 0.2622 - val_accuracy: 0.7543 - val_f1_score: 0.7514 - val_loss: 0.9691 - val_precision_2: 0.9377 - val_recall_2: 0.4736\n",
            "Epoch 23/50\n",
            "\u001b[1m1056/1056\u001b[0m \u001b[32m━━━━━━━━━━━━━━━━━━━━\u001b[0m\u001b[37m\u001b[0m \u001b[1m3s\u001b[0m 3ms/step - accuracy: 0.4946 - f1_score: 0.4889 - loss: 1.5648 - precision_2: 0.7219 - recall_2: 0.2756 - val_accuracy: 0.7583 - val_f1_score: 0.7533 - val_loss: 0.9500 - val_precision_2: 0.9362 - val_recall_2: 0.4878\n",
            "Epoch 24/50\n",
            "\u001b[1m1056/1056\u001b[0m \u001b[32m━━━━━━━━━━━━━━━━━━━━\u001b[0m\u001b[37m\u001b[0m \u001b[1m4s\u001b[0m 4ms/step - accuracy: 0.4986 - f1_score: 0.4927 - loss: 1.5606 - precision_2: 0.7148 - recall_2: 0.2795 - val_accuracy: 0.7462 - val_f1_score: 0.7427 - val_loss: 0.9469 - val_precision_2: 0.9345 - val_recall_2: 0.4939\n",
            "Epoch 25/50\n",
            "\u001b[1m1056/1056\u001b[0m \u001b[32m━━━━━━━━━━━━━━━━━━━━\u001b[0m\u001b[37m\u001b[0m \u001b[1m5s\u001b[0m 4ms/step - accuracy: 0.5023 - f1_score: 0.4968 - loss: 1.5521 - precision_2: 0.7165 - recall_2: 0.2837 - val_accuracy: 0.7510 - val_f1_score: 0.7474 - val_loss: 0.9388 - val_precision_2: 0.9242 - val_recall_2: 0.4997\n",
            "Epoch 26/50\n",
            "\u001b[1m1056/1056\u001b[0m \u001b[32m━━━━━━━━━━━━━━━━━━━━\u001b[0m\u001b[37m\u001b[0m \u001b[1m4s\u001b[0m 4ms/step - accuracy: 0.5073 - f1_score: 0.5011 - loss: 1.5370 - precision_2: 0.7251 - recall_2: 0.2915 - val_accuracy: 0.7514 - val_f1_score: 0.7465 - val_loss: 0.9240 - val_precision_2: 0.9242 - val_recall_2: 0.5100\n",
            "Epoch 27/50\n",
            "\u001b[1m1056/1056\u001b[0m \u001b[32m━━━━━━━━━━━━━━━━━━━━\u001b[0m\u001b[37m\u001b[0m \u001b[1m5s\u001b[0m 4ms/step - accuracy: 0.5052 - f1_score: 0.4999 - loss: 1.5414 - precision_2: 0.7213 - recall_2: 0.2924 - val_accuracy: 0.7656 - val_f1_score: 0.7625 - val_loss: 0.9013 - val_precision_2: 0.9217 - val_recall_2: 0.5144\n",
            "Epoch 28/50\n",
            "\u001b[1m1056/1056\u001b[0m \u001b[32m━━━━━━━━━━━━━━━━━━━━\u001b[0m\u001b[37m\u001b[0m \u001b[1m4s\u001b[0m 4ms/step - accuracy: 0.5117 - f1_score: 0.5062 - loss: 1.5269 - precision_2: 0.7210 - recall_2: 0.2982 - val_accuracy: 0.7699 - val_f1_score: 0.7656 - val_loss: 0.8995 - val_precision_2: 0.9341 - val_recall_2: 0.5221\n",
            "Epoch 29/50\n",
            "\u001b[1m1056/1056\u001b[0m \u001b[32m━━━━━━━━━━━━━━━━━━━━\u001b[0m\u001b[37m\u001b[0m \u001b[1m5s\u001b[0m 3ms/step - accuracy: 0.5093 - f1_score: 0.5034 - loss: 1.5125 - precision_2: 0.7256 - recall_2: 0.3038 - val_accuracy: 0.7590 - val_f1_score: 0.7547 - val_loss: 0.8866 - val_precision_2: 0.9287 - val_recall_2: 0.5253\n",
            "Epoch 30/50\n",
            "\u001b[1m1056/1056\u001b[0m \u001b[32m━━━━━━━━━━━━━━━━━━━━\u001b[0m\u001b[37m\u001b[0m \u001b[1m4s\u001b[0m 3ms/step - accuracy: 0.5174 - f1_score: 0.5124 - loss: 1.5155 - precision_2: 0.7306 - recall_2: 0.3105 - val_accuracy: 0.7835 - val_f1_score: 0.7807 - val_loss: 0.8563 - val_precision_2: 0.9298 - val_recall_2: 0.5396\n",
            "Epoch 31/50\n",
            "\u001b[1m1056/1056\u001b[0m \u001b[32m━━━━━━━━━━━━━━━━━━━━\u001b[0m\u001b[37m\u001b[0m \u001b[1m5s\u001b[0m 5ms/step - accuracy: 0.5160 - f1_score: 0.5109 - loss: 1.5109 - precision_2: 0.7272 - recall_2: 0.3069 - val_accuracy: 0.7753 - val_f1_score: 0.7707 - val_loss: 0.8735 - val_precision_2: 0.9285 - val_recall_2: 0.5284\n",
            "Epoch 32/50\n",
            "\u001b[1m1056/1056\u001b[0m \u001b[32m━━━━━━━━━━━━━━━━━━━━\u001b[0m\u001b[37m\u001b[0m \u001b[1m4s\u001b[0m 3ms/step - accuracy: 0.5180 - f1_score: 0.5122 - loss: 1.5027 - precision_2: 0.7279 - recall_2: 0.3088 - val_accuracy: 0.7667 - val_f1_score: 0.7616 - val_loss: 0.8641 - val_precision_2: 0.9282 - val_recall_2: 0.5322\n",
            "Epoch 33/50\n",
            "\u001b[1m1056/1056\u001b[0m \u001b[32m━━━━━━━━━━━━━━━━━━━━\u001b[0m\u001b[37m\u001b[0m \u001b[1m5s\u001b[0m 3ms/step - accuracy: 0.5132 - f1_score: 0.5078 - loss: 1.4979 - precision_2: 0.7297 - recall_2: 0.3128 - val_accuracy: 0.7781 - val_f1_score: 0.7731 - val_loss: 0.8467 - val_precision_2: 0.9377 - val_recall_2: 0.5496\n",
            "Epoch 34/50\n",
            "\u001b[1m1056/1056\u001b[0m \u001b[32m━━━━━━━━━━━━━━━━━━━━\u001b[0m\u001b[37m\u001b[0m \u001b[1m5s\u001b[0m 3ms/step - accuracy: 0.5176 - f1_score: 0.5127 - loss: 1.4971 - precision_2: 0.7276 - recall_2: 0.3159 - val_accuracy: 0.7849 - val_f1_score: 0.7796 - val_loss: 0.8301 - val_precision_2: 0.9346 - val_recall_2: 0.5567\n",
            "Epoch 35/50\n",
            "\u001b[1m1056/1056\u001b[0m \u001b[32m━━━━━━━━━━━━━━━━━━━━\u001b[0m\u001b[37m\u001b[0m \u001b[1m5s\u001b[0m 3ms/step - accuracy: 0.5226 - f1_score: 0.5165 - loss: 1.4835 - precision_2: 0.7363 - recall_2: 0.3277 - val_accuracy: 0.7805 - val_f1_score: 0.7764 - val_loss: 0.8449 - val_precision_2: 0.9381 - val_recall_2: 0.5463\n",
            "Epoch 36/50\n",
            "\u001b[1m1056/1056\u001b[0m \u001b[32m━━━━━━━━━━━━━━━━━━━━\u001b[0m\u001b[37m\u001b[0m \u001b[1m7s\u001b[0m 5ms/step - accuracy: 0.5263 - f1_score: 0.5201 - loss: 1.4741 - precision_2: 0.7327 - recall_2: 0.3263 - val_accuracy: 0.7832 - val_f1_score: 0.7795 - val_loss: 0.8268 - val_precision_2: 0.9331 - val_recall_2: 0.5619\n",
            "Epoch 37/50\n",
            "\u001b[1m1056/1056\u001b[0m \u001b[32m━━━━━━━━━━━━━━━━━━━━\u001b[0m\u001b[37m\u001b[0m \u001b[1m4s\u001b[0m 3ms/step - accuracy: 0.5213 - f1_score: 0.5163 - loss: 1.4781 - precision_2: 0.7298 - recall_2: 0.3226 - val_accuracy: 0.7898 - val_f1_score: 0.7860 - val_loss: 0.8158 - val_precision_2: 0.9295 - val_recall_2: 0.5867\n",
            "Epoch 38/50\n",
            "\u001b[1m1056/1056\u001b[0m \u001b[32m━━━━━━━━━━━━━━━━━━━━\u001b[0m\u001b[37m\u001b[0m \u001b[1m5s\u001b[0m 3ms/step - accuracy: 0.5356 - f1_score: 0.5292 - loss: 1.4551 - precision_2: 0.7380 - recall_2: 0.3374 - val_accuracy: 0.7852 - val_f1_score: 0.7812 - val_loss: 0.8050 - val_precision_2: 0.9329 - val_recall_2: 0.5796\n",
            "Epoch 39/50\n",
            "\u001b[1m1056/1056\u001b[0m \u001b[32m━━━━━━━━━━━━━━━━━━━━\u001b[0m\u001b[37m\u001b[0m \u001b[1m6s\u001b[0m 4ms/step - accuracy: 0.5262 - f1_score: 0.5221 - loss: 1.4759 - precision_2: 0.7314 - recall_2: 0.3297 - val_accuracy: 0.7915 - val_f1_score: 0.7886 - val_loss: 0.8054 - val_precision_2: 0.9346 - val_recall_2: 0.5775\n",
            "Epoch 40/50\n",
            "\u001b[1m1056/1056\u001b[0m \u001b[32m━━━━━━━━━━━━━━━━━━━━\u001b[0m\u001b[37m\u001b[0m \u001b[1m4s\u001b[0m 3ms/step - accuracy: 0.5277 - f1_score: 0.5232 - loss: 1.4715 - precision_2: 0.7371 - recall_2: 0.3340 - val_accuracy: 0.7939 - val_f1_score: 0.7898 - val_loss: 0.7973 - val_precision_2: 0.9334 - val_recall_2: 0.5904\n",
            "Epoch 41/50\n",
            "\u001b[1m1056/1056\u001b[0m \u001b[32m━━━━━━━━━━━━━━━━━━━━\u001b[0m\u001b[37m\u001b[0m \u001b[1m6s\u001b[0m 5ms/step - accuracy: 0.5270 - f1_score: 0.5225 - loss: 1.4618 - precision_2: 0.7356 - recall_2: 0.3336 - val_accuracy: 0.7832 - val_f1_score: 0.7802 - val_loss: 0.8106 - val_precision_2: 0.9238 - val_recall_2: 0.5754\n",
            "Epoch 42/50\n",
            "\u001b[1m1056/1056\u001b[0m \u001b[32m━━━━━━━━━━━━━━━━━━━━\u001b[0m\u001b[37m\u001b[0m \u001b[1m4s\u001b[0m 4ms/step - accuracy: 0.5337 - f1_score: 0.5284 - loss: 1.4479 - precision_2: 0.7352 - recall_2: 0.3396 - val_accuracy: 0.7925 - val_f1_score: 0.7896 - val_loss: 0.7839 - val_precision_2: 0.9334 - val_recall_2: 0.5841\n",
            "Epoch 43/50\n",
            "\u001b[1m1056/1056\u001b[0m \u001b[32m━━━━━━━━━━━━━━━━━━━━\u001b[0m\u001b[37m\u001b[0m \u001b[1m5s\u001b[0m 3ms/step - accuracy: 0.5320 - f1_score: 0.5275 - loss: 1.4547 - precision_2: 0.7400 - recall_2: 0.3390 - val_accuracy: 0.7980 - val_f1_score: 0.7944 - val_loss: 0.7892 - val_precision_2: 0.9376 - val_recall_2: 0.5993\n",
            "Epoch 44/50\n",
            "\u001b[1m1056/1056\u001b[0m \u001b[32m━━━━━━━━━━━━━━━━━━━━\u001b[0m\u001b[37m\u001b[0m \u001b[1m5s\u001b[0m 4ms/step - accuracy: 0.5335 - f1_score: 0.5281 - loss: 1.4352 - precision_2: 0.7284 - recall_2: 0.3442 - val_accuracy: 0.7875 - val_f1_score: 0.7849 - val_loss: 0.7860 - val_precision_2: 0.9362 - val_recall_2: 0.5889\n",
            "Epoch 45/50\n",
            "\u001b[1m1056/1056\u001b[0m \u001b[32m━━━━━━━━━━━━━━━━━━━━\u001b[0m\u001b[37m\u001b[0m \u001b[1m5s\u001b[0m 4ms/step - accuracy: 0.5359 - f1_score: 0.5307 - loss: 1.4383 - precision_2: 0.7408 - recall_2: 0.3495 - val_accuracy: 0.7954 - val_f1_score: 0.7910 - val_loss: 0.7688 - val_precision_2: 0.9393 - val_recall_2: 0.5940\n",
            "Epoch 46/50\n",
            "\u001b[1m1056/1056\u001b[0m \u001b[32m━━━━━━━━━━━━━━━━━━━━\u001b[0m\u001b[37m\u001b[0m \u001b[1m4s\u001b[0m 3ms/step - accuracy: 0.5337 - f1_score: 0.5286 - loss: 1.4336 - precision_2: 0.7355 - recall_2: 0.3480 - val_accuracy: 0.8031 - val_f1_score: 0.7997 - val_loss: 0.7638 - val_precision_2: 0.9318 - val_recall_2: 0.6026\n",
            "Epoch 47/50\n",
            "\u001b[1m1056/1056\u001b[0m \u001b[32m━━━━━━━━━━━━━━━━━━━━\u001b[0m\u001b[37m\u001b[0m \u001b[1m4s\u001b[0m 4ms/step - accuracy: 0.5454 - f1_score: 0.5407 - loss: 1.4088 - precision_2: 0.7434 - recall_2: 0.3563 - val_accuracy: 0.7987 - val_f1_score: 0.7951 - val_loss: 0.7671 - val_precision_2: 0.9447 - val_recall_2: 0.5977\n",
            "Epoch 48/50\n",
            "\u001b[1m1056/1056\u001b[0m \u001b[32m━━━━━━━━━━━━━━━━━━━━\u001b[0m\u001b[37m\u001b[0m \u001b[1m4s\u001b[0m 4ms/step - accuracy: 0.5402 - f1_score: 0.5346 - loss: 1.4288 - precision_2: 0.7368 - recall_2: 0.3499 - val_accuracy: 0.8013 - val_f1_score: 0.7980 - val_loss: 0.7712 - val_precision_2: 0.9367 - val_recall_2: 0.5890\n",
            "Epoch 49/50\n",
            "\u001b[1m1056/1056\u001b[0m \u001b[32m━━━━━━━━━━━━━━━━━━━━\u001b[0m\u001b[37m\u001b[0m \u001b[1m5s\u001b[0m 4ms/step - accuracy: 0.5445 - f1_score: 0.5392 - loss: 1.4158 - precision_2: 0.7436 - recall_2: 0.3594 - val_accuracy: 0.8074 - val_f1_score: 0.8049 - val_loss: 0.7436 - val_precision_2: 0.9420 - val_recall_2: 0.6042\n",
            "Epoch 50/50\n",
            "\u001b[1m1056/1056\u001b[0m \u001b[32m━━━━━━━━━━━━━━━━━━━━\u001b[0m\u001b[37m\u001b[0m \u001b[1m6s\u001b[0m 5ms/step - accuracy: 0.5403 - f1_score: 0.5349 - loss: 1.4204 - precision_2: 0.7407 - recall_2: 0.3554 - val_accuracy: 0.8087 - val_f1_score: 0.8062 - val_loss: 0.7513 - val_precision_2: 0.9343 - val_recall_2: 0.6003\n"
          ]
        }
      ],
      "source": [
        "result1=model1.fit(x_train,y_train,epochs=50,validation_split=.2,batch_size=50,verbose=1)"
      ]
    },
    {
      "cell_type": "code",
      "execution_count": null,
      "metadata": {
        "colab": {
          "base_uri": "https://localhost:8080/"
        },
        "collapsed": true,
        "id": "lJFSpsgLB93P",
        "outputId": "9408aa67-5a4b-4dbc-a764-db2dab9aefd7"
      },
      "outputs": [
        {
          "name": "stdout",
          "output_type": "stream",
          "text": [
            "Epoch 1/50\n",
            "\u001b[1m11/11\u001b[0m \u001b[32m━━━━━━━━━━━━━━━━━━━━\u001b[0m\u001b[37m\u001b[0m \u001b[1m0s\u001b[0m 42ms/step - accuracy: 0.5440 - f1_score: 0.5393 - loss: 1.4130 - precision_2: 0.7433 - recall_2: 0.3558 - val_accuracy: 0.8106 - val_f1_score: 0.8086 - val_loss: 0.7519 - val_precision_2: 0.9365 - val_recall_2: 0.5976\n",
            "Epoch 2/50\n",
            "\u001b[1m11/11\u001b[0m \u001b[32m━━━━━━━━━━━━━━━━━━━━\u001b[0m\u001b[37m\u001b[0m \u001b[1m0s\u001b[0m 37ms/step - accuracy: 0.5459 - f1_score: 0.5408 - loss: 1.4078 - precision_2: 0.7482 - recall_2: 0.3585 - val_accuracy: 0.8144 - val_f1_score: 0.8122 - val_loss: 0.7468 - val_precision_2: 0.9372 - val_recall_2: 0.6039\n",
            "Epoch 3/50\n",
            "\u001b[1m11/11\u001b[0m \u001b[32m━━━━━━━━━━━━━━━━━━━━\u001b[0m\u001b[37m\u001b[0m \u001b[1m0s\u001b[0m 36ms/step - accuracy: 0.5461 - f1_score: 0.5416 - loss: 1.4070 - precision_2: 0.7443 - recall_2: 0.3555 - val_accuracy: 0.8152 - val_f1_score: 0.8132 - val_loss: 0.7413 - val_precision_2: 0.9384 - val_recall_2: 0.6091\n",
            "Epoch 4/50\n",
            "\u001b[1m11/11\u001b[0m \u001b[32m━━━━━━━━━━━━━━━━━━━━\u001b[0m\u001b[37m\u001b[0m \u001b[1m0s\u001b[0m 31ms/step - accuracy: 0.5501 - f1_score: 0.5459 - loss: 1.3922 - precision_2: 0.7500 - recall_2: 0.3604 - val_accuracy: 0.8153 - val_f1_score: 0.8133 - val_loss: 0.7368 - val_precision_2: 0.9407 - val_recall_2: 0.6141\n",
            "Epoch 5/50\n",
            "\u001b[1m11/11\u001b[0m \u001b[32m━━━━━━━━━━━━━━━━━━━━\u001b[0m\u001b[37m\u001b[0m \u001b[1m0s\u001b[0m 37ms/step - accuracy: 0.5492 - f1_score: 0.5444 - loss: 1.4078 - precision_2: 0.7478 - recall_2: 0.3606 - val_accuracy: 0.8156 - val_f1_score: 0.8136 - val_loss: 0.7339 - val_precision_2: 0.9407 - val_recall_2: 0.6169\n",
            "Epoch 6/50\n",
            "\u001b[1m11/11\u001b[0m \u001b[32m━━━━━━━━━━━━━━━━━━━━\u001b[0m\u001b[37m\u001b[0m \u001b[1m1s\u001b[0m 35ms/step - accuracy: 0.5508 - f1_score: 0.5457 - loss: 1.3918 - precision_2: 0.7550 - recall_2: 0.3621 - val_accuracy: 0.8146 - val_f1_score: 0.8126 - val_loss: 0.7312 - val_precision_2: 0.9417 - val_recall_2: 0.6186\n",
            "Epoch 7/50\n",
            "\u001b[1m11/11\u001b[0m \u001b[32m━━━━━━━━━━━━━━━━━━━━\u001b[0m\u001b[37m\u001b[0m \u001b[1m0s\u001b[0m 33ms/step - accuracy: 0.5524 - f1_score: 0.5477 - loss: 1.3954 - precision_2: 0.7520 - recall_2: 0.3626 - val_accuracy: 0.8143 - val_f1_score: 0.8123 - val_loss: 0.7290 - val_precision_2: 0.9422 - val_recall_2: 0.6207\n",
            "Epoch 8/50\n",
            "\u001b[1m11/11\u001b[0m \u001b[32m━━━━━━━━━━━━━━━━━━━━\u001b[0m\u001b[37m\u001b[0m \u001b[1m0s\u001b[0m 34ms/step - accuracy: 0.5488 - f1_score: 0.5439 - loss: 1.3921 - precision_2: 0.7528 - recall_2: 0.3627 - val_accuracy: 0.8148 - val_f1_score: 0.8128 - val_loss: 0.7271 - val_precision_2: 0.9426 - val_recall_2: 0.6230\n",
            "Epoch 9/50\n",
            "\u001b[1m11/11\u001b[0m \u001b[32m━━━━━━━━━━━━━━━━━━━━\u001b[0m\u001b[37m\u001b[0m \u001b[1m1s\u001b[0m 37ms/step - accuracy: 0.5537 - f1_score: 0.5495 - loss: 1.3784 - precision_2: 0.7576 - recall_2: 0.3687 - val_accuracy: 0.8153 - val_f1_score: 0.8134 - val_loss: 0.7253 - val_precision_2: 0.9429 - val_recall_2: 0.6244\n",
            "Epoch 10/50\n",
            "\u001b[1m11/11\u001b[0m \u001b[32m━━━━━━━━━━━━━━━━━━━━\u001b[0m\u001b[37m\u001b[0m \u001b[1m1s\u001b[0m 31ms/step - accuracy: 0.5510 - f1_score: 0.5461 - loss: 1.3955 - precision_2: 0.7434 - recall_2: 0.3635 - val_accuracy: 0.8153 - val_f1_score: 0.8133 - val_loss: 0.7240 - val_precision_2: 0.9438 - val_recall_2: 0.6252\n",
            "Epoch 11/50\n",
            "\u001b[1m11/11\u001b[0m \u001b[32m━━━━━━━━━━━━━━━━━━━━\u001b[0m\u001b[37m\u001b[0m \u001b[1m1s\u001b[0m 34ms/step - accuracy: 0.5507 - f1_score: 0.5459 - loss: 1.3855 - precision_2: 0.7554 - recall_2: 0.3627 - val_accuracy: 0.8162 - val_f1_score: 0.8142 - val_loss: 0.7229 - val_precision_2: 0.9441 - val_recall_2: 0.6252\n",
            "Epoch 12/50\n",
            "\u001b[1m11/11\u001b[0m \u001b[32m━━━━━━━━━━━━━━━━━━━━\u001b[0m\u001b[37m\u001b[0m \u001b[1m0s\u001b[0m 33ms/step - accuracy: 0.5547 - f1_score: 0.5500 - loss: 1.3781 - precision_2: 0.7574 - recall_2: 0.3667 - val_accuracy: 0.8170 - val_f1_score: 0.8152 - val_loss: 0.7216 - val_precision_2: 0.9441 - val_recall_2: 0.6259\n",
            "Epoch 13/50\n",
            "\u001b[1m11/11\u001b[0m \u001b[32m━━━━━━━━━━━━━━━━━━━━\u001b[0m\u001b[37m\u001b[0m \u001b[1m1s\u001b[0m 34ms/step - accuracy: 0.5598 - f1_score: 0.5554 - loss: 1.3785 - precision_2: 0.7540 - recall_2: 0.3680 - val_accuracy: 0.8172 - val_f1_score: 0.8153 - val_loss: 0.7203 - val_precision_2: 0.9445 - val_recall_2: 0.6256\n",
            "Epoch 14/50\n",
            "\u001b[1m11/11\u001b[0m \u001b[32m━━━━━━━━━━━━━━━━━━━━\u001b[0m\u001b[37m\u001b[0m \u001b[1m0s\u001b[0m 31ms/step - accuracy: 0.5575 - f1_score: 0.5524 - loss: 1.3719 - precision_2: 0.7612 - recall_2: 0.3699 - val_accuracy: 0.8185 - val_f1_score: 0.8167 - val_loss: 0.7190 - val_precision_2: 0.9453 - val_recall_2: 0.6263\n",
            "Epoch 15/50\n",
            "\u001b[1m11/11\u001b[0m \u001b[32m━━━━━━━━━━━━━━━━━━━━\u001b[0m\u001b[37m\u001b[0m \u001b[1m0s\u001b[0m 37ms/step - accuracy: 0.5562 - f1_score: 0.5521 - loss: 1.3830 - precision_2: 0.7575 - recall_2: 0.3695 - val_accuracy: 0.8185 - val_f1_score: 0.8164 - val_loss: 0.7184 - val_precision_2: 0.9456 - val_recall_2: 0.6266\n",
            "Epoch 16/50\n",
            "\u001b[1m11/11\u001b[0m \u001b[32m━━━━━━━━━━━━━━━━━━━━\u001b[0m\u001b[37m\u001b[0m \u001b[1m0s\u001b[0m 40ms/step - accuracy: 0.5572 - f1_score: 0.5518 - loss: 1.3823 - precision_2: 0.7602 - recall_2: 0.3684 - val_accuracy: 0.8180 - val_f1_score: 0.8159 - val_loss: 0.7179 - val_precision_2: 0.9457 - val_recall_2: 0.6266\n",
            "Epoch 17/50\n",
            "\u001b[1m11/11\u001b[0m \u001b[32m━━━━━━━━━━━━━━━━━━━━\u001b[0m\u001b[37m\u001b[0m \u001b[1m1s\u001b[0m 36ms/step - accuracy: 0.5538 - f1_score: 0.5493 - loss: 1.3863 - precision_2: 0.7534 - recall_2: 0.3698 - val_accuracy: 0.8187 - val_f1_score: 0.8166 - val_loss: 0.7173 - val_precision_2: 0.9458 - val_recall_2: 0.6270\n",
            "Epoch 18/50\n",
            "\u001b[1m11/11\u001b[0m \u001b[32m━━━━━━━━━━━━━━━━━━━━\u001b[0m\u001b[37m\u001b[0m \u001b[1m1s\u001b[0m 37ms/step - accuracy: 0.5607 - f1_score: 0.5567 - loss: 1.3652 - precision_2: 0.7605 - recall_2: 0.3688 - val_accuracy: 0.8194 - val_f1_score: 0.8173 - val_loss: 0.7160 - val_precision_2: 0.9459 - val_recall_2: 0.6276\n",
            "Epoch 19/50\n",
            "\u001b[1m11/11\u001b[0m \u001b[32m━━━━━━━━━━━━━━━━━━━━\u001b[0m\u001b[37m\u001b[0m \u001b[1m1s\u001b[0m 56ms/step - accuracy: 0.5575 - f1_score: 0.5526 - loss: 1.3715 - precision_2: 0.7597 - recall_2: 0.3707 - val_accuracy: 0.8203 - val_f1_score: 0.8180 - val_loss: 0.7148 - val_precision_2: 0.9464 - val_recall_2: 0.6278\n",
            "Epoch 20/50\n",
            "\u001b[1m11/11\u001b[0m \u001b[32m━━━━━━━━━━━━━━━━━━━━\u001b[0m\u001b[37m\u001b[0m \u001b[1m1s\u001b[0m 54ms/step - accuracy: 0.5612 - f1_score: 0.5564 - loss: 1.3733 - precision_2: 0.7588 - recall_2: 0.3717 - val_accuracy: 0.8205 - val_f1_score: 0.8182 - val_loss: 0.7141 - val_precision_2: 0.9468 - val_recall_2: 0.6279\n",
            "Epoch 21/50\n",
            "\u001b[1m11/11\u001b[0m \u001b[32m━━━━━━━━━━━━━━━━━━━━\u001b[0m\u001b[37m\u001b[0m \u001b[1m1s\u001b[0m 57ms/step - accuracy: 0.5554 - f1_score: 0.5508 - loss: 1.3773 - precision_2: 0.7578 - recall_2: 0.3695 - val_accuracy: 0.8204 - val_f1_score: 0.8181 - val_loss: 0.7137 - val_precision_2: 0.9465 - val_recall_2: 0.6291\n",
            "Epoch 22/50\n",
            "\u001b[1m11/11\u001b[0m \u001b[32m━━━━━━━━━━━━━━━━━━━━\u001b[0m\u001b[37m\u001b[0m \u001b[1m1s\u001b[0m 32ms/step - accuracy: 0.5597 - f1_score: 0.5553 - loss: 1.3646 - precision_2: 0.7588 - recall_2: 0.3712 - val_accuracy: 0.8204 - val_f1_score: 0.8182 - val_loss: 0.7129 - val_precision_2: 0.9463 - val_recall_2: 0.6291\n",
            "Epoch 23/50\n",
            "\u001b[1m11/11\u001b[0m \u001b[32m━━━━━━━━━━━━━━━━━━━━\u001b[0m\u001b[37m\u001b[0m \u001b[1m1s\u001b[0m 38ms/step - accuracy: 0.5613 - f1_score: 0.5562 - loss: 1.3722 - precision_2: 0.7582 - recall_2: 0.3679 - val_accuracy: 0.8203 - val_f1_score: 0.8181 - val_loss: 0.7122 - val_precision_2: 0.9466 - val_recall_2: 0.6302\n",
            "Epoch 24/50\n",
            "\u001b[1m11/11\u001b[0m \u001b[32m━━━━━━━━━━━━━━━━━━━━\u001b[0m\u001b[37m\u001b[0m \u001b[1m1s\u001b[0m 32ms/step - accuracy: 0.5566 - f1_score: 0.5516 - loss: 1.3680 - precision_2: 0.7568 - recall_2: 0.3684 - val_accuracy: 0.8209 - val_f1_score: 0.8186 - val_loss: 0.7114 - val_precision_2: 0.9479 - val_recall_2: 0.6312\n",
            "Epoch 25/50\n",
            "\u001b[1m11/11\u001b[0m \u001b[32m━━━━━━━━━━━━━━━━━━━━\u001b[0m\u001b[37m\u001b[0m \u001b[1m1s\u001b[0m 32ms/step - accuracy: 0.5581 - f1_score: 0.5536 - loss: 1.3767 - precision_2: 0.7573 - recall_2: 0.3668 - val_accuracy: 0.8218 - val_f1_score: 0.8193 - val_loss: 0.7106 - val_precision_2: 0.9484 - val_recall_2: 0.6317\n",
            "Epoch 26/50\n",
            "\u001b[1m11/11\u001b[0m \u001b[32m━━━━━━━━━━━━━━━━━━━━\u001b[0m\u001b[37m\u001b[0m \u001b[1m1s\u001b[0m 34ms/step - accuracy: 0.5627 - f1_score: 0.5581 - loss: 1.3655 - precision_2: 0.7616 - recall_2: 0.3738 - val_accuracy: 0.8219 - val_f1_score: 0.8194 - val_loss: 0.7098 - val_precision_2: 0.9492 - val_recall_2: 0.6334\n",
            "Epoch 27/50\n",
            "\u001b[1m11/11\u001b[0m \u001b[32m━━━━━━━━━━━━━━━━━━━━\u001b[0m\u001b[37m\u001b[0m \u001b[1m0s\u001b[0m 32ms/step - accuracy: 0.5570 - f1_score: 0.5521 - loss: 1.3718 - precision_2: 0.7566 - recall_2: 0.3732 - val_accuracy: 0.8219 - val_f1_score: 0.8193 - val_loss: 0.7097 - val_precision_2: 0.9487 - val_recall_2: 0.6336\n",
            "Epoch 28/50\n",
            "\u001b[1m11/11\u001b[0m \u001b[32m━━━━━━━━━━━━━━━━━━━━\u001b[0m\u001b[37m\u001b[0m \u001b[1m0s\u001b[0m 32ms/step - accuracy: 0.5586 - f1_score: 0.5529 - loss: 1.3735 - precision_2: 0.7539 - recall_2: 0.3679 - val_accuracy: 0.8228 - val_f1_score: 0.8203 - val_loss: 0.7096 - val_precision_2: 0.9491 - val_recall_2: 0.6329\n",
            "Epoch 29/50\n",
            "\u001b[1m11/11\u001b[0m \u001b[32m━━━━━━━━━━━━━━━━━━━━\u001b[0m\u001b[37m\u001b[0m \u001b[1m0s\u001b[0m 36ms/step - accuracy: 0.5622 - f1_score: 0.5571 - loss: 1.3608 - precision_2: 0.7617 - recall_2: 0.3713 - val_accuracy: 0.8234 - val_f1_score: 0.8209 - val_loss: 0.7093 - val_precision_2: 0.9481 - val_recall_2: 0.6324\n",
            "Epoch 30/50\n",
            "\u001b[1m11/11\u001b[0m \u001b[32m━━━━━━━━━━━━━━━━━━━━\u001b[0m\u001b[37m\u001b[0m \u001b[1m0s\u001b[0m 31ms/step - accuracy: 0.5589 - f1_score: 0.5542 - loss: 1.3715 - precision_2: 0.7545 - recall_2: 0.3679 - val_accuracy: 0.8236 - val_f1_score: 0.8210 - val_loss: 0.7087 - val_precision_2: 0.9477 - val_recall_2: 0.6320\n",
            "Epoch 31/50\n",
            "\u001b[1m11/11\u001b[0m \u001b[32m━━━━━━━━━━━━━━━━━━━━\u001b[0m\u001b[37m\u001b[0m \u001b[1m0s\u001b[0m 32ms/step - accuracy: 0.5604 - f1_score: 0.5554 - loss: 1.3643 - precision_2: 0.7615 - recall_2: 0.3718 - val_accuracy: 0.8231 - val_f1_score: 0.8207 - val_loss: 0.7077 - val_precision_2: 0.9487 - val_recall_2: 0.6326\n",
            "Epoch 32/50\n",
            "\u001b[1m11/11\u001b[0m \u001b[32m━━━━━━━━━━━━━━━━━━━━\u001b[0m\u001b[37m\u001b[0m \u001b[1m1s\u001b[0m 40ms/step - accuracy: 0.5610 - f1_score: 0.5563 - loss: 1.3690 - precision_2: 0.7612 - recall_2: 0.3721 - val_accuracy: 0.8230 - val_f1_score: 0.8207 - val_loss: 0.7069 - val_precision_2: 0.9495 - val_recall_2: 0.6330\n",
            "Epoch 33/50\n",
            "\u001b[1m11/11\u001b[0m \u001b[32m━━━━━━━━━━━━━━━━━━━━\u001b[0m\u001b[37m\u001b[0m \u001b[1m1s\u001b[0m 37ms/step - accuracy: 0.5592 - f1_score: 0.5541 - loss: 1.3686 - precision_2: 0.7586 - recall_2: 0.3739 - val_accuracy: 0.8237 - val_f1_score: 0.8214 - val_loss: 0.7063 - val_precision_2: 0.9488 - val_recall_2: 0.6335\n",
            "Epoch 34/50\n",
            "\u001b[1m11/11\u001b[0m \u001b[32m━━━━━━━━━━━━━━━━━━━━\u001b[0m\u001b[37m\u001b[0m \u001b[1m0s\u001b[0m 32ms/step - accuracy: 0.5596 - f1_score: 0.5551 - loss: 1.3679 - precision_2: 0.7560 - recall_2: 0.3740 - val_accuracy: 0.8234 - val_f1_score: 0.8210 - val_loss: 0.7058 - val_precision_2: 0.9481 - val_recall_2: 0.6335\n",
            "Epoch 35/50\n",
            "\u001b[1m11/11\u001b[0m \u001b[32m━━━━━━━━━━━━━━━━━━━━\u001b[0m\u001b[37m\u001b[0m \u001b[1m0s\u001b[0m 38ms/step - accuracy: 0.5636 - f1_score: 0.5594 - loss: 1.3610 - precision_2: 0.7655 - recall_2: 0.3735 - val_accuracy: 0.8232 - val_f1_score: 0.8209 - val_loss: 0.7057 - val_precision_2: 0.9480 - val_recall_2: 0.6336\n",
            "Epoch 36/50\n",
            "\u001b[1m11/11\u001b[0m \u001b[32m━━━━━━━━━━━━━━━━━━━━\u001b[0m\u001b[37m\u001b[0m \u001b[1m1s\u001b[0m 36ms/step - accuracy: 0.5619 - f1_score: 0.5579 - loss: 1.3709 - precision_2: 0.7570 - recall_2: 0.3706 - val_accuracy: 0.8243 - val_f1_score: 0.8220 - val_loss: 0.7057 - val_precision_2: 0.9486 - val_recall_2: 0.6348\n",
            "Epoch 37/50\n",
            "\u001b[1m11/11\u001b[0m \u001b[32m━━━━━━━━━━━━━━━━━━━━\u001b[0m\u001b[37m\u001b[0m \u001b[1m1s\u001b[0m 45ms/step - accuracy: 0.5602 - f1_score: 0.5556 - loss: 1.3671 - precision_2: 0.7592 - recall_2: 0.3714 - val_accuracy: 0.8244 - val_f1_score: 0.8220 - val_loss: 0.7057 - val_precision_2: 0.9487 - val_recall_2: 0.6356\n",
            "Epoch 38/50\n",
            "\u001b[1m11/11\u001b[0m \u001b[32m━━━━━━━━━━━━━━━━━━━━\u001b[0m\u001b[37m\u001b[0m \u001b[1m0s\u001b[0m 33ms/step - accuracy: 0.5606 - f1_score: 0.5554 - loss: 1.3683 - precision_2: 0.7616 - recall_2: 0.3730 - val_accuracy: 0.8253 - val_f1_score: 0.8230 - val_loss: 0.7057 - val_precision_2: 0.9485 - val_recall_2: 0.6358\n",
            "Epoch 39/50\n",
            "\u001b[1m11/11\u001b[0m \u001b[32m━━━━━━━━━━━━━━━━━━━━\u001b[0m\u001b[37m\u001b[0m \u001b[1m0s\u001b[0m 37ms/step - accuracy: 0.5558 - f1_score: 0.5510 - loss: 1.3764 - precision_2: 0.7587 - recall_2: 0.3676 - val_accuracy: 0.8258 - val_f1_score: 0.8236 - val_loss: 0.7063 - val_precision_2: 0.9483 - val_recall_2: 0.6343\n",
            "Epoch 40/50\n",
            "\u001b[1m11/11\u001b[0m \u001b[32m━━━━━━━━━━━━━━━━━━━━\u001b[0m\u001b[37m\u001b[0m \u001b[1m1s\u001b[0m 36ms/step - accuracy: 0.5639 - f1_score: 0.5591 - loss: 1.3554 - precision_2: 0.7637 - recall_2: 0.3767 - val_accuracy: 0.8266 - val_f1_score: 0.8242 - val_loss: 0.7061 - val_precision_2: 0.9481 - val_recall_2: 0.6339\n",
            "Epoch 41/50\n",
            "\u001b[1m11/11\u001b[0m \u001b[32m━━━━━━━━━━━━━━━━━━━━\u001b[0m\u001b[37m\u001b[0m \u001b[1m1s\u001b[0m 55ms/step - accuracy: 0.5652 - f1_score: 0.5610 - loss: 1.3527 - precision_2: 0.7651 - recall_2: 0.3763 - val_accuracy: 0.8252 - val_f1_score: 0.8226 - val_loss: 0.7056 - val_precision_2: 0.9485 - val_recall_2: 0.6345\n",
            "Epoch 42/50\n",
            "\u001b[1m11/11\u001b[0m \u001b[32m━━━━━━━━━━━━━━━━━━━━\u001b[0m\u001b[37m\u001b[0m \u001b[1m1s\u001b[0m 59ms/step - accuracy: 0.5618 - f1_score: 0.5566 - loss: 1.3645 - precision_2: 0.7626 - recall_2: 0.3742 - val_accuracy: 0.8266 - val_f1_score: 0.8241 - val_loss: 0.7051 - val_precision_2: 0.9480 - val_recall_2: 0.6344\n",
            "Epoch 43/50\n",
            "\u001b[1m11/11\u001b[0m \u001b[32m━━━━━━━━━━━━━━━━━━━━\u001b[0m\u001b[37m\u001b[0m \u001b[1m1s\u001b[0m 59ms/step - accuracy: 0.5628 - f1_score: 0.5578 - loss: 1.3553 - precision_2: 0.7628 - recall_2: 0.3737 - val_accuracy: 0.8258 - val_f1_score: 0.8232 - val_loss: 0.7047 - val_precision_2: 0.9489 - val_recall_2: 0.6346\n",
            "Epoch 44/50\n",
            "\u001b[1m11/11\u001b[0m \u001b[32m━━━━━━━━━━━━━━━━━━━━\u001b[0m\u001b[37m\u001b[0m \u001b[1m1s\u001b[0m 35ms/step - accuracy: 0.5592 - f1_score: 0.5545 - loss: 1.3651 - precision_2: 0.7554 - recall_2: 0.3735 - val_accuracy: 0.8261 - val_f1_score: 0.8235 - val_loss: 0.7045 - val_precision_2: 0.9495 - val_recall_2: 0.6342\n",
            "Epoch 45/50\n",
            "\u001b[1m11/11\u001b[0m \u001b[32m━━━━━━━━━━━━━━━━━━━━\u001b[0m\u001b[37m\u001b[0m \u001b[1m0s\u001b[0m 37ms/step - accuracy: 0.5658 - f1_score: 0.5615 - loss: 1.3522 - precision_2: 0.7643 - recall_2: 0.3734 - val_accuracy: 0.8266 - val_f1_score: 0.8239 - val_loss: 0.7042 - val_precision_2: 0.9492 - val_recall_2: 0.6342\n",
            "Epoch 46/50\n",
            "\u001b[1m11/11\u001b[0m \u001b[32m━━━━━━━━━━━━━━━━━━━━\u001b[0m\u001b[37m\u001b[0m \u001b[1m1s\u001b[0m 37ms/step - accuracy: 0.5598 - f1_score: 0.5557 - loss: 1.3682 - precision_2: 0.7567 - recall_2: 0.3754 - val_accuracy: 0.8272 - val_f1_score: 0.8246 - val_loss: 0.7040 - val_precision_2: 0.9499 - val_recall_2: 0.6349\n",
            "Epoch 47/50\n",
            "\u001b[1m11/11\u001b[0m \u001b[32m━━━━━━━━━━━━━━━━━━━━\u001b[0m\u001b[37m\u001b[0m \u001b[1m0s\u001b[0m 34ms/step - accuracy: 0.5609 - f1_score: 0.5565 - loss: 1.3602 - precision_2: 0.7594 - recall_2: 0.3750 - val_accuracy: 0.8281 - val_f1_score: 0.8255 - val_loss: 0.7031 - val_precision_2: 0.9503 - val_recall_2: 0.6370\n",
            "Epoch 48/50\n",
            "\u001b[1m11/11\u001b[0m \u001b[32m━━━━━━━━━━━━━━━━━━━━\u001b[0m\u001b[37m\u001b[0m \u001b[1m1s\u001b[0m 39ms/step - accuracy: 0.5639 - f1_score: 0.5591 - loss: 1.3538 - precision_2: 0.7614 - recall_2: 0.3765 - val_accuracy: 0.8280 - val_f1_score: 0.8253 - val_loss: 0.7022 - val_precision_2: 0.9511 - val_recall_2: 0.6361\n",
            "Epoch 49/50\n",
            "\u001b[1m11/11\u001b[0m \u001b[32m━━━━━━━━━━━━━━━━━━━━\u001b[0m\u001b[37m\u001b[0m \u001b[1m0s\u001b[0m 36ms/step - accuracy: 0.5642 - f1_score: 0.5597 - loss: 1.3618 - precision_2: 0.7608 - recall_2: 0.3711 - val_accuracy: 0.8281 - val_f1_score: 0.8255 - val_loss: 0.7013 - val_precision_2: 0.9509 - val_recall_2: 0.6370\n",
            "Epoch 50/50\n",
            "\u001b[1m11/11\u001b[0m \u001b[32m━━━━━━━━━━━━━━━━━━━━\u001b[0m\u001b[37m\u001b[0m \u001b[1m0s\u001b[0m 39ms/step - accuracy: 0.5640 - f1_score: 0.5599 - loss: 1.3596 - precision_2: 0.7588 - recall_2: 0.3763 - val_accuracy: 0.8272 - val_f1_score: 0.8245 - val_loss: 0.7010 - val_precision_2: 0.9511 - val_recall_2: 0.6383\n"
          ]
        }
      ],
      "source": [
        "result1=model1.fit(x_train,y_train,epochs=50,validation_split=.2,batch_size=5000,verbose=1)"
      ]
    },
    {
      "cell_type": "code",
      "execution_count": null,
      "metadata": {
        "colab": {
          "base_uri": "https://localhost:8080/"
        },
        "collapsed": true,
        "id": "m_VzO5--CLez",
        "outputId": "2b9e6921-858c-4d3b-b7b1-b4cbf91d459c"
      },
      "outputs": [
        {
          "name": "stdout",
          "output_type": "stream",
          "text": [
            "Epoch 1/50\n",
            "\u001b[1m1294/1294\u001b[0m \u001b[32m━━━━━━━━━━━━━━━━━━━━\u001b[0m\u001b[37m\u001b[0m \u001b[1m4s\u001b[0m 3ms/step - accuracy: 0.5444 - f1_score: 0.5397 - loss: 1.4155 - precision_2: 0.7396 - recall_2: 0.3600 - val_accuracy: 0.8015 - val_f1_score: 0.7999 - val_loss: 0.7597 - val_precision_2: 0.9407 - val_recall_2: 0.6129\n",
            "Epoch 2/50\n",
            "\u001b[1m1294/1294\u001b[0m \u001b[32m━━━━━━━━━━━━━━━━━━━━\u001b[0m\u001b[37m\u001b[0m \u001b[1m5s\u001b[0m 4ms/step - accuracy: 0.5474 - f1_score: 0.5427 - loss: 1.4071 - precision_2: 0.7443 - recall_2: 0.3618 - val_accuracy: 0.8098 - val_f1_score: 0.8096 - val_loss: 0.7534 - val_precision_2: 0.9375 - val_recall_2: 0.6023\n",
            "Epoch 3/50\n",
            "\u001b[1m1294/1294\u001b[0m \u001b[32m━━━━━━━━━━━━━━━━━━━━\u001b[0m\u001b[37m\u001b[0m \u001b[1m4s\u001b[0m 3ms/step - accuracy: 0.5448 - f1_score: 0.5398 - loss: 1.4156 - precision_2: 0.7395 - recall_2: 0.3596 - val_accuracy: 0.8106 - val_f1_score: 0.8101 - val_loss: 0.7406 - val_precision_2: 0.9282 - val_recall_2: 0.6068\n",
            "Epoch 4/50\n",
            "\u001b[1m1294/1294\u001b[0m \u001b[32m━━━━━━━━━━━━━━━━━━━━\u001b[0m\u001b[37m\u001b[0m \u001b[1m6s\u001b[0m 3ms/step - accuracy: 0.5475 - f1_score: 0.5428 - loss: 1.4032 - precision_2: 0.7418 - recall_2: 0.3634 - val_accuracy: 0.8000 - val_f1_score: 0.7974 - val_loss: 0.7429 - val_precision_2: 0.9461 - val_recall_2: 0.6121\n",
            "Epoch 5/50\n",
            "\u001b[1m1294/1294\u001b[0m \u001b[32m━━━━━━━━━━━━━━━━━━━━\u001b[0m\u001b[37m\u001b[0m \u001b[1m5s\u001b[0m 3ms/step - accuracy: 0.5517 - f1_score: 0.5470 - loss: 1.3995 - precision_2: 0.7481 - recall_2: 0.3660 - val_accuracy: 0.8167 - val_f1_score: 0.8159 - val_loss: 0.7452 - val_precision_2: 0.9267 - val_recall_2: 0.6038\n",
            "Epoch 6/50\n",
            "\u001b[1m1294/1294\u001b[0m \u001b[32m━━━━━━━━━━━━━━━━━━━━\u001b[0m\u001b[37m\u001b[0m \u001b[1m5s\u001b[0m 3ms/step - accuracy: 0.5463 - f1_score: 0.5409 - loss: 1.4009 - precision_2: 0.7489 - recall_2: 0.3685 - val_accuracy: 0.8159 - val_f1_score: 0.8156 - val_loss: 0.7280 - val_precision_2: 0.9439 - val_recall_2: 0.6250\n",
            "Epoch 7/50\n",
            "\u001b[1m1294/1294\u001b[0m \u001b[32m━━━━━━━━━━━━━━━━━━━━\u001b[0m\u001b[37m\u001b[0m \u001b[1m5s\u001b[0m 4ms/step - accuracy: 0.5553 - f1_score: 0.5494 - loss: 1.3943 - precision_2: 0.7431 - recall_2: 0.3727 - val_accuracy: 0.8121 - val_f1_score: 0.8107 - val_loss: 0.7272 - val_precision_2: 0.9335 - val_recall_2: 0.6273\n",
            "Epoch 8/50\n",
            "\u001b[1m1294/1294\u001b[0m \u001b[32m━━━━━━━━━━━━━━━━━━━━\u001b[0m\u001b[37m\u001b[0m \u001b[1m4s\u001b[0m 3ms/step - accuracy: 0.5504 - f1_score: 0.5459 - loss: 1.3935 - precision_2: 0.7380 - recall_2: 0.3709 - val_accuracy: 0.8189 - val_f1_score: 0.8168 - val_loss: 0.7129 - val_precision_2: 0.9383 - val_recall_2: 0.6333\n",
            "Epoch 9/50\n",
            "\u001b[1m1294/1294\u001b[0m \u001b[32m━━━━━━━━━━━━━━━━━━━━\u001b[0m\u001b[37m\u001b[0m \u001b[1m4s\u001b[0m 3ms/step - accuracy: 0.5550 - f1_score: 0.5502 - loss: 1.3912 - precision_2: 0.7465 - recall_2: 0.3735 - val_accuracy: 0.8265 - val_f1_score: 0.8282 - val_loss: 0.7168 - val_precision_2: 0.9430 - val_recall_2: 0.6136\n",
            "Epoch 10/50\n",
            "\u001b[1m1294/1294\u001b[0m \u001b[32m━━━━━━━━━━━━━━━━━━━━\u001b[0m\u001b[37m\u001b[0m \u001b[1m7s\u001b[0m 4ms/step - accuracy: 0.5498 - f1_score: 0.5448 - loss: 1.3930 - precision_2: 0.7459 - recall_2: 0.3720 - val_accuracy: 0.8250 - val_f1_score: 0.8230 - val_loss: 0.7012 - val_precision_2: 0.9477 - val_recall_2: 0.6455\n",
            "Epoch 11/50\n",
            "\u001b[1m1294/1294\u001b[0m \u001b[32m━━━━━━━━━━━━━━━━━━━━\u001b[0m\u001b[37m\u001b[0m \u001b[1m4s\u001b[0m 3ms/step - accuracy: 0.5547 - f1_score: 0.5502 - loss: 1.3923 - precision_2: 0.7456 - recall_2: 0.3768 - val_accuracy: 0.8114 - val_f1_score: 0.8073 - val_loss: 0.7081 - val_precision_2: 0.9350 - val_recall_2: 0.6432\n",
            "Epoch 12/50\n",
            "\u001b[1m1294/1294\u001b[0m \u001b[32m━━━━━━━━━━━━━━━━━━━━\u001b[0m\u001b[37m\u001b[0m \u001b[1m4s\u001b[0m 3ms/step - accuracy: 0.5551 - f1_score: 0.5506 - loss: 1.3828 - precision_2: 0.7464 - recall_2: 0.3763 - val_accuracy: 0.8053 - val_f1_score: 0.8033 - val_loss: 0.7077 - val_precision_2: 0.9337 - val_recall_2: 0.6295\n",
            "Epoch 13/50\n",
            "\u001b[1m1294/1294\u001b[0m \u001b[32m━━━━━━━━━━━━━━━━━━━━\u001b[0m\u001b[37m\u001b[0m \u001b[1m7s\u001b[0m 4ms/step - accuracy: 0.5520 - f1_score: 0.5481 - loss: 1.3881 - precision_2: 0.7411 - recall_2: 0.3761 - val_accuracy: 0.8212 - val_f1_score: 0.8211 - val_loss: 0.7094 - val_precision_2: 0.9406 - val_recall_2: 0.6235\n",
            "Epoch 14/50\n",
            "\u001b[1m1294/1294\u001b[0m \u001b[32m━━━━━━━━━━━━━━━━━━━━\u001b[0m\u001b[37m\u001b[0m \u001b[1m4s\u001b[0m 3ms/step - accuracy: 0.5539 - f1_score: 0.5495 - loss: 1.3765 - precision_2: 0.7506 - recall_2: 0.3796 - val_accuracy: 0.8356 - val_f1_score: 0.8356 - val_loss: 0.7020 - val_precision_2: 0.9352 - val_recall_2: 0.6447\n",
            "Epoch 15/50\n",
            "\u001b[1m1294/1294\u001b[0m \u001b[32m━━━━━━━━━━━━━━━━━━━━\u001b[0m\u001b[37m\u001b[0m \u001b[1m5s\u001b[0m 3ms/step - accuracy: 0.5556 - f1_score: 0.5517 - loss: 1.3804 - precision_2: 0.7456 - recall_2: 0.3821 - val_accuracy: 0.8242 - val_f1_score: 0.8237 - val_loss: 0.6923 - val_precision_2: 0.9425 - val_recall_2: 0.6455\n",
            "Epoch 16/50\n",
            "\u001b[1m1294/1294\u001b[0m \u001b[32m━━━━━━━━━━━━━━━━━━━━\u001b[0m\u001b[37m\u001b[0m \u001b[1m6s\u001b[0m 4ms/step - accuracy: 0.5561 - f1_score: 0.5507 - loss: 1.3792 - precision_2: 0.7484 - recall_2: 0.3835 - val_accuracy: 0.8258 - val_f1_score: 0.8253 - val_loss: 0.6979 - val_precision_2: 0.9389 - val_recall_2: 0.6402\n",
            "Epoch 17/50\n",
            "\u001b[1m1294/1294\u001b[0m \u001b[32m━━━━━━━━━━━━━━━━━━━━\u001b[0m\u001b[37m\u001b[0m \u001b[1m4s\u001b[0m 3ms/step - accuracy: 0.5608 - f1_score: 0.5560 - loss: 1.3597 - precision_2: 0.7501 - recall_2: 0.3898 - val_accuracy: 0.8189 - val_f1_score: 0.8171 - val_loss: 0.6862 - val_precision_2: 0.9451 - val_recall_2: 0.6265\n",
            "Epoch 18/50\n",
            "\u001b[1m1294/1294\u001b[0m \u001b[32m━━━━━━━━━━━━━━━━━━━━\u001b[0m\u001b[37m\u001b[0m \u001b[1m6s\u001b[0m 3ms/step - accuracy: 0.5557 - f1_score: 0.5511 - loss: 1.3741 - precision_2: 0.7412 - recall_2: 0.3855 - val_accuracy: 0.8311 - val_f1_score: 0.8288 - val_loss: 0.6938 - val_precision_2: 0.9457 - val_recall_2: 0.6333\n",
            "Epoch 19/50\n",
            "\u001b[1m1294/1294\u001b[0m \u001b[32m━━━━━━━━━━━━━━━━━━━━\u001b[0m\u001b[37m\u001b[0m \u001b[1m5s\u001b[0m 3ms/step - accuracy: 0.5590 - f1_score: 0.5540 - loss: 1.3593 - precision_2: 0.7497 - recall_2: 0.3878 - val_accuracy: 0.8212 - val_f1_score: 0.8185 - val_loss: 0.6859 - val_precision_2: 0.9402 - val_recall_2: 0.6432\n",
            "Epoch 20/50\n",
            "\u001b[1m1294/1294\u001b[0m \u001b[32m━━━━━━━━━━━━━━━━━━━━\u001b[0m\u001b[37m\u001b[0m \u001b[1m5s\u001b[0m 3ms/step - accuracy: 0.5592 - f1_score: 0.5542 - loss: 1.3794 - precision_2: 0.7461 - recall_2: 0.3861 - val_accuracy: 0.8364 - val_f1_score: 0.8347 - val_loss: 0.6808 - val_precision_2: 0.9435 - val_recall_2: 0.6447\n",
            "Epoch 21/50\n",
            "\u001b[1m1294/1294\u001b[0m \u001b[32m━━━━━━━━━━━━━━━━━━━━\u001b[0m\u001b[37m\u001b[0m \u001b[1m5s\u001b[0m 4ms/step - accuracy: 0.5644 - f1_score: 0.5595 - loss: 1.3578 - precision_2: 0.7517 - recall_2: 0.3885 - val_accuracy: 0.8341 - val_f1_score: 0.8331 - val_loss: 0.6795 - val_precision_2: 0.9418 - val_recall_2: 0.6379\n",
            "Epoch 22/50\n",
            "\u001b[1m1294/1294\u001b[0m \u001b[32m━━━━━━━━━━━━━━━━━━━━\u001b[0m\u001b[37m\u001b[0m \u001b[1m9s\u001b[0m 3ms/step - accuracy: 0.5601 - f1_score: 0.5556 - loss: 1.3637 - precision_2: 0.7511 - recall_2: 0.3884 - val_accuracy: 0.8341 - val_f1_score: 0.8325 - val_loss: 0.6768 - val_precision_2: 0.9462 - val_recall_2: 0.6402\n",
            "Epoch 23/50\n",
            "\u001b[1m1294/1294\u001b[0m \u001b[32m━━━━━━━━━━━━━━━━━━━━\u001b[0m\u001b[37m\u001b[0m \u001b[1m7s\u001b[0m 4ms/step - accuracy: 0.5611 - f1_score: 0.5563 - loss: 1.3536 - precision_2: 0.7528 - recall_2: 0.3917 - val_accuracy: 0.8379 - val_f1_score: 0.8354 - val_loss: 0.6727 - val_precision_2: 0.9405 - val_recall_2: 0.6591\n",
            "Epoch 24/50\n",
            "\u001b[1m1294/1294\u001b[0m \u001b[32m━━━━━━━━━━━━━━━━━━━━\u001b[0m\u001b[37m\u001b[0m \u001b[1m9s\u001b[0m 3ms/step - accuracy: 0.5650 - f1_score: 0.5583 - loss: 1.3564 - precision_2: 0.7503 - recall_2: 0.3930 - val_accuracy: 0.8371 - val_f1_score: 0.8349 - val_loss: 0.6742 - val_precision_2: 0.9365 - val_recall_2: 0.6371\n",
            "Epoch 25/50\n",
            "\u001b[1m1294/1294\u001b[0m \u001b[32m━━━━━━━━━━━━━━━━━━━━\u001b[0m\u001b[37m\u001b[0m \u001b[1m6s\u001b[0m 4ms/step - accuracy: 0.5729 - f1_score: 0.5696 - loss: 1.3392 - precision_2: 0.7557 - recall_2: 0.3990 - val_accuracy: 0.8273 - val_f1_score: 0.8250 - val_loss: 0.6718 - val_precision_2: 0.9446 - val_recall_2: 0.6455\n",
            "Epoch 26/50\n",
            "\u001b[1m1294/1294\u001b[0m \u001b[32m━━━━━━━━━━━━━━━━━━━━\u001b[0m\u001b[37m\u001b[0m \u001b[1m4s\u001b[0m 3ms/step - accuracy: 0.5652 - f1_score: 0.5614 - loss: 1.3622 - precision_2: 0.7540 - recall_2: 0.3933 - val_accuracy: 0.8371 - val_f1_score: 0.8357 - val_loss: 0.6650 - val_precision_2: 0.9458 - val_recall_2: 0.6477\n",
            "Epoch 27/50\n",
            "\u001b[1m1294/1294\u001b[0m \u001b[32m━━━━━━━━━━━━━━━━━━━━\u001b[0m\u001b[37m\u001b[0m \u001b[1m4s\u001b[0m 3ms/step - accuracy: 0.5656 - f1_score: 0.5609 - loss: 1.3473 - precision_2: 0.7524 - recall_2: 0.3975 - val_accuracy: 0.8371 - val_f1_score: 0.8362 - val_loss: 0.6728 - val_precision_2: 0.9492 - val_recall_2: 0.6515\n",
            "Epoch 28/50\n",
            "\u001b[1m1294/1294\u001b[0m \u001b[32m━━━━━━━━━━━━━━━━━━━━\u001b[0m\u001b[37m\u001b[0m \u001b[1m5s\u001b[0m 4ms/step - accuracy: 0.5680 - f1_score: 0.5638 - loss: 1.3431 - precision_2: 0.7535 - recall_2: 0.3993 - val_accuracy: 0.8303 - val_f1_score: 0.8279 - val_loss: 0.6590 - val_precision_2: 0.9584 - val_recall_2: 0.6462\n",
            "Epoch 29/50\n",
            "\u001b[1m1294/1294\u001b[0m \u001b[32m━━━━━━━━━━━━━━━━━━━━\u001b[0m\u001b[37m\u001b[0m \u001b[1m4s\u001b[0m 3ms/step - accuracy: 0.5706 - f1_score: 0.5655 - loss: 1.3371 - precision_2: 0.7547 - recall_2: 0.4048 - val_accuracy: 0.8311 - val_f1_score: 0.8284 - val_loss: 0.6629 - val_precision_2: 0.9482 - val_recall_2: 0.6515\n",
            "Epoch 30/50\n",
            "\u001b[1m1294/1294\u001b[0m \u001b[32m━━━━━━━━━━━━━━━━━━━━\u001b[0m\u001b[37m\u001b[0m \u001b[1m5s\u001b[0m 3ms/step - accuracy: 0.5679 - f1_score: 0.5637 - loss: 1.3496 - precision_2: 0.7547 - recall_2: 0.4015 - val_accuracy: 0.8364 - val_f1_score: 0.8338 - val_loss: 0.6587 - val_precision_2: 0.9333 - val_recall_2: 0.6462\n",
            "Epoch 31/50\n",
            "\u001b[1m1294/1294\u001b[0m \u001b[32m━━━━━━━━━━━━━━━━━━━━\u001b[0m\u001b[37m\u001b[0m \u001b[1m5s\u001b[0m 3ms/step - accuracy: 0.5715 - f1_score: 0.5666 - loss: 1.3313 - precision_2: 0.7525 - recall_2: 0.4069 - val_accuracy: 0.8386 - val_f1_score: 0.8374 - val_loss: 0.6465 - val_precision_2: 0.9464 - val_recall_2: 0.6682\n",
            "Epoch 32/50\n",
            "\u001b[1m1294/1294\u001b[0m \u001b[32m━━━━━━━━━━━━━━━━━━━━\u001b[0m\u001b[37m\u001b[0m \u001b[1m4s\u001b[0m 3ms/step - accuracy: 0.5678 - f1_score: 0.5637 - loss: 1.3470 - precision_2: 0.7537 - recall_2: 0.3990 - val_accuracy: 0.8303 - val_f1_score: 0.8269 - val_loss: 0.6475 - val_precision_2: 0.9528 - val_recall_2: 0.6576\n",
            "Epoch 33/50\n",
            "\u001b[1m1294/1294\u001b[0m \u001b[32m━━━━━━━━━━━━━━━━━━━━\u001b[0m\u001b[37m\u001b[0m \u001b[1m5s\u001b[0m 3ms/step - accuracy: 0.5735 - f1_score: 0.5692 - loss: 1.3276 - precision_2: 0.7573 - recall_2: 0.4081 - val_accuracy: 0.8409 - val_f1_score: 0.8394 - val_loss: 0.6480 - val_precision_2: 0.9463 - val_recall_2: 0.6538\n",
            "Epoch 34/50\n",
            "\u001b[1m1294/1294\u001b[0m \u001b[32m━━━━━━━━━━━━━━━━━━━━\u001b[0m\u001b[37m\u001b[0m \u001b[1m5s\u001b[0m 4ms/step - accuracy: 0.5742 - f1_score: 0.5696 - loss: 1.3256 - precision_2: 0.7613 - recall_2: 0.4094 - val_accuracy: 0.8333 - val_f1_score: 0.8321 - val_loss: 0.6381 - val_precision_2: 0.9462 - val_recall_2: 0.6659\n",
            "Epoch 35/50\n",
            "\u001b[1m1294/1294\u001b[0m \u001b[32m━━━━━━━━━━━━━━━━━━━━\u001b[0m\u001b[37m\u001b[0m \u001b[1m4s\u001b[0m 3ms/step - accuracy: 0.5732 - f1_score: 0.5686 - loss: 1.3195 - precision_2: 0.7534 - recall_2: 0.4095 - val_accuracy: 0.8386 - val_f1_score: 0.8364 - val_loss: 0.6389 - val_precision_2: 0.9406 - val_recall_2: 0.6712\n",
            "Epoch 36/50\n",
            "\u001b[1m1294/1294\u001b[0m \u001b[32m━━━━━━━━━━━━━━━━━━━━\u001b[0m\u001b[37m\u001b[0m \u001b[1m5s\u001b[0m 3ms/step - accuracy: 0.5730 - f1_score: 0.5694 - loss: 1.3333 - precision_2: 0.7539 - recall_2: 0.4058 - val_accuracy: 0.8424 - val_f1_score: 0.8411 - val_loss: 0.6355 - val_precision_2: 0.9435 - val_recall_2: 0.6705\n",
            "Epoch 37/50\n",
            "\u001b[1m1294/1294\u001b[0m \u001b[32m━━━━━━━━━━━━━━━━━━━━\u001b[0m\u001b[37m\u001b[0m \u001b[1m5s\u001b[0m 4ms/step - accuracy: 0.5734 - f1_score: 0.5687 - loss: 1.3230 - precision_2: 0.7553 - recall_2: 0.4090 - val_accuracy: 0.8333 - val_f1_score: 0.8315 - val_loss: 0.6352 - val_precision_2: 0.9473 - val_recall_2: 0.6667\n",
            "Epoch 38/50\n",
            "\u001b[1m1294/1294\u001b[0m \u001b[32m━━━━━━━━━━━━━━━━━━━━\u001b[0m\u001b[37m\u001b[0m \u001b[1m4s\u001b[0m 3ms/step - accuracy: 0.5782 - f1_score: 0.5739 - loss: 1.3229 - precision_2: 0.7561 - recall_2: 0.4116 - val_accuracy: 0.8424 - val_f1_score: 0.8417 - val_loss: 0.6237 - val_precision_2: 0.9587 - val_recall_2: 0.6682\n",
            "Epoch 39/50\n",
            "\u001b[1m1294/1294\u001b[0m \u001b[32m━━━━━━━━━━━━━━━━━━━━\u001b[0m\u001b[37m\u001b[0m \u001b[1m5s\u001b[0m 4ms/step - accuracy: 0.5794 - f1_score: 0.5753 - loss: 1.3221 - precision_2: 0.7591 - recall_2: 0.4108 - val_accuracy: 0.8409 - val_f1_score: 0.8394 - val_loss: 0.6339 - val_precision_2: 0.9411 - val_recall_2: 0.6652\n",
            "Epoch 40/50\n",
            "\u001b[1m1294/1294\u001b[0m \u001b[32m━━━━━━━━━━━━━━━━━━━━\u001b[0m\u001b[37m\u001b[0m \u001b[1m4s\u001b[0m 3ms/step - accuracy: 0.5744 - f1_score: 0.5705 - loss: 1.3308 - precision_2: 0.7537 - recall_2: 0.4105 - val_accuracy: 0.8356 - val_f1_score: 0.8328 - val_loss: 0.6359 - val_precision_2: 0.9449 - val_recall_2: 0.6750\n",
            "Epoch 41/50\n",
            "\u001b[1m1294/1294\u001b[0m \u001b[32m━━━━━━━━━━━━━━━━━━━━\u001b[0m\u001b[37m\u001b[0m \u001b[1m5s\u001b[0m 3ms/step - accuracy: 0.5720 - f1_score: 0.5680 - loss: 1.3357 - precision_2: 0.7577 - recall_2: 0.4095 - val_accuracy: 0.8477 - val_f1_score: 0.8482 - val_loss: 0.6209 - val_precision_2: 0.9494 - val_recall_2: 0.6818\n",
            "Epoch 42/50\n",
            "\u001b[1m1294/1294\u001b[0m \u001b[32m━━━━━━━━━━━━━━━━━━━━\u001b[0m\u001b[37m\u001b[0m \u001b[1m6s\u001b[0m 4ms/step - accuracy: 0.5822 - f1_score: 0.5781 - loss: 1.3116 - precision_2: 0.7589 - recall_2: 0.4187 - val_accuracy: 0.8515 - val_f1_score: 0.8501 - val_loss: 0.6224 - val_precision_2: 0.9565 - val_recall_2: 0.6833\n",
            "Epoch 43/50\n",
            "\u001b[1m1294/1294\u001b[0m \u001b[32m━━━━━━━━━━━━━━━━━━━━\u001b[0m\u001b[37m\u001b[0m \u001b[1m4s\u001b[0m 3ms/step - accuracy: 0.5771 - f1_score: 0.5727 - loss: 1.3245 - precision_2: 0.7573 - recall_2: 0.4110 - val_accuracy: 0.8417 - val_f1_score: 0.8386 - val_loss: 0.6296 - val_precision_2: 0.9455 - val_recall_2: 0.6833\n",
            "Epoch 44/50\n",
            "\u001b[1m1294/1294\u001b[0m \u001b[32m━━━━━━━━━━━━━━━━━━━━\u001b[0m\u001b[37m\u001b[0m \u001b[1m4s\u001b[0m 3ms/step - accuracy: 0.5760 - f1_score: 0.5717 - loss: 1.3179 - precision_2: 0.7570 - recall_2: 0.4153 - val_accuracy: 0.8447 - val_f1_score: 0.8441 - val_loss: 0.6184 - val_precision_2: 0.9478 - val_recall_2: 0.6871\n",
            "Epoch 45/50\n",
            "\u001b[1m1294/1294\u001b[0m \u001b[32m━━━━━━━━━━━━━━━━━━━━\u001b[0m\u001b[37m\u001b[0m \u001b[1m5s\u001b[0m 4ms/step - accuracy: 0.5821 - f1_score: 0.5776 - loss: 1.3095 - precision_2: 0.7612 - recall_2: 0.4204 - val_accuracy: 0.8455 - val_f1_score: 0.8452 - val_loss: 0.6099 - val_precision_2: 0.9470 - val_recall_2: 0.6909\n",
            "Epoch 46/50\n",
            "\u001b[1m1294/1294\u001b[0m \u001b[32m━━━━━━━━━━━━━━━━━━━━\u001b[0m\u001b[37m\u001b[0m \u001b[1m9s\u001b[0m 3ms/step - accuracy: 0.5773 - f1_score: 0.5734 - loss: 1.3264 - precision_2: 0.7515 - recall_2: 0.4142 - val_accuracy: 0.8508 - val_f1_score: 0.8491 - val_loss: 0.6259 - val_precision_2: 0.9485 - val_recall_2: 0.6841\n",
            "Epoch 47/50\n",
            "\u001b[1m1294/1294\u001b[0m \u001b[32m━━━━━━━━━━━━━━━━━━━━\u001b[0m\u001b[37m\u001b[0m \u001b[1m5s\u001b[0m 4ms/step - accuracy: 0.5834 - f1_score: 0.5795 - loss: 1.3122 - precision_2: 0.7609 - recall_2: 0.4165 - val_accuracy: 0.8515 - val_f1_score: 0.8520 - val_loss: 0.6165 - val_precision_2: 0.9550 - val_recall_2: 0.6909\n",
            "Epoch 48/50\n",
            "\u001b[1m1294/1294\u001b[0m \u001b[32m━━━━━━━━━━━━━━━━━━━━\u001b[0m\u001b[37m\u001b[0m \u001b[1m4s\u001b[0m 3ms/step - accuracy: 0.5789 - f1_score: 0.5743 - loss: 1.3179 - precision_2: 0.7590 - recall_2: 0.4142 - val_accuracy: 0.8530 - val_f1_score: 0.8523 - val_loss: 0.6164 - val_precision_2: 0.9614 - val_recall_2: 0.6985\n",
            "Epoch 49/50\n",
            "\u001b[1m1294/1294\u001b[0m \u001b[32m━━━━━━━━━━━━━━━━━━━━\u001b[0m\u001b[37m\u001b[0m \u001b[1m5s\u001b[0m 3ms/step - accuracy: 0.5804 - f1_score: 0.5760 - loss: 1.3145 - precision_2: 0.7629 - recall_2: 0.4159 - val_accuracy: 0.8500 - val_f1_score: 0.8484 - val_loss: 0.6021 - val_precision_2: 0.9462 - val_recall_2: 0.6924\n",
            "Epoch 50/50\n",
            "\u001b[1m1294/1294\u001b[0m \u001b[32m━━━━━━━━━━━━━━━━━━━━\u001b[0m\u001b[37m\u001b[0m \u001b[1m6s\u001b[0m 3ms/step - accuracy: 0.5814 - f1_score: 0.5771 - loss: 1.3102 - precision_2: 0.7589 - recall_2: 0.4203 - val_accuracy: 0.8530 - val_f1_score: 0.8523 - val_loss: 0.6162 - val_precision_2: 0.9544 - val_recall_2: 0.6811\n"
          ]
        }
      ],
      "source": [
        "result1=model1.fit(x_train,y_train,epochs=50,validation_split=.02,batch_size=50,verbose=1)"
      ]
    },
    {
      "cell_type": "code",
      "execution_count": null,
      "metadata": {
        "id": "ccw5hUJhDOTw"
      },
      "outputs": [],
      "source": [
        "result1_df=pd.DataFrame(result1.history)"
      ]
    },
    {
      "cell_type": "code",
      "execution_count": null,
      "metadata": {
        "colab": {
          "base_uri": "https://localhost:8080/",
          "height": 569
        },
        "id": "YHEcW190VKxG",
        "outputId": "1eccb9f3-9c1f-49dc-c02d-5872c04e44bb"
      },
      "outputs": [
        {
          "data": {
            "image/png": "[encoded data removed]",
            "text/plain": [
              "<Figure size 1200x600 with 2 Axes>"
            ]
          },
          "metadata": {},
          "output_type": "display_data"
        }
      ],
      "source": [
        "# Create a DataFrame from the training history\n",
        "result1_df1 = pd.DataFrame(result1.history)\n",
        "\n",
        "import matplotlib.pyplot as plt\n",
        "\n",
        "# Determine the number of epochs based on the length of accuracy data\n",
        "epochs = range(1, len(result1_df1[\"accuracy\"]) + 1)\n",
        "\n",
        "# Plot training and validation accuracy\n",
        "plt.figure(figsize=(12, 6))\n",
        "\n",
        "# Plot accuracy\n",
        "plt.subplot(1, 2, 1)\n",
        "plt.plot(epochs, result1_df1[\"accuracy\"], label=\"Train Accuracy\")\n",
        "plt.plot(epochs, result1_df1[\"val_accuracy\"], label=\"Validation Accuracy\")\n",
        "plt.title(\"Model Accuracy\")\n",
        "plt.xlabel(\"Epochs\")\n",
        "plt.ylabel(\"Accuracy\")\n",
        "plt.legend()\n",
        "\n",
        "# Plot training and validation loss\n",
        "plt.subplot(1, 2, 2)\n",
        "plt.plot(epochs, result1_df1[\"loss\"], label=\"Train Loss\")\n",
        "plt.plot(epochs, result1_df1[\"val_loss\"], label=\"Validation Loss\")\n",
        "plt.title(\"Model Loss\")\n",
        "plt.xlabel(\"Epochs\")\n",
        "plt.ylabel(\"Loss\")\n",
        "plt.legend()\n",
        "\n",
        "# Show the plots\n",
        "plt.tight_layout()\n",
        "plt.show()\n"
      ]
    }
  ],
  "metadata": {
    "colab": {
      "provenance": [],
      "authorship_tag": "ABX9TyPC0F1RUArSg8LHXaH6VyWc",
      "include_colab_link": true
    },
    "kernelspec": {
      "display_name": "Python 3",
      "name": "python3"
    },
    "language_info": {
      "name": "python"
    }
  },
  "nbformat": 4,
  "nbformat_minor": 0
}